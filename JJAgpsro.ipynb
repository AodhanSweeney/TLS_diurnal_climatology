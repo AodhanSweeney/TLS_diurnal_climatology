{
 "cells": [
  {
   "cell_type": "code",
   "execution_count": 1,
   "metadata": {},
   "outputs": [],
   "source": [
    "import numpy as np\n",
    "import pandas as pd\n",
    "import matplotlib.pyplot as plt\n",
    "import gpsro_tools"
   ]
  },
  {
   "cell_type": "markdown",
   "metadata": {},
   "source": [
    "# Import Occultation Data"
   ]
  },
  {
   "cell_type": "code",
   "execution_count": 2,
   "metadata": {},
   "outputs": [],
   "source": [
    "# Import occultation data\n",
    "june_year_info = np.load('/usb/monthly_diurnal_cycle_data_occultations/june_cosmic_diurnal_cycles_TLS_year_info.npy', allow_pickle=True)\n",
    "august_year_info = np.load('/usb/monthly_diurnal_cycle_data_occultations/august_cosmic_diurnal_cycles_TLS_year_info.npy', allow_pickle=True)\n",
    "july_year_info = np.load('/usb/monthly_diurnal_cycle_data_occultations/july_cosmic_diurnal_cycles_TLS_year_info.npy', allow_pickle=True)\n",
    "\n",
    "june_year_info_metopa = np.load('/usb/monthly_diurnal_cycle_data_occultations/june_metop_A_diurnal_cycles_TLS_year_info.npy', allow_pickle=True)\n",
    "august_year_info_metopa = np.load('/usb/monthly_diurnal_cycle_data_occultations/august_metop_A_diurnal_cycles_TLS_year_info.npy', allow_pickle=True)\n",
    "july_year_info_metopa = np.load('/usb/monthly_diurnal_cycle_data_occultations/july_metop_A_diurnal_cycles_TLS_year_info.npy', allow_pickle=True)\n",
    "\n",
    "june_year_info_metopb = np.load('/usb/monthly_diurnal_cycle_data_occultations/june_metop_B_diurnal_cycles_TLS_year_info.npy', allow_pickle=True)\n",
    "august_year_info_metopb = np.load('/usb/monthly_diurnal_cycle_data_occultations/august_metop_B_diurnal_cycles_TLS_year_info.npy', allow_pickle=True)\n",
    "july_year_info_metopb = np.load('/usb/monthly_diurnal_cycle_data_occultations/july_metop_B_diurnal_cycles_TLS_year_info.npy', allow_pickle=True)\n",
    "\n",
    "june_year_info_grace = np.load('/usb/monthly_diurnal_cycle_data_occultations/june_grace_diurnal_cycles_TLS_year_info.npy', allow_pickle=True)\n",
    "august_year_info_grace = np.load('/usb/monthly_diurnal_cycle_data_occultations/august_grace_diurnal_cycles_TLS_year_info.npy', allow_pickle=True)\n",
    "july_year_info_grace = np.load('/usb/monthly_diurnal_cycle_data_occultations/july_grace_diurnal_cycles_TLS_year_info.npy', allow_pickle=True)\n",
    "\n",
    "june_year_info_tsx = np.load('/usb/monthly_diurnal_cycle_data_occultations/june_tsx_diurnal_cycles_TLS_year_info.npy', allow_pickle=True)\n",
    "august_year_info_tsx = np.load('/usb/monthly_diurnal_cycle_data_occultations/august_tsx_diurnal_cycles_TLS_year_info.npy', allow_pickle=True)\n",
    "july_year_info_tsx = np.load('/usb/monthly_diurnal_cycle_data_occultations/july_tsx_diurnal_cycles_TLS_year_info.npy', allow_pickle=True)\n",
    "\n",
    "june_year_info_kompsat5 = np.load('/usb/monthly_diurnal_cycle_data_occultations/june_kompsat5_diurnal_cycles_TLS_year_info.npy', allow_pickle=True)\n",
    "august_year_info_kompsat5 = np.load('/usb/monthly_diurnal_cycle_data_occultations/august_kompsat5_diurnal_cycles_TLS_year_info.npy', allow_pickle=True)\n",
    "july_year_info_kompsat5 = np.load('/usb/monthly_diurnal_cycle_data_occultations/july_kompsat5_diurnal_cycles_TLS_year_info.npy', allow_pickle=True)\n",
    "\n",
    "june_year_info_paz = np.load('/usb/monthly_diurnal_cycle_data_occultations/june_paz_diurnal_cycles_TLS_year_info.npy', allow_pickle=True)\n",
    "august_year_info_paz = np.load('/usb/monthly_diurnal_cycle_data_occultations/august_paz_diurnal_cycles_TLS_year_info.npy', allow_pickle=True)\n",
    "july_year_info_paz = np.load('/usb/monthly_diurnal_cycle_data_occultations/july_paz_diurnal_cycles_TLS_year_info.npy', allow_pickle=True)\n",
    "\n",
    "june_year_info_cosmic2 = np.load('/usb/monthly_diurnal_cycle_data_occultations/june_cosmic2_diurnal_cycles_TLS_year_info.npy', allow_pickle=True)\n",
    "august_year_info_cosmic2 = np.load('/usb/monthly_diurnal_cycle_data_occultations/august_cosmic2_diurnal_cycles_TLS_year_info.npy', allow_pickle=True)\n",
    "july_year_info_cosmic2 = np.load('/usb/monthly_diurnal_cycle_data_occultations/july_cosmic2_diurnal_cycles_TLS_year_info.npy', allow_pickle=True)\n",
    "\n",
    "june_year_info_sacc = np.load('/usb/monthly_diurnal_cycle_data_occultations/june_sacc_diurnal_cycles_TLS_year_info.npy', allow_pickle=True)\n",
    "august_year_info_sacc = np.load('/usb/monthly_diurnal_cycle_data_occultations/august_sacc_diurnal_cycles_TLS_year_info.npy', allow_pickle=True)\n",
    "july_year_info_sacc = np.load('/usb/monthly_diurnal_cycle_data_occultations/july_sacc_diurnal_cycles_TLS_year_info.npy', allow_pickle=True)\n",
    "\n",
    "june_year_info_tdx = np.load('/usb/monthly_diurnal_cycle_data_occultations/june_tdx_diurnal_cycles_TLS_year_info.npy', allow_pickle=True)\n",
    "august_year_info_tdx = np.load('/usb/monthly_diurnal_cycle_data_occultations/august_tdx_diurnal_cycles_TLS_year_info.npy', allow_pickle=True)\n",
    "july_year_info_tdx = np.load('/usb/monthly_diurnal_cycle_data_occultations/july_tdx_diurnal_cycles_TLS_year_info.npy', allow_pickle=True)\n",
    "\n",
    "june_year_info_metopc = np.load('/usb/monthly_diurnal_cycle_data_occultations/june_metopc_diurnal_cycles_TLS_year_info.npy', allow_pickle=True)\n",
    "august_year_info_metopc = np.load('/usb/monthly_diurnal_cycle_data_occultations/august_metopc_diurnal_cycles_TLS_year_info.npy', allow_pickle=True)\n",
    "july_year_info_metopc = np.load('/usb/monthly_diurnal_cycle_data_occultations/july_metopc_diurnal_cycles_TLS_year_info.npy', allow_pickle=True)\n",
    "\n",
    "\n",
    "aug_data = np.concatenate((august_year_info.T, august_year_info_metopa.T, august_year_info_metopb.T, \n",
    "                           august_year_info_grace.T, august_year_info_tsx.T, august_year_info_kompsat5.T, \n",
    "                           august_year_info_cosmic2.T, august_year_info_paz.T, august_year_info_sacc.T, \n",
    "                           august_year_info_tdx.T, august_year_info_metopc.T))\n",
    "july_data = np.concatenate((july_year_info.T, july_year_info_metopa.T, july_year_info_metopb.T,\n",
    "                           july_year_info_grace.T, july_year_info_tsx.T, july_year_info_kompsat5.T, \n",
    "                           july_year_info_cosmic2.T, july_year_info_paz.T, july_year_info_sacc.T, \n",
    "                           july_year_info_tdx.T, july_year_info_metopc.T))\n",
    "jun_data = np.concatenate((june_year_info.T, june_year_info_metopa.T, june_year_info_metopb.T, \n",
    "                           june_year_info_grace.T, june_year_info_tsx.T, june_year_info_kompsat5.T, \n",
    "                           june_year_info_cosmic2.T, june_year_info_paz.T, june_year_info_sacc.T, \n",
    "                           june_year_info_tdx.T, june_year_info_metopc.T))\n",
    "\n",
    "#create dataframes for season\n",
    "aug_year_info_df = pd.DataFrame(aug_data, columns=['Lat', 'Lon', 'Year', 'Day', 'Hour', 'Temp'])\n",
    "july_year_info_df = pd.DataFrame(july_data, columns=['Lat', 'Lon', 'Year', 'Day', 'Hour', 'Temp'])\n",
    "jun_year_info_df = pd.DataFrame(jun_data, columns=['Lat', 'Lon', 'Year', 'Day', 'Hour', 'Temp'])\n",
    "\n",
    "# Round hours to nearest integer\n",
    "to_int_hour = lambda x: int(x)\n",
    "jun_year_info_df[\"Hour\"] = jun_year_info_df.Hour.map(to_int_hour)\n",
    "aug_year_info_df[\"Hour\"] = aug_year_info_df.Hour.map(to_int_hour)\n",
    "july_year_info_df[\"Hour\"] = july_year_info_df.Hour.map(to_int_hour)\n"
   ]
  },
  {
   "cell_type": "markdown",
   "metadata": {},
   "source": [
    "# Import ERA-5 Data"
   ]
  },
  {
   "cell_type": "code",
   "execution_count": 3,
   "metadata": {},
   "outputs": [
    {
     "name": "stderr",
     "output_type": "stream",
     "text": [
      "/home/disk/p/aodhan/cosmic/diurnal_cycle_corrections/sampling_biases/TLS_diurnal_climatology/gpsro_tools.py:152: SettingWithCopyWarning: \n",
      "A value is trying to be set on a copy of a slice from a DataFrame.\n",
      "Try using .loc[row_indexer,col_indexer] = value instead\n",
      "\n",
      "See the caveats in the documentation: http://pandas.pydata.org/pandas-docs/stable/user_guide/indexing.html#returning-a-view-versus-a-copy\n",
      "  era_5_df_pos_lons['Lon'] = era_5_df_pos_lons['Lon'] - 180.\n",
      "/home/disk/p/aodhan/cosmic/diurnal_cycle_corrections/sampling_biases/TLS_diurnal_climatology/gpsro_tools.py:153: SettingWithCopyWarning: \n",
      "A value is trying to be set on a copy of a slice from a DataFrame.\n",
      "Try using .loc[row_indexer,col_indexer] = value instead\n",
      "\n",
      "See the caveats in the documentation: http://pandas.pydata.org/pandas-docs/stable/user_guide/indexing.html#returning-a-view-versus-a-copy\n",
      "  era_5_df_neg_lons['Lon'] = era_5_df_neg_lons['Lon'] + 180\n"
     ]
    }
   ],
   "source": [
    "era_5_aug_06_5x10 = np.load('../../ERA_5_monthly_TLS_maps/august_2006_ERA_5_daily_zonal_mean_TLS_map_5_10.npy', allow_pickle=True)\n",
    "era_5_aug_07_5x10 = np.load('../../ERA_5_monthly_TLS_maps/august_2007_ERA_5_daily_zonal_mean_TLS_map_5_10.npy', allow_pickle=True)\n",
    "era_5_aug_08_5x10 = np.load('../../ERA_5_monthly_TLS_maps/august_2008_ERA_5_daily_zonal_mean_TLS_map_5_10.npy', allow_pickle=True)\n",
    "era_5_aug_09_5x10 = np.load('../../ERA_5_monthly_TLS_maps/august_2009_ERA_5_daily_zonal_mean_TLS_map_5_10.npy', allow_pickle=True)\n",
    "era_5_aug_10_5x10 = np.load('../../ERA_5_monthly_TLS_maps/august_2010_ERA_5_daily_zonal_mean_TLS_map_5_10.npy', allow_pickle=True)\n",
    "era_5_aug_11_5x10 = np.load('../../ERA_5_monthly_TLS_maps/august_2011_ERA_5_daily_zonal_mean_TLS_map_5_10.npy', allow_pickle=True)\n",
    "era_5_aug_12_5x10 = np.load('../../ERA_5_monthly_TLS_maps/august_2012_ERA_5_daily_zonal_mean_TLS_map_5_10.npy', allow_pickle=True)\n",
    "era_5_aug_13_5x10 = np.load('../../ERA_5_monthly_TLS_maps/august_2013_ERA_5_daily_zonal_mean_TLS_map_5_10.npy', allow_pickle=True)\n",
    "era_5_aug_14_5x10 = np.load('../../ERA_5_monthly_TLS_maps/august_2014_ERA_5_daily_zonal_mean_TLS_map_5_10.npy', allow_pickle=True)\n",
    "era_5_aug_15_5x10 = np.load('../../ERA_5_monthly_TLS_maps/august_2015_ERA_5_daily_zonal_mean_TLS_map_5_10.npy', allow_pickle=True)\n",
    "era_5_aug_16_5x10 = np.load('../../ERA_5_monthly_TLS_maps/august_2016_ERA_5_daily_zonal_mean_TLS_map_5_10.npy', allow_pickle=True)\n",
    "era_5_aug_17_5x10 = np.load('../../ERA_5_monthly_TLS_maps/august_2017_ERA_5_daily_zonal_mean_TLS_map_5_10.npy', allow_pickle=True)\n",
    "era_5_aug_18_5x10 = np.load('../../ERA_5_monthly_TLS_maps/august_2018_ERA_5_daily_zonal_mean_TLS_map_5_10.npy', allow_pickle=True)\n",
    "era_5_aug_19_5x10 = np.load('../../ERA_5_monthly_TLS_maps/august_2019_ERA_5_daily_zonal_mean_TLS_map_5_10.npy', allow_pickle=True)\n",
    "era_5_aug_20_5x10 = np.load('../../ERA_5_monthly_TLS_maps/august_2020_ERA_5_daily_zonal_mean_TLS_map_5_10.npy', allow_pickle=True)\n",
    "\n",
    "era_5_july_06_5x10 = np.load('../../ERA_5_monthly_TLS_maps/july_2006_ERA_5_daily_zonal_mean_TLS_map_5_10.npy', allow_pickle=True)\n",
    "era_5_july_07_5x10 = np.load('../../ERA_5_monthly_TLS_maps/july_2007_ERA_5_daily_zonal_mean_TLS_map_5_10.npy', allow_pickle=True)\n",
    "era_5_july_08_5x10 = np.load('../../ERA_5_monthly_TLS_maps/july_2008_ERA_5_daily_zonal_mean_TLS_map_5_10.npy', allow_pickle=True)\n",
    "era_5_july_09_5x10 = np.load('../../ERA_5_monthly_TLS_maps/july_2009_ERA_5_daily_zonal_mean_TLS_map_5_10.npy', allow_pickle=True)\n",
    "era_5_july_10_5x10 = np.load('../../ERA_5_monthly_TLS_maps/july_2010_ERA_5_daily_zonal_mean_TLS_map_5_10.npy', allow_pickle=True)\n",
    "era_5_july_11_5x10 = np.load('../../ERA_5_monthly_TLS_maps/july_2011_ERA_5_daily_zonal_mean_TLS_map_5_10.npy', allow_pickle=True)\n",
    "era_5_july_12_5x10 = np.load('../../ERA_5_monthly_TLS_maps/july_2012_ERA_5_daily_zonal_mean_TLS_map_5_10.npy', allow_pickle=True)\n",
    "era_5_july_13_5x10 = np.load('../../ERA_5_monthly_TLS_maps/july_2013_ERA_5_daily_zonal_mean_TLS_map_5_10.npy', allow_pickle=True)\n",
    "era_5_july_14_5x10 = np.load('../../ERA_5_monthly_TLS_maps/july_2014_ERA_5_daily_zonal_mean_TLS_map_5_10.npy', allow_pickle=True)\n",
    "era_5_july_15_5x10 = np.load('../../ERA_5_monthly_TLS_maps/july_2015_ERA_5_daily_zonal_mean_TLS_map_5_10.npy', allow_pickle=True)\n",
    "era_5_july_16_5x10 = np.load('../../ERA_5_monthly_TLS_maps/july_2016_ERA_5_daily_zonal_mean_TLS_map_5_10.npy', allow_pickle=True)\n",
    "era_5_july_17_5x10 = np.load('../../ERA_5_monthly_TLS_maps/july_2017_ERA_5_daily_zonal_mean_TLS_map_5_10.npy', allow_pickle=True)\n",
    "era_5_july_18_5x10 = np.load('../../ERA_5_monthly_TLS_maps/july_2018_ERA_5_daily_zonal_mean_TLS_map_5_10.npy', allow_pickle=True)\n",
    "era_5_july_19_5x10 = np.load('../../ERA_5_monthly_TLS_maps/july_2019_ERA_5_daily_zonal_mean_TLS_map_5_10.npy', allow_pickle=True)\n",
    "era_5_july_20_5x10 = np.load('../../ERA_5_monthly_TLS_maps/july_2020_ERA_5_daily_zonal_mean_TLS_map_5_10.npy', allow_pickle=True)\n",
    "\n",
    "era_5_jun_06_5x10 = np.load('../../ERA_5_monthly_TLS_maps/june_2006_ERA_5_daily_zonal_mean_TLS_map_5_10.npy', allow_pickle=True)\n",
    "era_5_jun_07_5x10 = np.load('../../ERA_5_monthly_TLS_maps/june_2007_ERA_5_daily_zonal_mean_TLS_map_5_10.npy', allow_pickle=True)\n",
    "era_5_jun_08_5x10 = np.load('../../ERA_5_monthly_TLS_maps/june_2008_ERA_5_daily_zonal_mean_TLS_map_5_10.npy', allow_pickle=True)\n",
    "era_5_jun_09_5x10 = np.load('../../ERA_5_monthly_TLS_maps/june_2009_ERA_5_daily_zonal_mean_TLS_map_5_10.npy', allow_pickle=True)\n",
    "era_5_jun_10_5x10 = np.load('../../ERA_5_monthly_TLS_maps/june_2010_ERA_5_daily_zonal_mean_TLS_map_5_10.npy', allow_pickle=True)\n",
    "era_5_jun_11_5x10 = np.load('../../ERA_5_monthly_TLS_maps/june_2011_ERA_5_daily_zonal_mean_TLS_map_5_10.npy', allow_pickle=True)\n",
    "era_5_jun_12_5x10 = np.load('../../ERA_5_monthly_TLS_maps/june_2012_ERA_5_daily_zonal_mean_TLS_map_5_10.npy', allow_pickle=True)\n",
    "era_5_jun_13_5x10 = np.load('../../ERA_5_monthly_TLS_maps/june_2013_ERA_5_daily_zonal_mean_TLS_map_5_10.npy', allow_pickle=True)\n",
    "era_5_jun_14_5x10 = np.load('../../ERA_5_monthly_TLS_maps/june_2014_ERA_5_daily_zonal_mean_TLS_map_5_10.npy', allow_pickle=True)\n",
    "era_5_jun_15_5x10 = np.load('../../ERA_5_monthly_TLS_maps/june_2015_ERA_5_daily_zonal_mean_TLS_map_5_10.npy', allow_pickle=True)\n",
    "era_5_jun_16_5x10 = np.load('../../ERA_5_monthly_TLS_maps/june_2016_ERA_5_daily_zonal_mean_TLS_map_5_10.npy', allow_pickle=True)\n",
    "era_5_jun_17_5x10 = np.load('../../ERA_5_monthly_TLS_maps/june_2017_ERA_5_daily_zonal_mean_TLS_map_5_10.npy', allow_pickle=True)\n",
    "era_5_jun_18_5x10 = np.load('../../ERA_5_monthly_TLS_maps/june_2018_ERA_5_daily_zonal_mean_TLS_map_5_10.npy', allow_pickle=True)\n",
    "era_5_jun_19_5x10 = np.load('../../ERA_5_monthly_TLS_maps/june_2019_ERA_5_daily_zonal_mean_TLS_map_5_10.npy', allow_pickle=True)\n",
    "era_5_jun_20_5x10 = np.load('../../ERA_5_monthly_TLS_maps/june_2020_ERA_5_daily_zonal_mean_TLS_map_5_10.npy', allow_pickle=True)\n",
    "\n",
    "era_5_jun_07_5x10_df = gpsro_tools.era5_df_switcher(era_5_jun_07_5x10)\n",
    "era_5_jun_08_5x10_df = gpsro_tools.era5_df_switcher(era_5_jun_08_5x10)\n",
    "era_5_jun_09_5x10_df = gpsro_tools.era5_df_switcher(era_5_jun_09_5x10)\n",
    "era_5_jun_10_5x10_df = gpsro_tools.era5_df_switcher(era_5_jun_10_5x10)\n",
    "era_5_jun_11_5x10_df = gpsro_tools.era5_df_switcher(era_5_jun_11_5x10)\n",
    "era_5_jun_12_5x10_df = gpsro_tools.era5_df_switcher(era_5_jun_12_5x10)\n",
    "era_5_jun_13_5x10_df = gpsro_tools.era5_df_switcher(era_5_jun_13_5x10)\n",
    "era_5_jun_14_5x10_df = gpsro_tools.era5_df_switcher(era_5_jun_14_5x10)\n",
    "era_5_jun_15_5x10_df = gpsro_tools.era5_df_switcher(era_5_jun_15_5x10)\n",
    "era_5_jun_16_5x10_df = gpsro_tools.era5_df_switcher(era_5_jun_16_5x10)\n",
    "era_5_jun_17_5x10_df = gpsro_tools.era5_df_switcher(era_5_jun_17_5x10)\n",
    "era_5_jun_18_5x10_df = gpsro_tools.era5_df_switcher(era_5_jun_18_5x10)\n",
    "era_5_jun_19_5x10_df = gpsro_tools.era5_df_switcher(era_5_jun_19_5x10)\n",
    "era_5_jun_20_5x10_df = gpsro_tools.era5_df_switcher(era_5_jun_20_5x10)\n",
    "\n",
    "era_5_aug_07_5x10_df = gpsro_tools.era5_df_switcher(era_5_aug_07_5x10)\n",
    "era_5_aug_08_5x10_df = gpsro_tools.era5_df_switcher(era_5_aug_08_5x10)\n",
    "era_5_aug_09_5x10_df = gpsro_tools.era5_df_switcher(era_5_aug_09_5x10)\n",
    "era_5_aug_10_5x10_df = gpsro_tools.era5_df_switcher(era_5_aug_10_5x10)\n",
    "era_5_aug_11_5x10_df = gpsro_tools.era5_df_switcher(era_5_aug_11_5x10)\n",
    "era_5_aug_12_5x10_df = gpsro_tools.era5_df_switcher(era_5_aug_12_5x10)\n",
    "era_5_aug_13_5x10_df = gpsro_tools.era5_df_switcher(era_5_aug_13_5x10)\n",
    "era_5_aug_14_5x10_df = gpsro_tools.era5_df_switcher(era_5_aug_14_5x10)\n",
    "era_5_aug_15_5x10_df = gpsro_tools.era5_df_switcher(era_5_aug_15_5x10)\n",
    "era_5_aug_16_5x10_df = gpsro_tools.era5_df_switcher(era_5_aug_16_5x10)\n",
    "era_5_aug_17_5x10_df = gpsro_tools.era5_df_switcher(era_5_aug_17_5x10)\n",
    "era_5_aug_18_5x10_df = gpsro_tools.era5_df_switcher(era_5_aug_18_5x10)\n",
    "era_5_aug_19_5x10_df = gpsro_tools.era5_df_switcher(era_5_aug_19_5x10)\n",
    "era_5_aug_20_5x10_df = gpsro_tools.era5_df_switcher(era_5_aug_20_5x10)\n",
    "\n",
    "era_5_july_06_5x10_df = gpsro_tools.era5_df_switcher(era_5_july_06_5x10)\n",
    "era_5_july_07_5x10_df = gpsro_tools.era5_df_switcher(era_5_july_07_5x10)\n",
    "era_5_july_08_5x10_df = gpsro_tools.era5_df_switcher(era_5_july_08_5x10)\n",
    "era_5_july_09_5x10_df = gpsro_tools.era5_df_switcher(era_5_july_09_5x10)\n",
    "era_5_july_10_5x10_df = gpsro_tools.era5_df_switcher(era_5_july_10_5x10)\n",
    "era_5_july_11_5x10_df = gpsro_tools.era5_df_switcher(era_5_july_11_5x10)\n",
    "era_5_july_12_5x10_df = gpsro_tools.era5_df_switcher(era_5_july_12_5x10)\n",
    "era_5_july_13_5x10_df = gpsro_tools.era5_df_switcher(era_5_july_13_5x10)\n",
    "era_5_july_14_5x10_df = gpsro_tools.era5_df_switcher(era_5_july_14_5x10)\n",
    "era_5_july_15_5x10_df = gpsro_tools.era5_df_switcher(era_5_july_15_5x10)\n",
    "era_5_july_16_5x10_df = gpsro_tools.era5_df_switcher(era_5_july_16_5x10)\n",
    "era_5_july_17_5x10_df = gpsro_tools.era5_df_switcher(era_5_july_17_5x10)\n",
    "era_5_july_18_5x10_df = gpsro_tools.era5_df_switcher(era_5_july_18_5x10)\n",
    "era_5_july_19_5x10_df = gpsro_tools.era5_df_switcher(era_5_july_19_5x10)\n",
    "\n",
    "era_5_jun_df = pd.concat([era_5_jun_07_5x10_df, era_5_jun_08_5x10_df, era_5_jun_09_5x10_df, era_5_jun_10_5x10_df, \n",
    "                          era_5_jun_11_5x10_df, era_5_jun_12_5x10_df, era_5_jun_13_5x10_df, era_5_jun_14_5x10_df, \n",
    "                          era_5_jun_15_5x10_df, era_5_jun_16_5x10_df, era_5_jun_17_5x10_df, era_5_jun_18_5x10_df, \n",
    "                          era_5_jun_19_5x10_df, era_5_jun_20_5x10_df])\n",
    "era_5_aug_df = pd.concat([era_5_aug_07_5x10_df, era_5_aug_08_5x10_df, era_5_aug_09_5x10_df, era_5_aug_10_5x10_df, \n",
    "                          era_5_aug_11_5x10_df, era_5_aug_12_5x10_df, era_5_aug_13_5x10_df, era_5_aug_14_5x10_df, \n",
    "                          era_5_aug_15_5x10_df, era_5_aug_16_5x10_df, era_5_aug_17_5x10_df, era_5_aug_18_5x10_df, \n",
    "                          era_5_aug_19_5x10_df, era_5_aug_20_5x10_df])\n",
    "era_5_july_df = pd.concat([era_5_july_06_5x10_df, era_5_july_07_5x10_df, era_5_july_08_5x10_df, era_5_july_09_5x10_df, \n",
    "                          era_5_july_10_5x10_df, era_5_july_11_5x10_df, era_5_july_12_5x10_df, era_5_july_13_5x10_df, \n",
    "                          era_5_july_14_5x10_df, era_5_july_15_5x10_df, era_5_july_16_5x10_df, era_5_july_17_5x10_df, \n",
    "                          era_5_july_18_5x10_df, era_5_july_19_5x10_df])"
   ]
  },
  {
   "cell_type": "markdown",
   "metadata": {},
   "source": [
    "# Begin processing"
   ]
  },
  {
   "cell_type": "code",
   "execution_count": 4,
   "metadata": {},
   "outputs": [
    {
     "name": "stdout",
     "output_type": "stream",
     "text": [
      "2006\n"
     ]
    },
    {
     "name": "stderr",
     "output_type": "stream",
     "text": [
      "/home/disk/p/aodhan/cosmic/diurnal_cycle_corrections/sampling_biases/TLS_diurnal_climatology/gpsro_tools.py:196: SettingWithCopyWarning: \n",
      "A value is trying to be set on a copy of a slice from a DataFrame.\n",
      "Try using .loc[row_indexer,col_indexer] = value instead\n",
      "\n",
      "See the caveats in the documentation: http://pandas.pydata.org/pandas-docs/stable/user_guide/indexing.html#returning-a-view-versus-a-copy\n",
      "  year_of_occultations[\"latbin\"] = year_of_occultations.Lat.map(to_bin_lat)\n",
      "/home/disk/p/aodhan/cosmic/diurnal_cycle_corrections/sampling_biases/TLS_diurnal_climatology/gpsro_tools.py:197: SettingWithCopyWarning: \n",
      "A value is trying to be set on a copy of a slice from a DataFrame.\n",
      "Try using .loc[row_indexer,col_indexer] = value instead\n",
      "\n",
      "See the caveats in the documentation: http://pandas.pydata.org/pandas-docs/stable/user_guide/indexing.html#returning-a-view-versus-a-copy\n",
      "  year_of_occultations['lonbin'] = year_of_occultations.Lon.map(to_bin_lon)\n"
     ]
    },
    {
     "name": "stdout",
     "output_type": "stream",
     "text": [
      "2007\n"
     ]
    },
    {
     "name": "stderr",
     "output_type": "stream",
     "text": [
      "/home/disk/p/aodhan/anaconda3/lib/python3.7/site-packages/pandas/core/generic.py:5208: SettingWithCopyWarning: \n",
      "A value is trying to be set on a copy of a slice from a DataFrame.\n",
      "Try using .loc[row_indexer,col_indexer] = value instead\n",
      "\n",
      "See the caveats in the documentation: http://pandas.pydata.org/pandas-docs/stable/user_guide/indexing.html#returning-a-view-versus-a-copy\n",
      "  self[name] = value\n",
      "/home/disk/p/aodhan/cosmic/diurnal_cycle_corrections/sampling_biases/TLS_diurnal_climatology/gpsro_tools.py:37: FutureWarning: Interpreting tuple 'by' as a list of keys, rather than a single key. Use 'by=[...]' instead of 'by=(...)'. In the future, a tuple will always mean a single key.\n",
      "  grid_groups = season_of_cosmic_data.groupby((\"latbin\", 'lonbin'))\n",
      "/home/disk/p/aodhan/cosmic/diurnal_cycle_corrections/sampling_biases/TLS_diurnal_climatology/gpsro_tools.py:51: SettingWithCopyWarning: \n",
      "A value is trying to be set on a copy of a slice from a DataFrame\n",
      "\n",
      "See the caveats in the documentation: http://pandas.pydata.org/pandas-docs/stable/user_guide/indexing.html#returning-a-view-versus-a-copy\n",
      "  cosmic_grid_cell.dropna(subset=[\"Temp\"], inplace=True)\n",
      "/home/disk/p/aodhan/cosmic/diurnal_cycle_corrections/sampling_biases/TLS_diurnal_climatology/gpsro_tools.py:121: SettingWithCopyWarning: \n",
      "A value is trying to be set on a copy of a slice from a DataFrame.\n",
      "Try using .loc[row_indexer,col_indexer] = value instead\n",
      "\n",
      "See the caveats in the documentation: http://pandas.pydata.org/pandas-docs/stable/user_guide/indexing.html#returning-a-view-versus-a-copy\n",
      "  occultations_in_box['Temp'] = occultations_in_box['Temp'] - monthly_mean_in_box['Temp'].iloc[0]\n"
     ]
    },
    {
     "name": "stdout",
     "output_type": "stream",
     "text": [
      "2008\n"
     ]
    },
    {
     "name": "stderr",
     "output_type": "stream",
     "text": [
      "/home/disk/p/aodhan/cosmic/diurnal_cycle_corrections/sampling_biases/TLS_diurnal_climatology/gpsro_tools.py:213: RuntimeWarning: Mean of empty slice\n",
      "  daily_mean = np.nanmean(era5_daily_temps)\n"
     ]
    },
    {
     "name": "stdout",
     "output_type": "stream",
     "text": [
      "2009\n",
      "2010\n",
      "2011\n",
      "2012\n",
      "2013\n",
      "2014\n",
      "2015\n",
      "2016\n",
      "2017\n",
      "2018\n",
      "2019\n",
      "2020\n",
      "2006\n"
     ]
    },
    {
     "name": "stderr",
     "output_type": "stream",
     "text": [
      "/home/disk/p/aodhan/cosmic/diurnal_cycle_corrections/sampling_biases/TLS_diurnal_climatology/gpsro_tools.py:66: RuntimeWarning: Mean of empty slice\n",
      "  daily_mean_temp = np.nanmean(daily_average_bins)\n"
     ]
    },
    {
     "name": "stdout",
     "output_type": "stream",
     "text": [
      "2007\n",
      "2008\n",
      "2009\n",
      "2010\n",
      "2011\n",
      "2012\n",
      "2013\n",
      "2014\n",
      "2015\n",
      "2016\n",
      "2017\n",
      "2018\n",
      "2019\n",
      "2020\n",
      "2006\n",
      "2007\n",
      "2008\n",
      "2009\n",
      "2010\n",
      "2011\n",
      "2012\n",
      "2013\n",
      "2014\n",
      "2015\n",
      "2016\n",
      "2017\n",
      "2018\n",
      "2019\n",
      "2020\n"
     ]
    }
   ],
   "source": [
    "daily_era5_removed_and_bias_removed_aug = gpsro_tools.background_and_bias_remover(aug_year_info_df, era_5_aug_df)\n",
    "daily_era5_removed_and_bias_removed_jul = gpsro_tools.background_and_bias_remover(july_year_info_df, era_5_july_df)\n",
    "daily_era5_removed_and_bias_removed_jun = gpsro_tools.background_and_bias_remover(jun_year_info_df, era_5_jun_df)"
   ]
  },
  {
   "cell_type": "markdown",
   "metadata": {},
   "source": [
    "#### Regroup data and drop NaN values"
   ]
  },
  {
   "cell_type": "code",
   "execution_count": 6,
   "metadata": {},
   "outputs": [],
   "source": [
    "data_all_mean_stuff_removed = pd.concat([daily_era5_removed_and_bias_removed_jun, \n",
    "                                         daily_era5_removed_and_bias_removed_jul,\n",
    "                                         daily_era5_removed_and_bias_removed_aug])\n",
    "data_all_mean_stuff_removed.dropna(subset=[\"Temp\"], inplace=True)"
   ]
  },
  {
   "cell_type": "markdown",
   "metadata": {},
   "source": [
    "<h1> Now create the diurnal cycles\n"
   ]
  },
  {
   "cell_type": "code",
   "execution_count": 8,
   "metadata": {},
   "outputs": [
    {
     "name": "stderr",
     "output_type": "stream",
     "text": [
      "/home/disk/p/aodhan/cosmic/diurnal_cycle_corrections/sampling_biases/TLS_diurnal_climatology/gpsro_tools.py:260: SettingWithCopyWarning: \n",
      "A value is trying to be set on a copy of a slice from a DataFrame\n",
      "\n",
      "See the caveats in the documentation: http://pandas.pydata.org/pandas-docs/stable/user_guide/indexing.html#returning-a-view-versus-a-copy\n",
      "  lat_lon_box.dropna(subset = [\"Temp\"], inplace=True)\n",
      "/home/disk/p/aodhan/cosmic/diurnal_cycle_corrections/sampling_biases/TLS_diurnal_climatology/gpsro_tools.py:261: SettingWithCopyWarning: \n",
      "A value is trying to be set on a copy of a slice from a DataFrame.\n",
      "Try using .loc[row_indexer,col_indexer] = value instead\n",
      "\n",
      "See the caveats in the documentation: http://pandas.pydata.org/pandas-docs/stable/user_guide/indexing.html#returning-a-view-versus-a-copy\n",
      "  lat_lon_box['Temp'] = lat_lon_box['Temp'] - lat_lon_box.Temp.mean()\n"
     ]
    }
   ],
   "source": [
    "cleaned_diurnal_cycle_data = gpsro_tools.box_mean_remover(data_all_mean_stuff_removed)\n",
    "diurnal_cycles_by_lat, diurnal_cycles_in_boxes = gpsro_tools.diurnal_binner(cleaned_diurnal_cycle_data)"
   ]
  },
  {
   "cell_type": "code",
   "execution_count": 9,
   "metadata": {},
   "outputs": [],
   "source": [
    "np.save('JJA_GPSRO_5_10_boxes_diurnal_cycles', diurnal_cycles_in_boxes)"
   ]
  },
  {
   "cell_type": "code",
   "execution_count": null,
   "metadata": {},
   "outputs": [],
   "source": []
  }
 ],
 "metadata": {
  "kernelspec": {
   "display_name": "Python 3",
   "language": "python",
   "name": "python3"
  },
  "language_info": {
   "codemirror_mode": {
    "name": "ipython",
    "version": 3
   },
   "file_extension": ".py",
   "mimetype": "text/x-python",
   "name": "python",
   "nbconvert_exporter": "python",
   "pygments_lexer": "ipython3",
   "version": "3.7.4"
  }
 },
 "nbformat": 4,
 "nbformat_minor": 4
}
