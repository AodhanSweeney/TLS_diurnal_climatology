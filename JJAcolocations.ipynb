{
 "cells": [
  {
   "cell_type": "code",
   "execution_count": 2,
   "metadata": {},
   "outputs": [],
   "source": [
    "import numpy as np\n",
    "import pandas as pd\n",
    "import matplotlib.pyplot as plt\n",
    "import gpsro_tools"
   ]
  },
  {
   "cell_type": "markdown",
   "metadata": {},
   "source": [
    "# Import JJA Colocations and ERA-5 all data maps"
   ]
  },
  {
   "cell_type": "code",
   "execution_count": 3,
   "metadata": {},
   "outputs": [
    {
     "name": "stderr",
     "output_type": "stream",
     "text": [
      "/home/disk/p/aodhan/anaconda3/lib/python3.7/site-packages/ipykernel_launcher.py:26: SettingWithCopyWarning: \n",
      "A value is trying to be set on a copy of a slice from a DataFrame.\n",
      "Try using .loc[row_indexer,col_indexer] = value instead\n",
      "\n",
      "See the caveats in the documentation: http://pandas.pydata.org/pandas-docs/stable/user_guide/indexing.html#returning-a-view-versus-a-copy\n",
      "/home/disk/p/aodhan/anaconda3/lib/python3.7/site-packages/ipykernel_launcher.py:27: SettingWithCopyWarning: \n",
      "A value is trying to be set on a copy of a slice from a DataFrame.\n",
      "Try using .loc[row_indexer,col_indexer] = value instead\n",
      "\n",
      "See the caveats in the documentation: http://pandas.pydata.org/pandas-docs/stable/user_guide/indexing.html#returning-a-view-versus-a-copy\n"
     ]
    }
   ],
   "source": [
    "jun_06 = np.load('/usb/ERA_5_sythetic_TLS_maps/ERA_5_occultation_colocated_TLS/june_2006_ERA_5_colocated_occultations.npy', allow_pickle=True)\n",
    "jun_07 = np.load('/usb/ERA_5_sythetic_TLS_maps/ERA_5_occultation_colocated_TLS/june_2007_ERA_5_colocated_occultations.npy', allow_pickle=True)\n",
    "jun_08 = np.load('/usb/ERA_5_sythetic_TLS_maps/ERA_5_occultation_colocated_TLS/june_2008_ERA_5_colocated_occultations.npy', allow_pickle=True)\n",
    "jun_09 = np.load('/usb/ERA_5_sythetic_TLS_maps/ERA_5_occultation_colocated_TLS/june_2009_ERA_5_colocated_occultations.npy', allow_pickle=True)\n",
    "jun_10 = np.load('/usb/ERA_5_sythetic_TLS_maps/ERA_5_occultation_colocated_TLS/june_2010_ERA_5_colocated_occultations.npy', allow_pickle=True)\n",
    "jun_11 = np.load('/usb/ERA_5_sythetic_TLS_maps/ERA_5_occultation_colocated_TLS/june_2011_ERA_5_colocated_occultations.npy', allow_pickle=True)\n",
    "jun_12 = np.load('/usb/ERA_5_sythetic_TLS_maps/ERA_5_occultation_colocated_TLS/june_2012_ERA_5_colocated_occultations.npy', allow_pickle=True)\n",
    "jun_13 = np.load('/usb/ERA_5_sythetic_TLS_maps/ERA_5_occultation_colocated_TLS/june_2013_ERA_5_colocated_occultations.npy', allow_pickle=True)\n",
    "jun_14 = np.load('/usb/ERA_5_sythetic_TLS_maps/ERA_5_occultation_colocated_TLS/june_2014_ERA_5_colocated_occultations.npy', allow_pickle=True)\n",
    "jun_15 = np.load('/usb/ERA_5_sythetic_TLS_maps/ERA_5_occultation_colocated_TLS/june_2015_ERA_5_colocated_occultations.npy', allow_pickle=True)\n",
    "jun_16 = np.load('/usb/ERA_5_sythetic_TLS_maps/ERA_5_occultation_colocated_TLS/june_2016_ERA_5_colocated_occultations.npy', allow_pickle=True)\n",
    "jun_17 = np.load('/usb/ERA_5_sythetic_TLS_maps/ERA_5_occultation_colocated_TLS/june_2017_ERA_5_colocated_occultations.npy', allow_pickle=True)\n",
    "jun_18 = np.load('/usb/ERA_5_sythetic_TLS_maps/ERA_5_occultation_colocated_TLS/june_2018_ERA_5_colocated_occultations.npy', allow_pickle=True)\n",
    "jun_19 = np.load('/usb/ERA_5_sythetic_TLS_maps/ERA_5_occultation_colocated_TLS/june_2019_ERA_5_colocated_occultations.npy', allow_pickle=True)\n",
    "jun_20 = np.load('/usb/ERA_5_sythetic_TLS_maps/ERA_5_occultation_colocated_TLS/june_2020_ERA_5_colocated_occultations.npy', allow_pickle=True)\n",
    "\n",
    "\n",
    "jun_combined = np.concatenate([jun_06, jun_07, jun_08, jun_09, jun_10, jun_11, jun_12, jun_13, jun_14, jun_15, jun_16, jun_17, jun_18,\n",
    "                               jun_19, jun_20])\n",
    "colocations_df = pd.DataFrame(jun_combined, columns=['Day', 'Hour', 'Year', 'Lat', 'Lon', 'Temp'])\n",
    "colocations_df['Lon'] = colocations_df['Lon'] - 180\n",
    "\n",
    "colocations_df_upper  = colocations_df[colocations_df['Lon'] >= 0]\n",
    "colocations_df_lower = colocations_df[colocations_df['Lon'] < 0]\n",
    "\n",
    "colocations_df_upper['Lon'] = colocations_df_upper['Lon'] - 180\n",
    "colocations_df_lower['Lon'] = colocations_df_lower['Lon'] + 180\n",
    "\n",
    "colocations_jun_df = pd.concat([colocations_df_upper, colocations_df_lower])\n",
    "colocations_jun_df['Year'] = colocations_jun_df['Year'].astype(int)\n",
    "#######################################################################################################\n",
    "\n",
    "era_5_jun_06_5x10 = np.load('../../ERA_5_monthly_TLS_maps/june_2006_ERA_5_daily_zonal_mean_TLS_map_5_10.npy', allow_pickle=True)\n",
    "era_5_jun_07_5x10 = np.load('../../ERA_5_monthly_TLS_maps/june_2007_ERA_5_daily_zonal_mean_TLS_map_5_10.npy', allow_pickle=True)\n",
    "era_5_jun_08_5x10 = np.load('../../ERA_5_monthly_TLS_maps/june_2008_ERA_5_daily_zonal_mean_TLS_map_5_10.npy', allow_pickle=True)\n",
    "era_5_jun_09_5x10 = np.load('../../ERA_5_monthly_TLS_maps/june_2009_ERA_5_daily_zonal_mean_TLS_map_5_10.npy', allow_pickle=True)\n",
    "era_5_jun_10_5x10 = np.load('../../ERA_5_monthly_TLS_maps/june_2010_ERA_5_daily_zonal_mean_TLS_map_5_10.npy', allow_pickle=True)\n",
    "era_5_jun_11_5x10 = np.load('../../ERA_5_monthly_TLS_maps/june_2011_ERA_5_daily_zonal_mean_TLS_map_5_10.npy', allow_pickle=True)\n",
    "era_5_jun_12_5x10 = np.load('../../ERA_5_monthly_TLS_maps/june_2012_ERA_5_daily_zonal_mean_TLS_map_5_10.npy', allow_pickle=True)\n",
    "era_5_jun_13_5x10 = np.load('../../ERA_5_monthly_TLS_maps/june_2013_ERA_5_daily_zonal_mean_TLS_map_5_10.npy', allow_pickle=True)\n",
    "era_5_jun_14_5x10 = np.load('../../ERA_5_monthly_TLS_maps/june_2014_ERA_5_daily_zonal_mean_TLS_map_5_10.npy', allow_pickle=True)\n",
    "era_5_jun_15_5x10 = np.load('../../ERA_5_monthly_TLS_maps/june_2015_ERA_5_daily_zonal_mean_TLS_map_5_10.npy', allow_pickle=True)\n",
    "era_5_jun_16_5x10 = np.load('../../ERA_5_monthly_TLS_maps/june_2016_ERA_5_daily_zonal_mean_TLS_map_5_10.npy', allow_pickle=True)\n",
    "era_5_jun_17_5x10 = np.load('../../ERA_5_monthly_TLS_maps/june_2017_ERA_5_daily_zonal_mean_TLS_map_5_10.npy', allow_pickle=True)\n",
    "era_5_jun_18_5x10 = np.load('../../ERA_5_monthly_TLS_maps/june_2018_ERA_5_daily_zonal_mean_TLS_map_5_10.npy', allow_pickle=True)\n",
    "era_5_jun_19_5x10 = np.load('../../ERA_5_monthly_TLS_maps/june_2019_ERA_5_daily_zonal_mean_TLS_map_5_10.npy', allow_pickle=True)\n",
    "era_5_jun_20_5x10 = np.load('../../ERA_5_monthly_TLS_maps/june_2020_ERA_5_daily_zonal_mean_TLS_map_5_10.npy', allow_pickle=True)\n",
    "\n",
    "\n",
    "era_box_jun_combined = np.concatenate([era_5_jun_06_5x10, era_5_jun_07_5x10, era_5_jun_08_5x10, era_5_jun_09_5x10, era_5_jun_10_5x10,\n",
    "                                       era_5_jun_11_5x10, era_5_jun_12_5x10, era_5_jun_13_5x10, era_5_jun_14_5x10, \n",
    "                                       era_5_jun_15_5x10, era_5_jun_16_5x10, era_5_jun_17_5x10, era_5_jun_18_5x10,\n",
    "                                       era_5_jun_19_5x10, era_5_jun_20_5x10])\n",
    "box_jun_df = pd.DataFrame(era_box_jun_combined, columns=['Day', 'Hour', 'Year', 'Lat', 'Lon', 'Temp'])"
   ]
  },
  {
   "cell_type": "code",
   "execution_count": 4,
   "metadata": {},
   "outputs": [
    {
     "name": "stderr",
     "output_type": "stream",
     "text": [
      "/home/disk/p/aodhan/anaconda3/lib/python3.7/site-packages/ipykernel_launcher.py:26: SettingWithCopyWarning: \n",
      "A value is trying to be set on a copy of a slice from a DataFrame.\n",
      "Try using .loc[row_indexer,col_indexer] = value instead\n",
      "\n",
      "See the caveats in the documentation: http://pandas.pydata.org/pandas-docs/stable/user_guide/indexing.html#returning-a-view-versus-a-copy\n",
      "/home/disk/p/aodhan/anaconda3/lib/python3.7/site-packages/ipykernel_launcher.py:27: SettingWithCopyWarning: \n",
      "A value is trying to be set on a copy of a slice from a DataFrame.\n",
      "Try using .loc[row_indexer,col_indexer] = value instead\n",
      "\n",
      "See the caveats in the documentation: http://pandas.pydata.org/pandas-docs/stable/user_guide/indexing.html#returning-a-view-versus-a-copy\n"
     ]
    }
   ],
   "source": [
    "jul_06 = np.load('/usb/ERA_5_sythetic_TLS_maps/ERA_5_occultation_colocated_TLS/july_2006_ERA_5_colocated_occultations.npy', allow_pickle=True)\n",
    "jul_07 = np.load('/usb/ERA_5_sythetic_TLS_maps/ERA_5_occultation_colocated_TLS/july_2007_ERA_5_colocated_occultations.npy', allow_pickle=True)\n",
    "jul_08 = np.load('/usb/ERA_5_sythetic_TLS_maps/ERA_5_occultation_colocated_TLS/july_2008_ERA_5_colocated_occultations.npy', allow_pickle=True)\n",
    "jul_09 = np.load('/usb/ERA_5_sythetic_TLS_maps/ERA_5_occultation_colocated_TLS/july_2009_ERA_5_colocated_occultations.npy', allow_pickle=True)\n",
    "jul_10 = np.load('/usb/ERA_5_sythetic_TLS_maps/ERA_5_occultation_colocated_TLS/july_2010_ERA_5_colocated_occultations.npy', allow_pickle=True)\n",
    "jul_11 = np.load('/usb/ERA_5_sythetic_TLS_maps/ERA_5_occultation_colocated_TLS/july_2011_ERA_5_colocated_occultations.npy', allow_pickle=True)\n",
    "jul_12 = np.load('/usb/ERA_5_sythetic_TLS_maps/ERA_5_occultation_colocated_TLS/july_2012_ERA_5_colocated_occultations.npy', allow_pickle=True)\n",
    "jul_13 = np.load('/usb/ERA_5_sythetic_TLS_maps/ERA_5_occultation_colocated_TLS/july_2013_ERA_5_colocated_occultations.npy', allow_pickle=True)\n",
    "jul_14 = np.load('/usb/ERA_5_sythetic_TLS_maps/ERA_5_occultation_colocated_TLS/july_2014_ERA_5_colocated_occultations.npy', allow_pickle=True)\n",
    "jul_15 = np.load('/usb/ERA_5_sythetic_TLS_maps/ERA_5_occultation_colocated_TLS/july_2015_ERA_5_colocated_occultations.npy', allow_pickle=True)\n",
    "jul_16 = np.load('/usb/ERA_5_sythetic_TLS_maps/ERA_5_occultation_colocated_TLS/july_2016_ERA_5_colocated_occultations.npy', allow_pickle=True)\n",
    "jul_17 = np.load('/usb/ERA_5_sythetic_TLS_maps/ERA_5_occultation_colocated_TLS/july_2017_ERA_5_colocated_occultations.npy', allow_pickle=True)\n",
    "jul_18 = np.load('/usb/ERA_5_sythetic_TLS_maps/ERA_5_occultation_colocated_TLS/july_2018_ERA_5_colocated_occultations.npy', allow_pickle=True)\n",
    "jul_19 = np.load('/usb/ERA_5_sythetic_TLS_maps/ERA_5_occultation_colocated_TLS/july_2019_ERA_5_colocated_occultations.npy', allow_pickle=True)\n",
    "jul_20 = np.load('/usb/ERA_5_sythetic_TLS_maps/ERA_5_occultation_colocated_TLS/july_2020_ERA_5_colocated_occultations.npy', allow_pickle=True)\n",
    "\n",
    "\n",
    "jul_combined = np.concatenate([jul_06, jul_07, jul_08, jul_09, jul_10, jul_11, jul_12, jul_13, jul_14, jul_15, jul_16, jul_17, jul_18, \n",
    "                               jul_19, jul_20])\n",
    "colocations_df = pd.DataFrame(jul_combined, columns=['Day', 'Hour', 'Year', 'Lat', 'Lon', 'Temp'])\n",
    "colocations_df['Lon'] = colocations_df['Lon'] - 180\n",
    "\n",
    "colocations_df_upper  = colocations_df[colocations_df['Lon'] >= 0]\n",
    "colocations_df_lower = colocations_df[colocations_df['Lon'] < 0]\n",
    "\n",
    "colocations_df_upper['Lon'] = colocations_df_upper['Lon'] - 180\n",
    "colocations_df_lower['Lon'] = colocations_df_lower['Lon'] + 180\n",
    "\n",
    "colocations_jul_df = pd.concat([colocations_df_upper, colocations_df_lower])\n",
    "colocations_jul_df['Year'] = colocations_jul_df['Year'].astype(int)\n",
    "#######################################################################################################\n",
    "\n",
    "era_5_jul_06_5x10 = np.load('../../ERA_5_monthly_TLS_maps/july_2006_ERA_5_daily_zonal_mean_TLS_map_5_10.npy', allow_pickle=True)\n",
    "era_5_jul_07_5x10 = np.load('../../ERA_5_monthly_TLS_maps/july_2007_ERA_5_daily_zonal_mean_TLS_map_5_10.npy', allow_pickle=True)\n",
    "era_5_jul_08_5x10 = np.load('../../ERA_5_monthly_TLS_maps/july_2008_ERA_5_daily_zonal_mean_TLS_map_5_10.npy', allow_pickle=True)\n",
    "era_5_jul_09_5x10 = np.load('../../ERA_5_monthly_TLS_maps/july_2009_ERA_5_daily_zonal_mean_TLS_map_5_10.npy', allow_pickle=True)\n",
    "era_5_jul_10_5x10 = np.load('../../ERA_5_monthly_TLS_maps/july_2010_ERA_5_daily_zonal_mean_TLS_map_5_10.npy', allow_pickle=True)\n",
    "era_5_jul_11_5x10 = np.load('../../ERA_5_monthly_TLS_maps/july_2011_ERA_5_daily_zonal_mean_TLS_map_5_10.npy', allow_pickle=True)\n",
    "era_5_jul_12_5x10 = np.load('../../ERA_5_monthly_TLS_maps/july_2012_ERA_5_daily_zonal_mean_TLS_map_5_10.npy', allow_pickle=True)\n",
    "era_5_jul_13_5x10 = np.load('../../ERA_5_monthly_TLS_maps/july_2013_ERA_5_daily_zonal_mean_TLS_map_5_10.npy', allow_pickle=True)\n",
    "era_5_jul_14_5x10 = np.load('../../ERA_5_monthly_TLS_maps/july_2014_ERA_5_daily_zonal_mean_TLS_map_5_10.npy', allow_pickle=True)\n",
    "era_5_jul_15_5x10 = np.load('../../ERA_5_monthly_TLS_maps/july_2015_ERA_5_daily_zonal_mean_TLS_map_5_10.npy', allow_pickle=True)\n",
    "era_5_jul_16_5x10 = np.load('../../ERA_5_monthly_TLS_maps/july_2016_ERA_5_daily_zonal_mean_TLS_map_5_10.npy', allow_pickle=True)\n",
    "era_5_jul_17_5x10 = np.load('../../ERA_5_monthly_TLS_maps/july_2017_ERA_5_daily_zonal_mean_TLS_map_5_10.npy', allow_pickle=True)\n",
    "era_5_jul_18_5x10 = np.load('../../ERA_5_monthly_TLS_maps/july_2018_ERA_5_daily_zonal_mean_TLS_map_5_10.npy', allow_pickle=True)\n",
    "era_5_jul_19_5x10 = np.load('../../ERA_5_monthly_TLS_maps/july_2019_ERA_5_daily_zonal_mean_TLS_map_5_10.npy', allow_pickle=True)\n",
    "era_5_jul_20_5x10 = np.load('../../ERA_5_monthly_TLS_maps/july_2020_ERA_5_daily_zonal_mean_TLS_map_5_10.npy', allow_pickle=True)\n",
    "\n",
    "\n",
    "era_box_jul_combined = np.concatenate([era_5_jul_06_5x10, era_5_jul_07_5x10, era_5_jul_08_5x10, era_5_jul_09_5x10, era_5_jul_10_5x10,\n",
    "                                       era_5_jul_11_5x10, era_5_jul_12_5x10, era_5_jul_13_5x10, era_5_jul_14_5x10, \n",
    "                                       era_5_jul_15_5x10, era_5_jul_16_5x10, era_5_jul_17_5x10, era_5_jul_18_5x10,\n",
    "                                       era_5_jul_19_5x10, era_5_jul_20_5x10])\n",
    "box_jul_df = pd.DataFrame(era_box_jul_combined, columns=['Day', 'Hour', 'Year', 'Lat', 'Lon', 'Temp'])\n"
   ]
  },
  {
   "cell_type": "code",
   "execution_count": 5,
   "metadata": {},
   "outputs": [
    {
     "name": "stderr",
     "output_type": "stream",
     "text": [
      "/home/disk/p/aodhan/anaconda3/lib/python3.7/site-packages/ipykernel_launcher.py:25: SettingWithCopyWarning: \n",
      "A value is trying to be set on a copy of a slice from a DataFrame.\n",
      "Try using .loc[row_indexer,col_indexer] = value instead\n",
      "\n",
      "See the caveats in the documentation: http://pandas.pydata.org/pandas-docs/stable/user_guide/indexing.html#returning-a-view-versus-a-copy\n",
      "/home/disk/p/aodhan/anaconda3/lib/python3.7/site-packages/ipykernel_launcher.py:26: SettingWithCopyWarning: \n",
      "A value is trying to be set on a copy of a slice from a DataFrame.\n",
      "Try using .loc[row_indexer,col_indexer] = value instead\n",
      "\n",
      "See the caveats in the documentation: http://pandas.pydata.org/pandas-docs/stable/user_guide/indexing.html#returning-a-view-versus-a-copy\n"
     ]
    }
   ],
   "source": [
    "aug_06 = np.load('/usb/ERA_5_sythetic_TLS_maps/ERA_5_occultation_colocated_TLS/august_2006_ERA_5_colocated_occultations.npy', allow_pickle=True)\n",
    "aug_07 = np.load('/usb/ERA_5_sythetic_TLS_maps/ERA_5_occultation_colocated_TLS/august_2007_ERA_5_colocated_occultations.npy', allow_pickle=True)\n",
    "aug_08 = np.load('/usb/ERA_5_sythetic_TLS_maps/ERA_5_occultation_colocated_TLS/august_2008_ERA_5_colocated_occultations.npy', allow_pickle=True)\n",
    "aug_09 = np.load('/usb/ERA_5_sythetic_TLS_maps/ERA_5_occultation_colocated_TLS/august_2009_ERA_5_colocated_occultations.npy', allow_pickle=True)\n",
    "aug_10 = np.load('/usb/ERA_5_sythetic_TLS_maps/ERA_5_occultation_colocated_TLS/august_2010_ERA_5_colocated_occultations.npy', allow_pickle=True)\n",
    "aug_11 = np.load('/usb/ERA_5_sythetic_TLS_maps/ERA_5_occultation_colocated_TLS/august_2011_ERA_5_colocated_occultations.npy', allow_pickle=True)\n",
    "aug_12 = np.load('/usb/ERA_5_sythetic_TLS_maps/ERA_5_occultation_colocated_TLS/august_2012_ERA_5_colocated_occultations.npy', allow_pickle=True)\n",
    "aug_13 = np.load('/usb/ERA_5_sythetic_TLS_maps/ERA_5_occultation_colocated_TLS/august_2013_ERA_5_colocated_occultations.npy', allow_pickle=True)\n",
    "aug_14 = np.load('/usb/ERA_5_sythetic_TLS_maps/ERA_5_occultation_colocated_TLS/august_2014_ERA_5_colocated_occultations.npy', allow_pickle=True)\n",
    "aug_15 = np.load('/usb/ERA_5_sythetic_TLS_maps/ERA_5_occultation_colocated_TLS/august_2015_ERA_5_colocated_occultations.npy', allow_pickle=True)\n",
    "aug_16 = np.load('/usb/ERA_5_sythetic_TLS_maps/ERA_5_occultation_colocated_TLS/august_2016_ERA_5_colocated_occultations.npy', allow_pickle=True)\n",
    "aug_17 = np.load('/usb/ERA_5_sythetic_TLS_maps/ERA_5_occultation_colocated_TLS/august_2017_ERA_5_colocated_occultations.npy', allow_pickle=True)\n",
    "aug_18 = np.load('/usb/ERA_5_sythetic_TLS_maps/ERA_5_occultation_colocated_TLS/august_2018_ERA_5_colocated_occultations.npy', allow_pickle=True)\n",
    "aug_19 = np.load('/usb/ERA_5_sythetic_TLS_maps/ERA_5_occultation_colocated_TLS/august_2019_ERA_5_colocated_occultations.npy', allow_pickle=True)\n",
    "aug_20 = np.load('/usb/ERA_5_sythetic_TLS_maps/ERA_5_occultation_colocated_TLS/august_2020_ERA_5_colocated_occultations.npy', allow_pickle=True)\n",
    "\n",
    "aug_combined = np.concatenate([aug_06, aug_07, aug_08, aug_09, aug_10, aug_11, aug_12, aug_13, aug_14, aug_15, aug_16, aug_17, aug_18,\n",
    "                               aug_19, aug_20])\n",
    "colocations_df = pd.DataFrame(aug_combined, columns=['Day', 'Hour', 'Year', 'Lat', 'Lon', 'Temp'])\n",
    "colocations_df['Lon'] = colocations_df['Lon'] - 180\n",
    "\n",
    "colocations_df_upper  = colocations_df[colocations_df['Lon'] >= 0]\n",
    "colocations_df_lower = colocations_df[colocations_df['Lon'] < 0]\n",
    "\n",
    "colocations_df_upper['Lon'] = colocations_df_upper['Lon'] - 180\n",
    "colocations_df_lower['Lon'] = colocations_df_lower['Lon'] + 180\n",
    "\n",
    "colocations_aug_df = pd.concat([colocations_df_upper, colocations_df_lower])\n",
    "colocations_aug_df['Year'] = colocations_aug_df['Year'].astype(int)\n",
    "#######################################################################################################\n",
    "era_5_aug_06_5x10 = np.load('../../ERA_5_monthly_TLS_maps/august_2006_ERA_5_daily_zonal_mean_TLS_map_5_10.npy', allow_pickle=True)\n",
    "era_5_aug_07_5x10 = np.load('../../ERA_5_monthly_TLS_maps/august_2007_ERA_5_daily_zonal_mean_TLS_map_5_10.npy', allow_pickle=True)\n",
    "era_5_aug_08_5x10 = np.load('../../ERA_5_monthly_TLS_maps/august_2008_ERA_5_daily_zonal_mean_TLS_map_5_10.npy', allow_pickle=True)\n",
    "era_5_aug_09_5x10 = np.load('../../ERA_5_monthly_TLS_maps/august_2009_ERA_5_daily_zonal_mean_TLS_map_5_10.npy', allow_pickle=True)\n",
    "era_5_aug_10_5x10 = np.load('../../ERA_5_monthly_TLS_maps/august_2010_ERA_5_daily_zonal_mean_TLS_map_5_10.npy', allow_pickle=True)\n",
    "era_5_aug_11_5x10 = np.load('../../ERA_5_monthly_TLS_maps/august_2011_ERA_5_daily_zonal_mean_TLS_map_5_10.npy', allow_pickle=True)\n",
    "era_5_aug_12_5x10 = np.load('../../ERA_5_monthly_TLS_maps/august_2012_ERA_5_daily_zonal_mean_TLS_map_5_10.npy', allow_pickle=True)\n",
    "era_5_aug_13_5x10 = np.load('../../ERA_5_monthly_TLS_maps/august_2013_ERA_5_daily_zonal_mean_TLS_map_5_10.npy', allow_pickle=True)\n",
    "era_5_aug_14_5x10 = np.load('../../ERA_5_monthly_TLS_maps/august_2014_ERA_5_daily_zonal_mean_TLS_map_5_10.npy', allow_pickle=True)\n",
    "era_5_aug_15_5x10 = np.load('../../ERA_5_monthly_TLS_maps/august_2015_ERA_5_daily_zonal_mean_TLS_map_5_10.npy', allow_pickle=True)\n",
    "era_5_aug_16_5x10 = np.load('../../ERA_5_monthly_TLS_maps/august_2016_ERA_5_daily_zonal_mean_TLS_map_5_10.npy', allow_pickle=True)\n",
    "era_5_aug_17_5x10 = np.load('../../ERA_5_monthly_TLS_maps/august_2017_ERA_5_daily_zonal_mean_TLS_map_5_10.npy', allow_pickle=True)\n",
    "era_5_aug_18_5x10 = np.load('../../ERA_5_monthly_TLS_maps/august_2018_ERA_5_daily_zonal_mean_TLS_map_5_10.npy', allow_pickle=True)\n",
    "era_5_aug_19_5x10 = np.load('../../ERA_5_monthly_TLS_maps/august_2019_ERA_5_daily_zonal_mean_TLS_map_5_10.npy', allow_pickle=True)\n",
    "era_5_aug_20_5x10 = np.load('../../ERA_5_monthly_TLS_maps/august_2020_ERA_5_daily_zonal_mean_TLS_map_5_10.npy', allow_pickle=True)\n",
    "\n",
    "\n",
    "era_box_aug_combined = np.concatenate([era_5_aug_06_5x10, era_5_aug_07_5x10, era_5_aug_08_5x10, era_5_aug_09_5x10, \n",
    "                                       era_5_aug_10_5x10, era_5_aug_11_5x10, era_5_aug_12_5x10, era_5_aug_13_5x10, \n",
    "                                       era_5_aug_14_5x10, era_5_aug_15_5x10, era_5_aug_16_5x10, era_5_aug_17_5x10, \n",
    "                                       era_5_aug_18_5x10, era_5_aug_19_5x10, era_5_aug_20_5x10])\n",
    "box_aug_df = pd.DataFrame(era_box_aug_combined, columns=['Day', 'Hour', 'Year', 'Lat', 'Lon', 'Temp'])\n"
   ]
  },
  {
   "cell_type": "markdown",
   "metadata": {},
   "source": [
    "# Begin Processing of JJA Colocations"
   ]
  },
  {
   "cell_type": "code",
   "execution_count": 6,
   "metadata": {},
   "outputs": [
    {
     "name": "stdout",
     "output_type": "stream",
     "text": [
      "2006\n"
     ]
    },
    {
     "name": "stderr",
     "output_type": "stream",
     "text": [
      "/home/disk/p/aodhan/cosmic/diurnal_cycle_corrections/sampling_biases/TLS_diurnal_climatology/gpsro_tools.py:196: SettingWithCopyWarning: \n",
      "A value is trying to be set on a copy of a slice from a DataFrame.\n",
      "Try using .loc[row_indexer,col_indexer] = value instead\n",
      "\n",
      "See the caveats in the documentation: http://pandas.pydata.org/pandas-docs/stable/user_guide/indexing.html#returning-a-view-versus-a-copy\n",
      "  year_of_occultations[\"latbin\"] = year_of_occultations.Lat.map(to_bin_lat)\n",
      "/home/disk/p/aodhan/cosmic/diurnal_cycle_corrections/sampling_biases/TLS_diurnal_climatology/gpsro_tools.py:197: SettingWithCopyWarning: \n",
      "A value is trying to be set on a copy of a slice from a DataFrame.\n",
      "Try using .loc[row_indexer,col_indexer] = value instead\n",
      "\n",
      "See the caveats in the documentation: http://pandas.pydata.org/pandas-docs/stable/user_guide/indexing.html#returning-a-view-versus-a-copy\n",
      "  year_of_occultations['lonbin'] = year_of_occultations.Lon.map(to_bin_lon)\n",
      "/home/disk/p/aodhan/anaconda3/lib/python3.7/site-packages/pandas/core/generic.py:5208: SettingWithCopyWarning: \n",
      "A value is trying to be set on a copy of a slice from a DataFrame.\n",
      "Try using .loc[row_indexer,col_indexer] = value instead\n",
      "\n",
      "See the caveats in the documentation: http://pandas.pydata.org/pandas-docs/stable/user_guide/indexing.html#returning-a-view-versus-a-copy\n",
      "  self[name] = value\n",
      "/home/disk/p/aodhan/cosmic/diurnal_cycle_corrections/sampling_biases/TLS_diurnal_climatology/gpsro_tools.py:37: FutureWarning: Interpreting tuple 'by' as a list of keys, rather than a single key. Use 'by=[...]' instead of 'by=(...)'. In the future, a tuple will always mean a single key.\n",
      "  grid_groups = season_of_cosmic_data.groupby((\"latbin\", 'lonbin'))\n",
      "/home/disk/p/aodhan/cosmic/diurnal_cycle_corrections/sampling_biases/TLS_diurnal_climatology/gpsro_tools.py:51: SettingWithCopyWarning: \n",
      "A value is trying to be set on a copy of a slice from a DataFrame\n",
      "\n",
      "See the caveats in the documentation: http://pandas.pydata.org/pandas-docs/stable/user_guide/indexing.html#returning-a-view-versus-a-copy\n",
      "  cosmic_grid_cell.dropna(subset=[\"Temp\"], inplace=True)\n",
      "/home/disk/p/aodhan/cosmic/diurnal_cycle_corrections/sampling_biases/TLS_diurnal_climatology/gpsro_tools.py:121: SettingWithCopyWarning: \n",
      "A value is trying to be set on a copy of a slice from a DataFrame.\n",
      "Try using .loc[row_indexer,col_indexer] = value instead\n",
      "\n",
      "See the caveats in the documentation: http://pandas.pydata.org/pandas-docs/stable/user_guide/indexing.html#returning-a-view-versus-a-copy\n",
      "  occultations_in_box['Temp'] = occultations_in_box['Temp'] - monthly_mean_in_box['Temp'].iloc[0]\n"
     ]
    },
    {
     "name": "stdout",
     "output_type": "stream",
     "text": [
      "2007\n",
      "2008\n",
      "2009\n",
      "2010\n",
      "2011\n",
      "2012\n",
      "2013\n",
      "2014\n",
      "2015\n",
      "2016\n",
      "2017\n",
      "2018\n",
      "2019\n",
      "2020\n",
      "2006\n",
      "2007\n",
      "2008\n",
      "2009\n",
      "2010\n",
      "2011\n",
      "2012\n",
      "2013\n",
      "2014\n",
      "2015\n",
      "2016\n",
      "2017\n",
      "2018\n",
      "2019\n",
      "2020\n",
      "2006\n",
      "2007\n",
      "2008\n",
      "2009\n",
      "2010\n",
      "2011\n",
      "2012\n",
      "2013\n",
      "2014\n",
      "2015\n",
      "2016\n",
      "2017\n",
      "2018\n",
      "2019\n",
      "2020\n"
     ]
    }
   ],
   "source": [
    "daily_era5_box_removal_jun = gpsro_tools.background_and_bias_remover(colocations_jun_df, box_jun_df)\n",
    "daily_era5_box_removal_jul = gpsro_tools.background_and_bias_remover(colocations_jul_df, box_jul_df)\n",
    "daily_era5_box_removal_aug = gpsro_tools.background_and_bias_remover(colocations_aug_df, box_aug_df)\n",
    "\n",
    "daily_era5_no_removal = pd.concat([colocations_jun_df, colocations_jul_df, colocations_aug_df])\n",
    "daily_era5_box_removal = pd.concat([daily_era5_box_removal_jun, daily_era5_box_removal_jul, daily_era5_box_removal_aug])"
   ]
  },
  {
   "cell_type": "code",
   "execution_count": 7,
   "metadata": {},
   "outputs": [
    {
     "name": "stderr",
     "output_type": "stream",
     "text": [
      "/home/disk/p/aodhan/cosmic/diurnal_cycle_corrections/sampling_biases/TLS_diurnal_climatology/gpsro_tools.py:260: SettingWithCopyWarning: \n",
      "A value is trying to be set on a copy of a slice from a DataFrame\n",
      "\n",
      "See the caveats in the documentation: http://pandas.pydata.org/pandas-docs/stable/user_guide/indexing.html#returning-a-view-versus-a-copy\n",
      "  lat_lon_box.dropna(subset = [\"Temp\"], inplace=True)\n",
      "/home/disk/p/aodhan/cosmic/diurnal_cycle_corrections/sampling_biases/TLS_diurnal_climatology/gpsro_tools.py:261: SettingWithCopyWarning: \n",
      "A value is trying to be set on a copy of a slice from a DataFrame.\n",
      "Try using .loc[row_indexer,col_indexer] = value instead\n",
      "\n",
      "See the caveats in the documentation: http://pandas.pydata.org/pandas-docs/stable/user_guide/indexing.html#returning-a-view-versus-a-copy\n",
      "  lat_lon_box['Temp'] = lat_lon_box['Temp'] - lat_lon_box.Temp.mean()\n"
     ]
    }
   ],
   "source": [
    "daily_era5_no_removal['latbin'] = daily_era5_no_removal.Lat.map(gpsro_tools.to_bin_lat)\n",
    "daily_era5_no_removal['lonbin'] = daily_era5_no_removal.Lon.map(gpsro_tools.to_bin_lon)\n",
    "\n",
    "final_hour_box = gpsro_tools.box_mean_remover(daily_era5_box_removal)\n",
    "final_hour_map = gpsro_tools.box_mean_remover(daily_era5_no_removal)\n",
    "\n",
    "diurnal_cycles_5_10_mean_removed_by_lats, diurnal_cycles_5_10_mean_removed_by_boxes = gpsro_tools.diurnal_binner(final_hour_box)\n",
    "diurnal_cycles_no_mean_removed_by_lats, diurnal_cycles_no_mean_removed_by_boxes = gpsro_tools.diurnal_binner(final_hour_map)"
   ]
  },
  {
   "cell_type": "code",
   "execution_count": 9,
   "metadata": {},
   "outputs": [],
   "source": [
    "np.save('JJA_colocations_5x10_boxes', diurnal_cycles_5_10_mean_removed_by_boxes)\n",
    "np.save('JJA_colocations_5x10_no_removal', diurnal_cycles_no_mean_removed_by_boxes)"
   ]
  },
  {
   "cell_type": "code",
   "execution_count": null,
   "metadata": {},
   "outputs": [],
   "source": []
  }
 ],
 "metadata": {
  "kernelspec": {
   "display_name": "Python 3",
   "language": "python",
   "name": "python3"
  },
  "language_info": {
   "codemirror_mode": {
    "name": "ipython",
    "version": 3
   },
   "file_extension": ".py",
   "mimetype": "text/x-python",
   "name": "python",
   "nbconvert_exporter": "python",
   "pygments_lexer": "ipython3",
   "version": "3.7.4"
  }
 },
 "nbformat": 4,
 "nbformat_minor": 4
}
