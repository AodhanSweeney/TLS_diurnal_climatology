{
 "cells": [
  {
   "cell_type": "code",
   "execution_count": 1,
   "metadata": {},
   "outputs": [],
   "source": [
    "import numpy as np\n",
    "import pandas as pd\n",
    "import matplotlib.pyplot as plt\n",
    "import gpsro_tools"
   ]
  },
  {
   "cell_type": "markdown",
   "metadata": {},
   "source": [
    "# Import Occultation Data"
   ]
  },
  {
   "cell_type": "code",
   "execution_count": 2,
   "metadata": {},
   "outputs": [],
   "source": [
    "# Import occultation data\n",
    "#import april with data on which year of occultation was taken\n",
    "march_year_info = np.load('/usb/monthly_diurnal_cycle_data_occultations/march_cosmic_diurnal_cycles_TLS_year_info.npy', allow_pickle=True)\n",
    "april_year_info = np.load('/usb/monthly_diurnal_cycle_data_occultations/april_cosmic_diurnal_cycles_TLS_year_info.npy', allow_pickle=True)\n",
    "may_year_info = np.load('/usb/monthly_diurnal_cycle_data_occultations/may_cosmic_diurnal_cycles_TLS_year_info.npy', allow_pickle=True)\n",
    "\n",
    "march_year_info_metopa = np.load('/usb/monthly_diurnal_cycle_data_occultations/march_metop_A_diurnal_cycles_TLS_year_info.npy', allow_pickle=True)\n",
    "april_year_info_metopa = np.load('/usb/monthly_diurnal_cycle_data_occultations/april_metop_A_diurnal_cycles_TLS_year_info.npy', allow_pickle=True)\n",
    "may_year_info_metopa = np.load('/usb/monthly_diurnal_cycle_data_occultations/may_metop_A_diurnal_cycles_TLS_year_info.npy', allow_pickle=True)\n",
    "\n",
    "march_year_info_metopb = np.load('/usb/monthly_diurnal_cycle_data_occultations/march_metop_B_diurnal_cycles_TLS_year_info.npy', allow_pickle=True)\n",
    "april_year_info_metopb = np.load('/usb/monthly_diurnal_cycle_data_occultations/april_metop_B_diurnal_cycles_TLS_year_info.npy', allow_pickle=True)\n",
    "may_year_info_metopb = np.load('/usb/monthly_diurnal_cycle_data_occultations/may_metop_B_diurnal_cycles_TLS_year_info.npy', allow_pickle=True)\n",
    "\n",
    "march_year_info_grace = np.load('/usb/monthly_diurnal_cycle_data_occultations/march_grace_diurnal_cycles_TLS_year_info.npy', allow_pickle=True)\n",
    "april_year_info_grace = np.load('/usb/monthly_diurnal_cycle_data_occultations/april_grace_diurnal_cycles_TLS_year_info.npy', allow_pickle=True)\n",
    "may_year_info_grace = np.load('/usb/monthly_diurnal_cycle_data_occultations/may_grace_diurnal_cycles_TLS_year_info.npy', allow_pickle=True)\n",
    "\n",
    "march_year_info_tsx = np.load('/usb/monthly_diurnal_cycle_data_occultations/march_tsx_diurnal_cycles_TLS_year_info.npy', allow_pickle=True)\n",
    "april_year_info_tsx = np.load('/usb/monthly_diurnal_cycle_data_occultations/april_tsx_diurnal_cycles_TLS_year_info.npy', allow_pickle=True)\n",
    "may_year_info_tsx = np.load('/usb/monthly_diurnal_cycle_data_occultations/may_tsx_diurnal_cycles_TLS_year_info.npy', allow_pickle=True)\n",
    "\n",
    "march_year_info_kompsat5 = np.load('/usb/monthly_diurnal_cycle_data_occultations/march_kompsat5_diurnal_cycles_TLS_year_info.npy', allow_pickle=True)\n",
    "april_year_info_kompsat5 = np.load('/usb/monthly_diurnal_cycle_data_occultations/april_kompsat5_diurnal_cycles_TLS_year_info.npy', allow_pickle=True)\n",
    "may_year_info_kompsat5 = np.load('/usb/monthly_diurnal_cycle_data_occultations/may_kompsat5_diurnal_cycles_TLS_year_info.npy', allow_pickle=True)\n",
    "\n",
    "march_year_info_paz = np.load('/usb/monthly_diurnal_cycle_data_occultations/march_paz_diurnal_cycles_TLS_year_info.npy', allow_pickle=True)\n",
    "april_year_info_paz = np.load('/usb/monthly_diurnal_cycle_data_occultations/april_paz_diurnal_cycles_TLS_year_info.npy', allow_pickle=True)\n",
    "may_year_info_paz = np.load('/usb/monthly_diurnal_cycle_data_occultations/may_paz_diurnal_cycles_TLS_year_info.npy', allow_pickle=True)\n",
    "\n",
    "march_year_info_cosmic2 = np.load('/usb/monthly_diurnal_cycle_data_occultations/march_cosmic2_diurnal_cycles_TLS_year_info.npy', allow_pickle=True)\n",
    "april_year_info_cosmic2 = np.load('/usb/monthly_diurnal_cycle_data_occultations/april_cosmic2_diurnal_cycles_TLS_year_info.npy', allow_pickle=True)\n",
    "may_year_info_cosmic2 = np.load('/usb/monthly_diurnal_cycle_data_occultations/may_cosmic2_diurnal_cycles_TLS_year_info.npy', allow_pickle=True)\n",
    "\n",
    "march_year_info_sacc = np.load('/usb/monthly_diurnal_cycle_data_occultations/march_sacc_diurnal_cycles_TLS_year_info.npy', allow_pickle=True)\n",
    "april_year_info_sacc = np.load('/usb/monthly_diurnal_cycle_data_occultations/april_sacc_diurnal_cycles_TLS_year_info.npy', allow_pickle=True)\n",
    "may_year_info_sacc = np.load('/usb/monthly_diurnal_cycle_data_occultations/may_sacc_diurnal_cycles_TLS_year_info.npy', allow_pickle=True)\n",
    "\n",
    "march_year_info_tdx = np.load('/usb/monthly_diurnal_cycle_data_occultations/march_tdx_diurnal_cycles_TLS_year_info.npy', allow_pickle=True)\n",
    "april_year_info_tdx = np.load('/usb/monthly_diurnal_cycle_data_occultations/april_tdx_diurnal_cycles_TLS_year_info.npy', allow_pickle=True)\n",
    "may_year_info_tdx = np.load('/usb/monthly_diurnal_cycle_data_occultations/may_tdx_diurnal_cycles_TLS_year_info.npy', allow_pickle=True)\n",
    "\n",
    "march_year_info_metopc = np.load('/usb/monthly_diurnal_cycle_data_occultations/march_metopc_diurnal_cycles_TLS_year_info.npy', allow_pickle=True)\n",
    "april_year_info_metopc = np.load('/usb/monthly_diurnal_cycle_data_occultations/april_metopc_diurnal_cycles_TLS_year_info.npy', allow_pickle=True)\n",
    "may_year_info_metopc = np.load('/usb/monthly_diurnal_cycle_data_occultations/may_metopc_diurnal_cycles_TLS_year_info.npy', allow_pickle=True)\n",
    "\n",
    "\n",
    "apr_data = np.concatenate((april_year_info.T, april_year_info_metopa.T, april_year_info_metopb.T, \n",
    "                           april_year_info_grace.T, april_year_info_tsx.T, april_year_info_kompsat5.T, \n",
    "                           april_year_info_cosmic2.T, april_year_info_paz.T, april_year_info_sacc.T, \n",
    "                           april_year_info_tdx.T, april_year_info_metopc.T))\n",
    "may_data = np.concatenate((may_year_info.T, may_year_info_metopa.T, may_year_info_metopb.T,\n",
    "                           may_year_info_grace.T, may_year_info_tsx.T, may_year_info_kompsat5.T, \n",
    "                           may_year_info_cosmic2.T, may_year_info_paz.T, may_year_info_sacc.T, \n",
    "                           may_year_info_tdx.T, may_year_info_metopc.T))\n",
    "mar_data = np.concatenate((march_year_info.T, march_year_info_metopa.T, march_year_info_metopb.T, \n",
    "                           march_year_info_grace.T, march_year_info_tsx.T, march_year_info_kompsat5.T, \n",
    "                           march_year_info_cosmic2.T, march_year_info_paz.T, march_year_info_sacc.T, \n",
    "                           march_year_info_tdx.T, march_year_info_metopc.T))\n",
    "\n",
    "#create dataframes for season\n",
    "apr_year_info_df = pd.DataFrame(apr_data, columns=['Lat', 'Lon', 'Year', 'Day', 'Hour', 'Temp'])\n",
    "may_year_info_df = pd.DataFrame(may_data, columns=['Lat', 'Lon', 'Year', 'Day', 'Hour', 'Temp'])\n",
    "mar_year_info_df = pd.DataFrame(mar_data, columns=['Lat', 'Lon', 'Year', 'Day', 'Hour', 'Temp'])\n",
    "\n",
    "# Round hours to nearest integer\n",
    "to_int_hour = lambda x: int(x)\n",
    "mar_year_info_df[\"Hour\"] = mar_year_info_df.Hour.map(to_int_hour)\n",
    "apr_year_info_df[\"Hour\"] = apr_year_info_df.Hour.map(to_int_hour)\n",
    "may_year_info_df[\"Hour\"] = may_year_info_df.Hour.map(to_int_hour)\n"
   ]
  },
  {
   "cell_type": "markdown",
   "metadata": {},
   "source": [
    "# Import ERA-5 Data"
   ]
  },
  {
   "cell_type": "code",
   "execution_count": 3,
   "metadata": {},
   "outputs": [
    {
     "name": "stderr",
     "output_type": "stream",
     "text": [
      "/home/disk/p/aodhan/cosmic/diurnal_cycle_corrections/sampling_biases/TLS_diurnal_climatology/gpsro_tools.py:152: SettingWithCopyWarning: \n",
      "A value is trying to be set on a copy of a slice from a DataFrame.\n",
      "Try using .loc[row_indexer,col_indexer] = value instead\n",
      "\n",
      "See the caveats in the documentation: http://pandas.pydata.org/pandas-docs/stable/user_guide/indexing.html#returning-a-view-versus-a-copy\n",
      "  era_5_df_pos_lons['Lon'] = era_5_df_pos_lons['Lon'] - 180.\n",
      "/home/disk/p/aodhan/cosmic/diurnal_cycle_corrections/sampling_biases/TLS_diurnal_climatology/gpsro_tools.py:153: SettingWithCopyWarning: \n",
      "A value is trying to be set on a copy of a slice from a DataFrame.\n",
      "Try using .loc[row_indexer,col_indexer] = value instead\n",
      "\n",
      "See the caveats in the documentation: http://pandas.pydata.org/pandas-docs/stable/user_guide/indexing.html#returning-a-view-versus-a-copy\n",
      "  era_5_df_neg_lons['Lon'] = era_5_df_neg_lons['Lon'] + 180\n"
     ]
    }
   ],
   "source": [
    "era_5_apr_06_5x10 = np.load('../../ERA_5_monthly_TLS_maps/april_2006_ERA_5_daily_zonal_mean_TLS_map_5_10.npy', allow_pickle=True)\n",
    "era_5_apr_07_5x10 = np.load('../../ERA_5_monthly_TLS_maps/april_2007_ERA_5_daily_zonal_mean_TLS_map_5_10.npy', allow_pickle=True)\n",
    "era_5_apr_08_5x10 = np.load('../../ERA_5_monthly_TLS_maps/april_2008_ERA_5_daily_zonal_mean_TLS_map_5_10.npy', allow_pickle=True)\n",
    "era_5_apr_09_5x10 = np.load('../../ERA_5_monthly_TLS_maps/april_2009_ERA_5_daily_zonal_mean_TLS_map_5_10.npy', allow_pickle=True)\n",
    "era_5_apr_10_5x10 = np.load('../../ERA_5_monthly_TLS_maps/april_2010_ERA_5_daily_zonal_mean_TLS_map_5_10.npy', allow_pickle=True)\n",
    "era_5_apr_11_5x10 = np.load('../../ERA_5_monthly_TLS_maps/april_2011_ERA_5_daily_zonal_mean_TLS_map_5_10.npy', allow_pickle=True)\n",
    "era_5_apr_12_5x10 = np.load('../../ERA_5_monthly_TLS_maps/april_2012_ERA_5_daily_zonal_mean_TLS_map_5_10.npy', allow_pickle=True)\n",
    "era_5_apr_13_5x10 = np.load('../../ERA_5_monthly_TLS_maps/april_2013_ERA_5_daily_zonal_mean_TLS_map_5_10.npy', allow_pickle=True)\n",
    "era_5_apr_14_5x10 = np.load('../../ERA_5_monthly_TLS_maps/april_2014_ERA_5_daily_zonal_mean_TLS_map_5_10.npy', allow_pickle=True)\n",
    "era_5_apr_15_5x10 = np.load('../../ERA_5_monthly_TLS_maps/april_2015_ERA_5_daily_zonal_mean_TLS_map_5_10.npy', allow_pickle=True)\n",
    "era_5_apr_16_5x10 = np.load('../../ERA_5_monthly_TLS_maps/april_2016_ERA_5_daily_zonal_mean_TLS_map_5_10.npy', allow_pickle=True)\n",
    "era_5_apr_17_5x10 = np.load('../../ERA_5_monthly_TLS_maps/april_2017_ERA_5_daily_zonal_mean_TLS_map_5_10.npy', allow_pickle=True)\n",
    "era_5_apr_18_5x10 = np.load('../../ERA_5_monthly_TLS_maps/april_2018_ERA_5_daily_zonal_mean_TLS_map_5_10.npy', allow_pickle=True)\n",
    "era_5_apr_19_5x10 = np.load('../../ERA_5_monthly_TLS_maps/april_2019_ERA_5_daily_zonal_mean_TLS_map_5_10.npy', allow_pickle=True)\n",
    "era_5_apr_20_5x10 = np.load('../../ERA_5_monthly_TLS_maps/april_2020_ERA_5_daily_zonal_mean_TLS_map_5_10.npy', allow_pickle=True)\n",
    "\n",
    "era_5_may_06_5x10 = np.load('../../ERA_5_monthly_TLS_maps/may_2006_ERA_5_daily_zonal_mean_TLS_map_5_10.npy', allow_pickle=True)\n",
    "era_5_may_07_5x10 = np.load('../../ERA_5_monthly_TLS_maps/may_2007_ERA_5_daily_zonal_mean_TLS_map_5_10.npy', allow_pickle=True)\n",
    "era_5_may_08_5x10 = np.load('../../ERA_5_monthly_TLS_maps/may_2008_ERA_5_daily_zonal_mean_TLS_map_5_10.npy', allow_pickle=True)\n",
    "era_5_may_09_5x10 = np.load('../../ERA_5_monthly_TLS_maps/may_2009_ERA_5_daily_zonal_mean_TLS_map_5_10.npy', allow_pickle=True)\n",
    "era_5_may_10_5x10 = np.load('../../ERA_5_monthly_TLS_maps/may_2010_ERA_5_daily_zonal_mean_TLS_map_5_10.npy', allow_pickle=True)\n",
    "era_5_may_11_5x10 = np.load('../../ERA_5_monthly_TLS_maps/may_2011_ERA_5_daily_zonal_mean_TLS_map_5_10.npy', allow_pickle=True)\n",
    "era_5_may_12_5x10 = np.load('../../ERA_5_monthly_TLS_maps/may_2012_ERA_5_daily_zonal_mean_TLS_map_5_10.npy', allow_pickle=True)\n",
    "era_5_may_13_5x10 = np.load('../../ERA_5_monthly_TLS_maps/may_2013_ERA_5_daily_zonal_mean_TLS_map_5_10.npy', allow_pickle=True)\n",
    "era_5_may_14_5x10 = np.load('../../ERA_5_monthly_TLS_maps/may_2014_ERA_5_daily_zonal_mean_TLS_map_5_10.npy', allow_pickle=True)\n",
    "era_5_may_15_5x10 = np.load('../../ERA_5_monthly_TLS_maps/may_2015_ERA_5_daily_zonal_mean_TLS_map_5_10.npy', allow_pickle=True)\n",
    "era_5_may_16_5x10 = np.load('../../ERA_5_monthly_TLS_maps/may_2016_ERA_5_daily_zonal_mean_TLS_map_5_10.npy', allow_pickle=True)\n",
    "era_5_may_17_5x10 = np.load('../../ERA_5_monthly_TLS_maps/may_2017_ERA_5_daily_zonal_mean_TLS_map_5_10.npy', allow_pickle=True)\n",
    "era_5_may_18_5x10 = np.load('../../ERA_5_monthly_TLS_maps/may_2018_ERA_5_daily_zonal_mean_TLS_map_5_10.npy', allow_pickle=True)\n",
    "era_5_may_19_5x10 = np.load('../../ERA_5_monthly_TLS_maps/may_2019_ERA_5_daily_zonal_mean_TLS_map_5_10.npy', allow_pickle=True)\n",
    "era_5_may_20_5x10 = np.load('../../ERA_5_monthly_TLS_maps/may_2020_ERA_5_daily_zonal_mean_TLS_map_5_10.npy', allow_pickle=True)\n",
    "\n",
    "era_5_mar_06_5x10 = np.load('../../ERA_5_monthly_TLS_maps/march_2006_ERA_5_daily_zonal_mean_TLS_map_5_10.npy', allow_pickle=True)\n",
    "era_5_mar_07_5x10 = np.load('../../ERA_5_monthly_TLS_maps/march_2007_ERA_5_daily_zonal_mean_TLS_map_5_10.npy', allow_pickle=True)\n",
    "era_5_mar_08_5x10 = np.load('../../ERA_5_monthly_TLS_maps/march_2008_ERA_5_daily_zonal_mean_TLS_map_5_10.npy', allow_pickle=True)\n",
    "era_5_mar_09_5x10 = np.load('../../ERA_5_monthly_TLS_maps/march_2009_ERA_5_daily_zonal_mean_TLS_map_5_10.npy', allow_pickle=True)\n",
    "era_5_mar_10_5x10 = np.load('../../ERA_5_monthly_TLS_maps/march_2010_ERA_5_daily_zonal_mean_TLS_map_5_10.npy', allow_pickle=True)\n",
    "era_5_mar_11_5x10 = np.load('../../ERA_5_monthly_TLS_maps/march_2011_ERA_5_daily_zonal_mean_TLS_map_5_10.npy', allow_pickle=True)\n",
    "era_5_mar_12_5x10 = np.load('../../ERA_5_monthly_TLS_maps/march_2012_ERA_5_daily_zonal_mean_TLS_map_5_10.npy', allow_pickle=True)\n",
    "era_5_mar_13_5x10 = np.load('../../ERA_5_monthly_TLS_maps/march_2013_ERA_5_daily_zonal_mean_TLS_map_5_10.npy', allow_pickle=True)\n",
    "era_5_mar_14_5x10 = np.load('../../ERA_5_monthly_TLS_maps/march_2014_ERA_5_daily_zonal_mean_TLS_map_5_10.npy', allow_pickle=True)\n",
    "era_5_mar_15_5x10 = np.load('../../ERA_5_monthly_TLS_maps/march_2015_ERA_5_daily_zonal_mean_TLS_map_5_10.npy', allow_pickle=True)\n",
    "era_5_mar_16_5x10 = np.load('../../ERA_5_monthly_TLS_maps/march_2016_ERA_5_daily_zonal_mean_TLS_map_5_10.npy', allow_pickle=True)\n",
    "era_5_mar_17_5x10 = np.load('../../ERA_5_monthly_TLS_maps/march_2017_ERA_5_daily_zonal_mean_TLS_map_5_10.npy', allow_pickle=True)\n",
    "era_5_mar_18_5x10 = np.load('../../ERA_5_monthly_TLS_maps/march_2018_ERA_5_daily_zonal_mean_TLS_map_5_10.npy', allow_pickle=True)\n",
    "era_5_mar_19_5x10 = np.load('../../ERA_5_monthly_TLS_maps/march_2019_ERA_5_daily_zonal_mean_TLS_map_5_10.npy', allow_pickle=True)\n",
    "era_5_mar_20_5x10 = np.load('../../ERA_5_monthly_TLS_maps/march_2020_ERA_5_daily_zonal_mean_TLS_map_5_10.npy', allow_pickle=True)\n",
    "\n",
    "era_5_mar_07_5x10_df = gpsro_tools.era5_df_switcher(era_5_mar_07_5x10)\n",
    "era_5_mar_08_5x10_df = gpsro_tools.era5_df_switcher(era_5_mar_08_5x10)\n",
    "era_5_mar_09_5x10_df = gpsro_tools.era5_df_switcher(era_5_mar_09_5x10)\n",
    "era_5_mar_10_5x10_df = gpsro_tools.era5_df_switcher(era_5_mar_10_5x10)\n",
    "era_5_mar_11_5x10_df = gpsro_tools.era5_df_switcher(era_5_mar_11_5x10)\n",
    "era_5_mar_12_5x10_df = gpsro_tools.era5_df_switcher(era_5_mar_12_5x10)\n",
    "era_5_mar_13_5x10_df = gpsro_tools.era5_df_switcher(era_5_mar_13_5x10)\n",
    "era_5_mar_14_5x10_df = gpsro_tools.era5_df_switcher(era_5_mar_14_5x10)\n",
    "era_5_mar_15_5x10_df = gpsro_tools.era5_df_switcher(era_5_mar_15_5x10)\n",
    "era_5_mar_16_5x10_df = gpsro_tools.era5_df_switcher(era_5_mar_16_5x10)\n",
    "era_5_mar_17_5x10_df = gpsro_tools.era5_df_switcher(era_5_mar_17_5x10)\n",
    "era_5_mar_18_5x10_df = gpsro_tools.era5_df_switcher(era_5_mar_18_5x10)\n",
    "era_5_mar_19_5x10_df = gpsro_tools.era5_df_switcher(era_5_mar_19_5x10)\n",
    "era_5_mar_20_5x10_df = gpsro_tools.era5_df_switcher(era_5_mar_20_5x10)\n",
    "\n",
    "era_5_apr_07_5x10_df = gpsro_tools.era5_df_switcher(era_5_apr_07_5x10)\n",
    "era_5_apr_08_5x10_df = gpsro_tools.era5_df_switcher(era_5_apr_08_5x10)\n",
    "era_5_apr_09_5x10_df = gpsro_tools.era5_df_switcher(era_5_apr_09_5x10)\n",
    "era_5_apr_10_5x10_df = gpsro_tools.era5_df_switcher(era_5_apr_10_5x10)\n",
    "era_5_apr_11_5x10_df = gpsro_tools.era5_df_switcher(era_5_apr_11_5x10)\n",
    "era_5_apr_12_5x10_df = gpsro_tools.era5_df_switcher(era_5_apr_12_5x10)\n",
    "era_5_apr_13_5x10_df = gpsro_tools.era5_df_switcher(era_5_apr_13_5x10)\n",
    "era_5_apr_14_5x10_df = gpsro_tools.era5_df_switcher(era_5_apr_14_5x10)\n",
    "era_5_apr_15_5x10_df = gpsro_tools.era5_df_switcher(era_5_apr_15_5x10)\n",
    "era_5_apr_16_5x10_df = gpsro_tools.era5_df_switcher(era_5_apr_16_5x10)\n",
    "era_5_apr_17_5x10_df = gpsro_tools.era5_df_switcher(era_5_apr_17_5x10)\n",
    "era_5_apr_18_5x10_df = gpsro_tools.era5_df_switcher(era_5_apr_18_5x10)\n",
    "era_5_apr_19_5x10_df = gpsro_tools.era5_df_switcher(era_5_apr_19_5x10)\n",
    "era_5_apr_20_5x10_df = gpsro_tools.era5_df_switcher(era_5_apr_20_5x10)\n",
    "\n",
    "era_5_may_06_5x10_df = gpsro_tools.era5_df_switcher(era_5_may_06_5x10)\n",
    "era_5_may_07_5x10_df = gpsro_tools.era5_df_switcher(era_5_may_07_5x10)\n",
    "era_5_may_08_5x10_df = gpsro_tools.era5_df_switcher(era_5_may_08_5x10)\n",
    "era_5_may_09_5x10_df = gpsro_tools.era5_df_switcher(era_5_may_09_5x10)\n",
    "era_5_may_10_5x10_df = gpsro_tools.era5_df_switcher(era_5_may_10_5x10)\n",
    "era_5_may_11_5x10_df = gpsro_tools.era5_df_switcher(era_5_may_11_5x10)\n",
    "era_5_may_12_5x10_df = gpsro_tools.era5_df_switcher(era_5_may_12_5x10)\n",
    "era_5_may_13_5x10_df = gpsro_tools.era5_df_switcher(era_5_may_13_5x10)\n",
    "era_5_may_14_5x10_df = gpsro_tools.era5_df_switcher(era_5_may_14_5x10)\n",
    "era_5_may_15_5x10_df = gpsro_tools.era5_df_switcher(era_5_may_15_5x10)\n",
    "era_5_may_16_5x10_df = gpsro_tools.era5_df_switcher(era_5_may_16_5x10)\n",
    "era_5_may_17_5x10_df = gpsro_tools.era5_df_switcher(era_5_may_17_5x10)\n",
    "era_5_may_18_5x10_df = gpsro_tools.era5_df_switcher(era_5_may_18_5x10)\n",
    "era_5_may_19_5x10_df = gpsro_tools.era5_df_switcher(era_5_may_19_5x10)\n",
    "\n",
    "era_5_mar_df = pd.concat([era_5_mar_07_5x10_df, era_5_mar_08_5x10_df, era_5_mar_09_5x10_df, era_5_mar_10_5x10_df, \n",
    "                          era_5_mar_11_5x10_df, era_5_mar_12_5x10_df, era_5_mar_13_5x10_df, era_5_mar_14_5x10_df, \n",
    "                          era_5_mar_15_5x10_df, era_5_mar_16_5x10_df, era_5_mar_17_5x10_df, era_5_mar_18_5x10_df, \n",
    "                          era_5_mar_19_5x10_df, era_5_mar_20_5x10_df])\n",
    "era_5_apr_df = pd.concat([era_5_apr_07_5x10_df, era_5_apr_08_5x10_df, era_5_apr_09_5x10_df, era_5_apr_10_5x10_df, \n",
    "                          era_5_apr_11_5x10_df, era_5_apr_12_5x10_df, era_5_apr_13_5x10_df, era_5_apr_14_5x10_df, \n",
    "                          era_5_apr_15_5x10_df, era_5_apr_16_5x10_df, era_5_apr_17_5x10_df, era_5_apr_18_5x10_df, \n",
    "                          era_5_apr_19_5x10_df, era_5_apr_20_5x10_df])\n",
    "era_5_may_df = pd.concat([era_5_may_06_5x10_df, era_5_may_07_5x10_df, era_5_may_08_5x10_df, era_5_may_09_5x10_df, \n",
    "                          era_5_may_10_5x10_df, era_5_may_11_5x10_df, era_5_may_12_5x10_df, era_5_may_13_5x10_df, \n",
    "                          era_5_may_14_5x10_df, era_5_may_15_5x10_df, era_5_may_16_5x10_df, era_5_may_17_5x10_df, \n",
    "                          era_5_may_18_5x10_df, era_5_may_19_5x10_df])"
   ]
  },
  {
   "cell_type": "markdown",
   "metadata": {},
   "source": [
    "# Begin processing"
   ]
  },
  {
   "cell_type": "code",
   "execution_count": 4,
   "metadata": {},
   "outputs": [
    {
     "name": "stdout",
     "output_type": "stream",
     "text": [
      "2006\n"
     ]
    },
    {
     "name": "stderr",
     "output_type": "stream",
     "text": [
      "/home/disk/p/aodhan/cosmic/diurnal_cycle_corrections/sampling_biases/TLS_diurnal_climatology/gpsro_tools.py:196: SettingWithCopyWarning: \n",
      "A value is trying to be set on a copy of a slice from a DataFrame.\n",
      "Try using .loc[row_indexer,col_indexer] = value instead\n",
      "\n",
      "See the caveats in the documentation: http://pandas.pydata.org/pandas-docs/stable/user_guide/indexing.html#returning-a-view-versus-a-copy\n",
      "  year_of_occultations[\"latbin\"] = year_of_occultations.Lat.map(to_bin_lat)\n",
      "/home/disk/p/aodhan/cosmic/diurnal_cycle_corrections/sampling_biases/TLS_diurnal_climatology/gpsro_tools.py:197: SettingWithCopyWarning: \n",
      "A value is trying to be set on a copy of a slice from a DataFrame.\n",
      "Try using .loc[row_indexer,col_indexer] = value instead\n",
      "\n",
      "See the caveats in the documentation: http://pandas.pydata.org/pandas-docs/stable/user_guide/indexing.html#returning-a-view-versus-a-copy\n",
      "  year_of_occultations['lonbin'] = year_of_occultations.Lon.map(to_bin_lon)\n"
     ]
    },
    {
     "name": "stdout",
     "output_type": "stream",
     "text": [
      "2007\n"
     ]
    },
    {
     "name": "stderr",
     "output_type": "stream",
     "text": [
      "/home/disk/p/aodhan/anaconda3/lib/python3.7/site-packages/pandas/core/generic.py:5208: SettingWithCopyWarning: \n",
      "A value is trying to be set on a copy of a slice from a DataFrame.\n",
      "Try using .loc[row_indexer,col_indexer] = value instead\n",
      "\n",
      "See the caveats in the documentation: http://pandas.pydata.org/pandas-docs/stable/user_guide/indexing.html#returning-a-view-versus-a-copy\n",
      "  self[name] = value\n",
      "/home/disk/p/aodhan/cosmic/diurnal_cycle_corrections/sampling_biases/TLS_diurnal_climatology/gpsro_tools.py:37: FutureWarning: Interpreting tuple 'by' as a list of keys, rather than a single key. Use 'by=[...]' instead of 'by=(...)'. In the future, a tuple will always mean a single key.\n",
      "  grid_groups = season_of_cosmic_data.groupby((\"latbin\", 'lonbin'))\n",
      "/home/disk/p/aodhan/cosmic/diurnal_cycle_corrections/sampling_biases/TLS_diurnal_climatology/gpsro_tools.py:51: SettingWithCopyWarning: \n",
      "A value is trying to be set on a copy of a slice from a DataFrame\n",
      "\n",
      "See the caveats in the documentation: http://pandas.pydata.org/pandas-docs/stable/user_guide/indexing.html#returning-a-view-versus-a-copy\n",
      "  cosmic_grid_cell.dropna(subset=[\"Temp\"], inplace=True)\n",
      "/home/disk/p/aodhan/cosmic/diurnal_cycle_corrections/sampling_biases/TLS_diurnal_climatology/gpsro_tools.py:121: SettingWithCopyWarning: \n",
      "A value is trying to be set on a copy of a slice from a DataFrame.\n",
      "Try using .loc[row_indexer,col_indexer] = value instead\n",
      "\n",
      "See the caveats in the documentation: http://pandas.pydata.org/pandas-docs/stable/user_guide/indexing.html#returning-a-view-versus-a-copy\n",
      "  occultations_in_box['Temp'] = occultations_in_box['Temp'] - monthly_mean_in_box['Temp'].iloc[0]\n"
     ]
    },
    {
     "name": "stdout",
     "output_type": "stream",
     "text": [
      "2008\n"
     ]
    },
    {
     "name": "stderr",
     "output_type": "stream",
     "text": [
      "/home/disk/p/aodhan/cosmic/diurnal_cycle_corrections/sampling_biases/TLS_diurnal_climatology/gpsro_tools.py:213: RuntimeWarning: Mean of empty slice\n",
      "  daily_mean = np.nanmean(era5_daily_temps)\n"
     ]
    },
    {
     "name": "stdout",
     "output_type": "stream",
     "text": [
      "2009\n",
      "2010\n",
      "2011\n",
      "2012\n",
      "2013\n",
      "2014\n",
      "2015\n",
      "2016\n",
      "2017\n",
      "2018\n"
     ]
    },
    {
     "name": "stderr",
     "output_type": "stream",
     "text": [
      "/home/disk/p/aodhan/cosmic/diurnal_cycle_corrections/sampling_biases/TLS_diurnal_climatology/gpsro_tools.py:66: RuntimeWarning: Mean of empty slice\n",
      "  daily_mean_temp = np.nanmean(daily_average_bins)\n"
     ]
    },
    {
     "name": "stdout",
     "output_type": "stream",
     "text": [
      "2019\n",
      "2020\n",
      "2006\n",
      "2007\n",
      "2008\n",
      "2009\n",
      "2010\n",
      "2011\n",
      "2012\n",
      "2013\n",
      "2014\n",
      "2015\n",
      "2016\n",
      "2017\n",
      "2018\n",
      "2019\n",
      "2020\n",
      "2006\n",
      "2007\n",
      "2008\n",
      "2009\n",
      "2010\n",
      "2011\n",
      "2012\n",
      "2013\n",
      "2014\n",
      "2015\n",
      "2016\n",
      "2017\n",
      "2018\n",
      "2019\n",
      "2020\n"
     ]
    }
   ],
   "source": [
    "daily_era5_removed_and_bias_removed_apr = gpsro_tools.background_and_bias_remover(apr_year_info_df, era_5_apr_df)\n",
    "daily_era5_removed_and_bias_removed_may = gpsro_tools.background_and_bias_remover(may_year_info_df, era_5_may_df)\n",
    "daily_era5_removed_and_bias_removed_mar = gpsro_tools.background_and_bias_remover(mar_year_info_df, era_5_mar_df)"
   ]
  },
  {
   "cell_type": "markdown",
   "metadata": {},
   "source": [
    "#### Regroup data and drop NaN values"
   ]
  },
  {
   "cell_type": "code",
   "execution_count": 5,
   "metadata": {},
   "outputs": [],
   "source": [
    "data_all_mean_stuff_removed = pd.concat([daily_era5_removed_and_bias_removed_mar, \n",
    "                                         daily_era5_removed_and_bias_removed_apr,\n",
    "                                         daily_era5_removed_and_bias_removed_may])\n",
    "data_all_mean_stuff_removed.dropna(subset=[\"Temp\"], inplace=True)"
   ]
  },
  {
   "cell_type": "markdown",
   "metadata": {},
   "source": [
    "<h1> Now create the diurnal cycles\n"
   ]
  },
  {
   "cell_type": "code",
   "execution_count": 7,
   "metadata": {},
   "outputs": [
    {
     "name": "stderr",
     "output_type": "stream",
     "text": [
      "/home/disk/p/aodhan/cosmic/diurnal_cycle_corrections/sampling_biases/TLS_diurnal_climatology/gpsro_tools.py:260: SettingWithCopyWarning: \n",
      "A value is trying to be set on a copy of a slice from a DataFrame\n",
      "\n",
      "See the caveats in the documentation: http://pandas.pydata.org/pandas-docs/stable/user_guide/indexing.html#returning-a-view-versus-a-copy\n",
      "  lat_lon_box.dropna(subset = [\"Temp\"], inplace=True)\n",
      "/home/disk/p/aodhan/cosmic/diurnal_cycle_corrections/sampling_biases/TLS_diurnal_climatology/gpsro_tools.py:261: SettingWithCopyWarning: \n",
      "A value is trying to be set on a copy of a slice from a DataFrame.\n",
      "Try using .loc[row_indexer,col_indexer] = value instead\n",
      "\n",
      "See the caveats in the documentation: http://pandas.pydata.org/pandas-docs/stable/user_guide/indexing.html#returning-a-view-versus-a-copy\n",
      "  lat_lon_box['Temp'] = lat_lon_box['Temp'] - lat_lon_box.Temp.mean()\n"
     ]
    }
   ],
   "source": [
    "cleaned_diurnal_cycle_data = gpsro_tools.box_mean_remover(data_all_mean_stuff_removed)\n",
    "diurnal_cycles_by_lat, diurnal_cycles_in_boxes = gpsro_tools.diurnal_binner(cleaned_diurnal_cycle_data)"
   ]
  },
  {
   "cell_type": "code",
   "execution_count": 13,
   "metadata": {},
   "outputs": [],
   "source": [
    "np.save('MAM_GPSRO_5_10_boxes_diurnal_cycles', diurnal_cycles_in_boxes)"
   ]
  },
  {
   "cell_type": "code",
   "execution_count": null,
   "metadata": {},
   "outputs": [],
   "source": []
  }
 ],
 "metadata": {
  "kernelspec": {
   "display_name": "Python 3",
   "language": "python",
   "name": "python3"
  },
  "language_info": {
   "codemirror_mode": {
    "name": "ipython",
    "version": 3
   },
   "file_extension": ".py",
   "mimetype": "text/x-python",
   "name": "python",
   "nbconvert_exporter": "python",
   "pygments_lexer": "ipython3",
   "version": "3.7.4"
  }
 },
 "nbformat": 4,
 "nbformat_minor": 4
}
