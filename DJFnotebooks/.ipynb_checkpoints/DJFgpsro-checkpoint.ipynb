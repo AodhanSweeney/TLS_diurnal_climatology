{
 "cells": [
  {
   "cell_type": "code",
   "execution_count": 1,
   "metadata": {},
   "outputs": [],
   "source": [
    "import numpy as np\n",
    "import pandas as pd\n",
    "import matplotlib.pyplot as plt\n",
    "import gpsro_tools"
   ]
  },
  {
   "cell_type": "markdown",
   "metadata": {},
   "source": [
    "# Import Occultation Data"
   ]
  },
  {
   "cell_type": "code",
   "execution_count": 2,
   "metadata": {},
   "outputs": [],
   "source": [
    "# Import occultation data\n",
    "december_year_info = np.load('/usb/monthly_diurnal_cycle_data_occultations/december_cosmic_diurnal_cycles_TLS_year_info.npy', allow_pickle=True)\n",
    "january_year_info = np.load('/usb/monthly_diurnal_cycle_data_occultations/january_cosmic_diurnal_cycles_TLS_year_info.npy', allow_pickle=True)\n",
    "february_year_info = np.load('/usb/monthly_diurnal_cycle_data_occultations/february_cosmic_diurnal_cycles_TLS_year_info.npy', allow_pickle=True)\n",
    "\n",
    "december_year_info_metopa = np.load('/usb/monthly_diurnal_cycle_data_occultations/december_metop_A_diurnal_cycles_TLS_year_info.npy', allow_pickle=True)\n",
    "january_year_info_metopa = np.load('/usb/monthly_diurnal_cycle_data_occultations/january_metop_A_diurnal_cycles_TLS_year_info.npy', allow_pickle=True)\n",
    "february_year_info_metopa = np.load('/usb/monthly_diurnal_cycle_data_occultations/february_metop_A_diurnal_cycles_TLS_year_info.npy', allow_pickle=True)\n",
    "\n",
    "december_year_info_metopb = np.load('/usb/monthly_diurnal_cycle_data_occultations/december_metop_B_diurnal_cycles_TLS_year_info.npy', allow_pickle=True)\n",
    "january_year_info_metopb = np.load('/usb/monthly_diurnal_cycle_data_occultations/january_metop_B_diurnal_cycles_TLS_year_info.npy', allow_pickle=True)\n",
    "february_year_info_metopb = np.load('/usb/monthly_diurnal_cycle_data_occultations/february_metop_B_diurnal_cycles_TLS_year_info.npy', allow_pickle=True)\n",
    "\n",
    "december_year_info_grace = np.load('/usb/monthly_diurnal_cycle_data_occultations/december_grace_diurnal_cycles_TLS_year_info.npy', allow_pickle=True)\n",
    "january_year_info_grace = np.load('/usb/monthly_diurnal_cycle_data_occultations/january_grace_diurnal_cycles_TLS_year_info.npy', allow_pickle=True)\n",
    "february_year_info_grace = np.load('/usb/monthly_diurnal_cycle_data_occultations/february_grace_diurnal_cycles_TLS_year_info.npy', allow_pickle=True)\n",
    "\n",
    "december_year_info_tsx = np.load('/usb/monthly_diurnal_cycle_data_occultations/december_tsx_diurnal_cycles_TLS_year_info.npy', allow_pickle=True)\n",
    "january_year_info_tsx = np.load('/usb/monthly_diurnal_cycle_data_occultations/january_tsx_diurnal_cycles_TLS_year_info.npy', allow_pickle=True)\n",
    "february_year_info_tsx = np.load('/usb/monthly_diurnal_cycle_data_occultations/february_tsx_diurnal_cycles_TLS_year_info.npy', allow_pickle=True)\n",
    "\n",
    "december_year_info_kompsat5 = np.load('/usb/monthly_diurnal_cycle_data_occultations/december_kompsat5_diurnal_cycles_TLS_year_info.npy', allow_pickle=True)\n",
    "january_year_info_kompsat5 = np.load('/usb/monthly_diurnal_cycle_data_occultations/january_kompsat5_diurnal_cycles_TLS_year_info.npy', allow_pickle=True)\n",
    "february_year_info_kompsat5 = np.load('/usb/monthly_diurnal_cycle_data_occultations/february_kompsat5_diurnal_cycles_TLS_year_info.npy', allow_pickle=True)\n",
    "\n",
    "december_year_info_paz = np.load('/usb/monthly_diurnal_cycle_data_occultations/december_paz_diurnal_cycles_TLS_year_info.npy', allow_pickle=True)\n",
    "january_year_info_paz = np.load('/usb/monthly_diurnal_cycle_data_occultations/january_paz_diurnal_cycles_TLS_year_info.npy', allow_pickle=True)\n",
    "february_year_info_paz = np.load('/usb/monthly_diurnal_cycle_data_occultations/february_paz_diurnal_cycles_TLS_year_info.npy', allow_pickle=True)\n",
    "\n",
    "december_year_info_cosmic2 = np.load('/usb/monthly_diurnal_cycle_data_occultations/december_cosmic2_diurnal_cycles_TLS_year_info.npy', allow_pickle=True)\n",
    "january_year_info_cosmic2 = np.load('/usb/monthly_diurnal_cycle_data_occultations/january_cosmic2_diurnal_cycles_TLS_year_info.npy', allow_pickle=True)\n",
    "february_year_info_cosmic2 = np.load('/usb/monthly_diurnal_cycle_data_occultations/february_cosmic2_diurnal_cycles_TLS_year_info.npy', allow_pickle=True)\n",
    "\n",
    "december_year_info_sacc = np.load('/usb/monthly_diurnal_cycle_data_occultations/december_sacc_diurnal_cycles_TLS_year_info.npy', allow_pickle=True)\n",
    "january_year_info_sacc = np.load('/usb/monthly_diurnal_cycle_data_occultations/january_sacc_diurnal_cycles_TLS_year_info.npy', allow_pickle=True)\n",
    "february_year_info_sacc = np.load('/usb/monthly_diurnal_cycle_data_occultations/february_sacc_diurnal_cycles_TLS_year_info.npy', allow_pickle=True)\n",
    "\n",
    "december_year_info_tdx = np.load('/usb/monthly_diurnal_cycle_data_occultations/december_tdx_diurnal_cycles_TLS_year_info.npy', allow_pickle=True)\n",
    "january_year_info_tdx = np.load('/usb/monthly_diurnal_cycle_data_occultations/january_tdx_diurnal_cycles_TLS_year_info.npy', allow_pickle=True)\n",
    "february_year_info_tdx = np.load('/usb/monthly_diurnal_cycle_data_occultations/february_tdx_diurnal_cycles_TLS_year_info.npy', allow_pickle=True)\n",
    "\n",
    "december_year_info_metopc = np.load('/usb/monthly_diurnal_cycle_data_occultations/december_metopc_diurnal_cycles_TLS_year_info.npy', allow_pickle=True)\n",
    "january_year_info_metopc = np.load('/usb/monthly_diurnal_cycle_data_occultations/january_metopc_diurnal_cycles_TLS_year_info.npy', allow_pickle=True)\n",
    "february_year_info_metopc = np.load('/usb/monthly_diurnal_cycle_data_occultations/february_metopc_diurnal_cycles_TLS_year_info.npy', allow_pickle=True)\n",
    "\n",
    "\n",
    "jan_data = np.concatenate((january_year_info.T, january_year_info_metopa.T, january_year_info_metopb.T, \n",
    "                           january_year_info_grace.T, january_year_info_tsx.T, january_year_info_kompsat5.T, \n",
    "                           january_year_info_cosmic2.T, january_year_info_paz.T, january_year_info_sacc.T, \n",
    "                           january_year_info_tdx.T, january_year_info_metopc.T))\n",
    "feb_data = np.concatenate((february_year_info.T, february_year_info_metopa.T, february_year_info_metopb.T,\n",
    "                           february_year_info_grace.T, february_year_info_tsx.T, february_year_info_kompsat5.T, \n",
    "                           february_year_info_cosmic2.T, february_year_info_paz.T, february_year_info_sacc.T, \n",
    "                           february_year_info_tdx.T, february_year_info_metopc.T))\n",
    "dec_data = np.concatenate((december_year_info.T, december_year_info_metopa.T, december_year_info_metopb.T, \n",
    "                           december_year_info_grace.T, december_year_info_tsx.T, december_year_info_kompsat5.T, \n",
    "                           december_year_info_cosmic2.T, december_year_info_paz.T, december_year_info_sacc.T, \n",
    "                           december_year_info_tdx.T, december_year_info_metopc.T))\n",
    "\n",
    "#create dataframes for season\n",
    "jan_year_info_df = pd.DataFrame(jan_data, columns=['Lat', 'Lon', 'Year', 'Day', 'Hour', 'Temp'])\n",
    "feb_year_info_df = pd.DataFrame(feb_data, columns=['Lat', 'Lon', 'Year', 'Day', 'Hour', 'Temp'])\n",
    "dec_year_info_df = pd.DataFrame(dec_data, columns=['Lat', 'Lon', 'Year', 'Day', 'Hour', 'Temp'])"
   ]
  },
  {
   "cell_type": "markdown",
   "metadata": {},
   "source": [
    "# Import ERA-5 Data"
   ]
  },
  {
   "cell_type": "code",
   "execution_count": 3,
   "metadata": {},
   "outputs": [
    {
     "name": "stderr",
     "output_type": "stream",
     "text": [
      "/home/disk/p/aodhan/cosmic/diurnal_cycle_corrections/sampling_biases/TLS_diurnal_cycles/gpsro_tools.py:152: SettingWithCopyWarning: \n",
      "A value is trying to be set on a copy of a slice from a DataFrame.\n",
      "Try using .loc[row_indexer,col_indexer] = value instead\n",
      "\n",
      "See the caveats in the documentation: http://pandas.pydata.org/pandas-docs/stable/user_guide/indexing.html#returning-a-view-versus-a-copy\n",
      "  era_5_df_pos_lons['Lon'] = era_5_df_pos_lons['Lon'] - 180.\n",
      "/home/disk/p/aodhan/cosmic/diurnal_cycle_corrections/sampling_biases/TLS_diurnal_cycles/gpsro_tools.py:153: SettingWithCopyWarning: \n",
      "A value is trying to be set on a copy of a slice from a DataFrame.\n",
      "Try using .loc[row_indexer,col_indexer] = value instead\n",
      "\n",
      "See the caveats in the documentation: http://pandas.pydata.org/pandas-docs/stable/user_guide/indexing.html#returning-a-view-versus-a-copy\n",
      "  era_5_df_neg_lons['Lon'] = era_5_df_neg_lons['Lon'] + 180\n"
     ]
    }
   ],
   "source": [
    "era_5_jan_07_5x10 = np.load('../../ERA_5_monthly_TLS_maps/january_2007_ERA_5_daily_zonal_mean_TLS_map_5_10.npy', allow_pickle=True)\n",
    "era_5_jan_08_5x10 = np.load('../../ERA_5_monthly_TLS_maps/january_2008_ERA_5_daily_zonal_mean_TLS_map_5_10.npy', allow_pickle=True)\n",
    "era_5_jan_09_5x10 = np.load('../../ERA_5_monthly_TLS_maps/january_2009_ERA_5_daily_zonal_mean_TLS_map_5_10.npy', allow_pickle=True)\n",
    "era_5_jan_10_5x10 = np.load('../../ERA_5_monthly_TLS_maps/january_2010_ERA_5_daily_zonal_mean_TLS_map_5_10.npy', allow_pickle=True)\n",
    "era_5_jan_11_5x10 = np.load('../../ERA_5_monthly_TLS_maps/january_2011_ERA_5_daily_zonal_mean_TLS_map_5_10.npy', allow_pickle=True)\n",
    "era_5_jan_12_5x10 = np.load('../../ERA_5_monthly_TLS_maps/january_2012_ERA_5_daily_zonal_mean_TLS_map_5_10.npy', allow_pickle=True)\n",
    "era_5_jan_13_5x10 = np.load('../../ERA_5_monthly_TLS_maps/january_2013_ERA_5_daily_zonal_mean_TLS_map_5_10.npy', allow_pickle=True)\n",
    "era_5_jan_14_5x10 = np.load('../../ERA_5_monthly_TLS_maps/january_2014_ERA_5_daily_zonal_mean_TLS_map_5_10.npy', allow_pickle=True)\n",
    "era_5_jan_15_5x10 = np.load('../../ERA_5_monthly_TLS_maps/january_2015_ERA_5_daily_zonal_mean_TLS_map_5_10.npy', allow_pickle=True)\n",
    "era_5_jan_16_5x10 = np.load('../../ERA_5_monthly_TLS_maps/january_2016_ERA_5_daily_zonal_mean_TLS_map_5_10.npy', allow_pickle=True)\n",
    "era_5_jan_17_5x10 = np.load('../../ERA_5_monthly_TLS_maps/january_2017_ERA_5_daily_zonal_mean_TLS_map_5_10.npy', allow_pickle=True)\n",
    "era_5_jan_18_5x10 = np.load('../../ERA_5_monthly_TLS_maps/january_2018_ERA_5_daily_zonal_mean_TLS_map_5_10.npy', allow_pickle=True)\n",
    "era_5_jan_19_5x10 = np.load('../../ERA_5_monthly_TLS_maps/january_2019_ERA_5_daily_zonal_mean_TLS_map_5_10.npy', allow_pickle=True)\n",
    "era_5_jan_20_5x10 = np.load('../../ERA_5_monthly_TLS_maps/january_2020_ERA_5_daily_zonal_mean_TLS_map_5_10.npy', allow_pickle=True)\n",
    "\n",
    "era_5_feb_07_5x10 = np.load('../../ERA_5_monthly_TLS_maps/february_2007_ERA_5_daily_zonal_mean_TLS_map_5_10.npy', allow_pickle=True)\n",
    "era_5_feb_08_5x10 = np.load('../../ERA_5_monthly_TLS_maps/february_2008_ERA_5_daily_zonal_mean_TLS_map_5_10.npy', allow_pickle=True)\n",
    "era_5_feb_09_5x10 = np.load('../../ERA_5_monthly_TLS_maps/february_2009_ERA_5_daily_zonal_mean_TLS_map_5_10.npy', allow_pickle=True)\n",
    "era_5_feb_10_5x10 = np.load('../../ERA_5_monthly_TLS_maps/february_2010_ERA_5_daily_zonal_mean_TLS_map_5_10.npy', allow_pickle=True)\n",
    "era_5_feb_11_5x10 = np.load('../../ERA_5_monthly_TLS_maps/february_2011_ERA_5_daily_zonal_mean_TLS_map_5_10.npy', allow_pickle=True)\n",
    "era_5_feb_12_5x10 = np.load('../../ERA_5_monthly_TLS_maps/february_2012_ERA_5_daily_zonal_mean_TLS_map_5_10.npy', allow_pickle=True)\n",
    "era_5_feb_13_5x10 = np.load('../../ERA_5_monthly_TLS_maps/february_2013_ERA_5_daily_zonal_mean_TLS_map_5_10.npy', allow_pickle=True)\n",
    "era_5_feb_14_5x10 = np.load('../../ERA_5_monthly_TLS_maps/february_2014_ERA_5_daily_zonal_mean_TLS_map_5_10.npy', allow_pickle=True)\n",
    "era_5_feb_15_5x10 = np.load('../../ERA_5_monthly_TLS_maps/february_2015_ERA_5_daily_zonal_mean_TLS_map_5_10.npy', allow_pickle=True)\n",
    "era_5_feb_16_5x10 = np.load('../../ERA_5_monthly_TLS_maps/february_2016_ERA_5_daily_zonal_mean_TLS_map_5_10.npy', allow_pickle=True)\n",
    "era_5_feb_17_5x10 = np.load('../../ERA_5_monthly_TLS_maps/february_2017_ERA_5_daily_zonal_mean_TLS_map_5_10.npy', allow_pickle=True)\n",
    "era_5_feb_18_5x10 = np.load('../../ERA_5_monthly_TLS_maps/february_2018_ERA_5_daily_zonal_mean_TLS_map_5_10.npy', allow_pickle=True)\n",
    "era_5_feb_19_5x10 = np.load('../../ERA_5_monthly_TLS_maps/february_2019_ERA_5_daily_zonal_mean_TLS_map_5_10.npy', allow_pickle=True)\n",
    "era_5_feb_20_5x10 = np.load('../../ERA_5_monthly_TLS_maps/february_2020_ERA_5_daily_zonal_mean_TLS_map_5_10.npy', allow_pickle=True)\n",
    "\n",
    "era_5_dec_06_5x10 = np.load('../../ERA_5_monthly_TLS_maps/december_2006_ERA_5_daily_zonal_mean_TLS_map_5_10.npy', allow_pickle=True)\n",
    "era_5_dec_07_5x10 = np.load('../../ERA_5_monthly_TLS_maps/december_2007_ERA_5_daily_zonal_mean_TLS_map_5_10.npy', allow_pickle=True)\n",
    "era_5_dec_08_5x10 = np.load('../../ERA_5_monthly_TLS_maps/december_2008_ERA_5_daily_zonal_mean_TLS_map_5_10.npy', allow_pickle=True)\n",
    "era_5_dec_09_5x10 = np.load('../../ERA_5_monthly_TLS_maps/december_2009_ERA_5_daily_zonal_mean_TLS_map_5_10.npy', allow_pickle=True)\n",
    "era_5_dec_10_5x10 = np.load('../../ERA_5_monthly_TLS_maps/december_2010_ERA_5_daily_zonal_mean_TLS_map_5_10.npy', allow_pickle=True)\n",
    "era_5_dec_11_5x10 = np.load('../../ERA_5_monthly_TLS_maps/december_2011_ERA_5_daily_zonal_mean_TLS_map_5_10.npy', allow_pickle=True)\n",
    "era_5_dec_12_5x10 = np.load('../../ERA_5_monthly_TLS_maps/december_2012_ERA_5_daily_zonal_mean_TLS_map_5_10.npy', allow_pickle=True)\n",
    "era_5_dec_13_5x10 = np.load('../../ERA_5_monthly_TLS_maps/december_2013_ERA_5_daily_zonal_mean_TLS_map_5_10.npy', allow_pickle=True)\n",
    "era_5_dec_14_5x10 = np.load('../../ERA_5_monthly_TLS_maps/december_2014_ERA_5_daily_zonal_mean_TLS_map_5_10.npy', allow_pickle=True)\n",
    "era_5_dec_15_5x10 = np.load('../../ERA_5_monthly_TLS_maps/december_2015_ERA_5_daily_zonal_mean_TLS_map_5_10.npy', allow_pickle=True)\n",
    "era_5_dec_16_5x10 = np.load('../../ERA_5_monthly_TLS_maps/december_2016_ERA_5_daily_zonal_mean_TLS_map_5_10.npy', allow_pickle=True)\n",
    "era_5_dec_17_5x10 = np.load('../../ERA_5_monthly_TLS_maps/december_2017_ERA_5_daily_zonal_mean_TLS_map_5_10.npy', allow_pickle=True)\n",
    "era_5_dec_18_5x10 = np.load('../../ERA_5_monthly_TLS_maps/december_2018_ERA_5_daily_zonal_mean_TLS_map_5_10.npy', allow_pickle=True)\n",
    "era_5_dec_19_5x10 = np.load('../../ERA_5_monthly_TLS_maps/december_2019_ERA_5_daily_zonal_mean_TLS_map_5_10.npy', allow_pickle=True)\n",
    "\n",
    "era_5_jan_07_5x10_df = gpsro_tools.era5_df_switcher(era_5_jan_07_5x10)\n",
    "era_5_jan_08_5x10_df = gpsro_tools.era5_df_switcher(era_5_jan_08_5x10)\n",
    "era_5_jan_09_5x10_df = gpsro_tools.era5_df_switcher(era_5_jan_09_5x10)\n",
    "era_5_jan_10_5x10_df = gpsro_tools.era5_df_switcher(era_5_jan_10_5x10)\n",
    "era_5_jan_11_5x10_df = gpsro_tools.era5_df_switcher(era_5_jan_11_5x10)\n",
    "era_5_jan_12_5x10_df = gpsro_tools.era5_df_switcher(era_5_jan_12_5x10)\n",
    "era_5_jan_13_5x10_df = gpsro_tools.era5_df_switcher(era_5_jan_13_5x10)\n",
    "era_5_jan_14_5x10_df = gpsro_tools.era5_df_switcher(era_5_jan_14_5x10)\n",
    "era_5_jan_15_5x10_df = gpsro_tools.era5_df_switcher(era_5_jan_15_5x10)\n",
    "era_5_jan_16_5x10_df = gpsro_tools.era5_df_switcher(era_5_jan_16_5x10)\n",
    "era_5_jan_17_5x10_df = gpsro_tools.era5_df_switcher(era_5_jan_17_5x10)\n",
    "era_5_jan_18_5x10_df = gpsro_tools.era5_df_switcher(era_5_jan_18_5x10)\n",
    "era_5_jan_19_5x10_df = gpsro_tools.era5_df_switcher(era_5_jan_19_5x10)\n",
    "era_5_jan_20_5x10_df = gpsro_tools.era5_df_switcher(era_5_jan_20_5x10)\n",
    "\n",
    "era_5_feb_07_5x10_df = gpsro_tools.era5_df_switcher(era_5_feb_07_5x10)\n",
    "era_5_feb_08_5x10_df = gpsro_tools.era5_df_switcher(era_5_feb_08_5x10)\n",
    "era_5_feb_09_5x10_df = gpsro_tools.era5_df_switcher(era_5_feb_09_5x10)\n",
    "era_5_feb_10_5x10_df = gpsro_tools.era5_df_switcher(era_5_feb_10_5x10)\n",
    "era_5_feb_11_5x10_df = gpsro_tools.era5_df_switcher(era_5_feb_11_5x10)\n",
    "era_5_feb_12_5x10_df = gpsro_tools.era5_df_switcher(era_5_feb_12_5x10)\n",
    "era_5_feb_13_5x10_df = gpsro_tools.era5_df_switcher(era_5_feb_13_5x10)\n",
    "era_5_feb_14_5x10_df = gpsro_tools.era5_df_switcher(era_5_feb_14_5x10)\n",
    "era_5_feb_15_5x10_df = gpsro_tools.era5_df_switcher(era_5_feb_15_5x10)\n",
    "era_5_feb_16_5x10_df = gpsro_tools.era5_df_switcher(era_5_feb_16_5x10)\n",
    "era_5_feb_17_5x10_df = gpsro_tools.era5_df_switcher(era_5_feb_17_5x10)\n",
    "era_5_feb_18_5x10_df = gpsro_tools.era5_df_switcher(era_5_feb_18_5x10)\n",
    "era_5_feb_19_5x10_df = gpsro_tools.era5_df_switcher(era_5_feb_19_5x10)\n",
    "era_5_feb_20_5x10_df = gpsro_tools.era5_df_switcher(era_5_feb_20_5x10)\n",
    "\n",
    "era_5_dec_06_5x10_df = gpsro_tools.era5_df_switcher(era_5_dec_06_5x10)\n",
    "era_5_dec_07_5x10_df = gpsro_tools.era5_df_switcher(era_5_dec_07_5x10)\n",
    "era_5_dec_08_5x10_df = gpsro_tools.era5_df_switcher(era_5_dec_08_5x10)\n",
    "era_5_dec_09_5x10_df = gpsro_tools.era5_df_switcher(era_5_dec_09_5x10)\n",
    "era_5_dec_10_5x10_df = gpsro_tools.era5_df_switcher(era_5_dec_10_5x10)\n",
    "era_5_dec_11_5x10_df = gpsro_tools.era5_df_switcher(era_5_dec_11_5x10)\n",
    "era_5_dec_12_5x10_df = gpsro_tools.era5_df_switcher(era_5_dec_12_5x10)\n",
    "era_5_dec_13_5x10_df = gpsro_tools.era5_df_switcher(era_5_dec_13_5x10)\n",
    "era_5_dec_14_5x10_df = gpsro_tools.era5_df_switcher(era_5_dec_14_5x10)\n",
    "era_5_dec_15_5x10_df = gpsro_tools.era5_df_switcher(era_5_dec_15_5x10)\n",
    "era_5_dec_16_5x10_df = gpsro_tools.era5_df_switcher(era_5_dec_16_5x10)\n",
    "era_5_dec_17_5x10_df = gpsro_tools.era5_df_switcher(era_5_dec_17_5x10)\n",
    "era_5_dec_18_5x10_df = gpsro_tools.era5_df_switcher(era_5_dec_18_5x10)\n",
    "era_5_dec_19_5x10_df = gpsro_tools.era5_df_switcher(era_5_dec_19_5x10)\n",
    "\n",
    "\n",
    "\n",
    "era_5_jan_df = pd.concat([era_5_jan_07_5x10_df, era_5_jan_08_5x10_df, era_5_jan_09_5x10_df, era_5_jan_10_5x10_df, \n",
    "                          era_5_jan_11_5x10_df, era_5_jan_12_5x10_df, era_5_jan_13_5x10_df, era_5_jan_14_5x10_df, \n",
    "                          era_5_jan_15_5x10_df, era_5_jan_16_5x10_df, era_5_jan_17_5x10_df, era_5_jan_18_5x10_df, \n",
    "                          era_5_jan_19_5x10_df, era_5_jan_20_5x10_df])\n",
    "era_5_feb_df = pd.concat([era_5_feb_07_5x10_df, era_5_feb_08_5x10_df, era_5_feb_09_5x10_df, era_5_feb_10_5x10_df, \n",
    "                          era_5_feb_11_5x10_df, era_5_feb_12_5x10_df, era_5_feb_13_5x10_df, era_5_feb_14_5x10_df, \n",
    "                          era_5_feb_15_5x10_df, era_5_feb_16_5x10_df, era_5_feb_17_5x10_df, era_5_feb_18_5x10_df, \n",
    "                          era_5_feb_19_5x10_df, era_5_feb_20_5x10_df])\n",
    "era_5_dec_df = pd.concat([era_5_dec_06_5x10_df, era_5_dec_07_5x10_df, era_5_dec_08_5x10_df, era_5_dec_09_5x10_df, \n",
    "                          era_5_dec_10_5x10_df, era_5_dec_11_5x10_df, era_5_dec_12_5x10_df, era_5_dec_13_5x10_df, \n",
    "                          era_5_dec_14_5x10_df, era_5_dec_15_5x10_df, era_5_dec_16_5x10_df, era_5_dec_17_5x10_df, \n",
    "                          era_5_dec_18_5x10_df, era_5_dec_19_5x10_df])"
   ]
  },
  {
   "cell_type": "markdown",
   "metadata": {},
   "source": [
    "# Begin processing"
   ]
  },
  {
   "cell_type": "code",
   "execution_count": 4,
   "metadata": {},
   "outputs": [
    {
     "name": "stdout",
     "output_type": "stream",
     "text": [
      "2006\n",
      "2007\n"
     ]
    },
    {
     "name": "stderr",
     "output_type": "stream",
     "text": [
      "/home/disk/p/aodhan/cosmic/diurnal_cycle_corrections/sampling_biases/TLS_diurnal_cycles/gpsro_tools.py:196: SettingWithCopyWarning: \n",
      "A value is trying to be set on a copy of a slice from a DataFrame.\n",
      "Try using .loc[row_indexer,col_indexer] = value instead\n",
      "\n",
      "See the caveats in the documentation: http://pandas.pydata.org/pandas-docs/stable/user_guide/indexing.html#returning-a-view-versus-a-copy\n",
      "  year_of_occultations[\"latbin\"] = year_of_occultations.Lat.map(to_bin_lat)\n",
      "/home/disk/p/aodhan/cosmic/diurnal_cycle_corrections/sampling_biases/TLS_diurnal_cycles/gpsro_tools.py:197: SettingWithCopyWarning: \n",
      "A value is trying to be set on a copy of a slice from a DataFrame.\n",
      "Try using .loc[row_indexer,col_indexer] = value instead\n",
      "\n",
      "See the caveats in the documentation: http://pandas.pydata.org/pandas-docs/stable/user_guide/indexing.html#returning-a-view-versus-a-copy\n",
      "  year_of_occultations['lonbin'] = year_of_occultations.Lon.map(to_bin_lon)\n",
      "/home/disk/p/aodhan/anaconda3/lib/python3.7/site-packages/pandas/core/generic.py:5208: SettingWithCopyWarning: \n",
      "A value is trying to be set on a copy of a slice from a DataFrame.\n",
      "Try using .loc[row_indexer,col_indexer] = value instead\n",
      "\n",
      "See the caveats in the documentation: http://pandas.pydata.org/pandas-docs/stable/user_guide/indexing.html#returning-a-view-versus-a-copy\n",
      "  self[name] = value\n",
      "/home/disk/p/aodhan/cosmic/diurnal_cycle_corrections/sampling_biases/TLS_diurnal_cycles/gpsro_tools.py:37: FutureWarning: Interpreting tuple 'by' as a list of keys, rather than a single key. Use 'by=[...]' instead of 'by=(...)'. In the future, a tuple will always mean a single key.\n",
      "  grid_groups = season_of_cosmic_data.groupby((\"latbin\", 'lonbin'))\n",
      "/home/disk/p/aodhan/cosmic/diurnal_cycle_corrections/sampling_biases/TLS_diurnal_cycles/gpsro_tools.py:51: SettingWithCopyWarning: \n",
      "A value is trying to be set on a copy of a slice from a DataFrame\n",
      "\n",
      "See the caveats in the documentation: http://pandas.pydata.org/pandas-docs/stable/user_guide/indexing.html#returning-a-view-versus-a-copy\n",
      "  cosmic_grid_cell.dropna(subset=[\"Temp\"], inplace=True)\n",
      "/home/disk/p/aodhan/cosmic/diurnal_cycle_corrections/sampling_biases/TLS_diurnal_cycles/gpsro_tools.py:121: SettingWithCopyWarning: \n",
      "A value is trying to be set on a copy of a slice from a DataFrame.\n",
      "Try using .loc[row_indexer,col_indexer] = value instead\n",
      "\n",
      "See the caveats in the documentation: http://pandas.pydata.org/pandas-docs/stable/user_guide/indexing.html#returning-a-view-versus-a-copy\n",
      "  occultations_in_box['Temp'] = occultations_in_box['Temp'] - monthly_mean_in_box['Temp'].iloc[0]\n"
     ]
    },
    {
     "name": "stdout",
     "output_type": "stream",
     "text": [
      "2008\n",
      "2009\n",
      "2010\n",
      "2011\n",
      "2012\n",
      "2013\n",
      "2014\n",
      "2015\n",
      "2016\n",
      "2017\n",
      "2018\n",
      "2019\n",
      "2020\n",
      "2006\n",
      "2007\n",
      "2008\n",
      "2009\n"
     ]
    },
    {
     "name": "stderr",
     "output_type": "stream",
     "text": [
      "/home/disk/p/aodhan/cosmic/diurnal_cycle_corrections/sampling_biases/TLS_diurnal_cycles/gpsro_tools.py:213: RuntimeWarning: Mean of empty slice\n",
      "  daily_mean = np.nanmean(era5_daily_temps)\n",
      "/home/disk/p/aodhan/cosmic/diurnal_cycle_corrections/sampling_biases/TLS_diurnal_cycles/gpsro_tools.py:66: RuntimeWarning: Mean of empty slice\n",
      "  daily_mean_temp = np.nanmean(daily_average_bins)\n"
     ]
    },
    {
     "name": "stdout",
     "output_type": "stream",
     "text": [
      "2010\n",
      "2011\n",
      "2012\n",
      "2013\n",
      "2014\n",
      "2015\n",
      "2016\n",
      "2017\n",
      "2018\n",
      "2019\n",
      "2020\n",
      "2006\n",
      "2007\n",
      "2008\n",
      "2009\n",
      "2010\n",
      "2011\n",
      "2012\n",
      "2013\n",
      "2014\n",
      "2015\n",
      "2016\n",
      "2017\n",
      "2018\n",
      "2019\n",
      "2020\n"
     ]
    }
   ],
   "source": [
    "daily_era5_removed_and_bias_removed_jan = gpsro_tools.background_and_bias_remover(jan_year_info_df, era_5_jan_df)\n",
    "daily_era5_removed_and_bias_removed_feb = gpsro_tools.background_and_bias_remover(feb_year_info_df, era_5_feb_df)\n",
    "daily_era5_removed_and_bias_removed_dec = gpsro_tools.background_and_bias_remover(dec_year_info_df, era_5_dec_df)"
   ]
  },
  {
   "cell_type": "markdown",
   "metadata": {},
   "source": [
    "#### Regroup data and drop NaN values"
   ]
  },
  {
   "cell_type": "code",
   "execution_count": 5,
   "metadata": {},
   "outputs": [],
   "source": [
    "data_all_mean_stuff_removed = pd.concat([daily_era5_removed_and_bias_removed_jan, \n",
    "                                         daily_era5_removed_and_bias_removed_feb,\n",
    "                                         daily_era5_removed_and_bias_removed_dec])\n",
    "data_all_mean_stuff_removed.dropna(subset = [\"Temp\"], inplace=True)\n"
   ]
  },
  {
   "cell_type": "markdown",
   "metadata": {},
   "source": [
    "<h1> Now create the diurnal cycles\n"
   ]
  },
  {
   "cell_type": "code",
   "execution_count": 8,
   "metadata": {},
   "outputs": [],
   "source": [
    "cleaned_diurnal_cycle_data = gpsro_tools.box_mean_remover(data_all_mean_stuff_removed)\n",
    "diurnal_cycles_by_lat, diurnal_cycles_in_boxes = gpsro_tools.diurnal_binner(cleaned_diurnal_cycle_data)"
   ]
  },
  {
   "cell_type": "code",
   "execution_count": 13,
   "metadata": {},
   "outputs": [],
   "source": [
    "np.save('DJF_GPSRO_5_10_boxes_diurnal_cycles_test', diurnal_cycles_in_boxes)"
   ]
  },
  {
   "cell_type": "code",
   "execution_count": null,
   "metadata": {},
   "outputs": [],
   "source": []
  }
 ],
 "metadata": {
  "kernelspec": {
   "display_name": "Python 3",
   "language": "python",
   "name": "python3"
  },
  "language_info": {
   "codemirror_mode": {
    "name": "ipython",
    "version": 3
   },
   "file_extension": ".py",
   "mimetype": "text/x-python",
   "name": "python",
   "nbconvert_exporter": "python",
   "pygments_lexer": "ipython3",
   "version": "3.7.4"
  }
 },
 "nbformat": 4,
 "nbformat_minor": 4
}
