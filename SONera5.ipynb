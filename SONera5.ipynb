{
 "cells": [
  {
   "cell_type": "code",
   "execution_count": 1,
   "metadata": {},
   "outputs": [],
   "source": [
    "import numpy as np\n",
    "import pandas as pd\n",
    "import dask.dataframe as dd\n",
    "import era5_tools"
   ]
  },
  {
   "cell_type": "markdown",
   "metadata": {},
   "source": [
    "# Import ERA-5 SON data"
   ]
  },
  {
   "cell_type": "code",
   "execution_count": 2,
   "metadata": {},
   "outputs": [],
   "source": [
    "era_5_sep_06  = np.load('../../ERA_5_monthly_TLS_maps/september_2006_ERA_5_daily_zonal_mean_TLS_map_5_10.npy', allow_pickle=True)\n",
    "era_5_sep_07  = np.load('../../ERA_5_monthly_TLS_maps/september_2007_ERA_5_daily_zonal_mean_TLS_map_5_10.npy', allow_pickle=True)\n",
    "era_5_sep_08  = np.load('../../ERA_5_monthly_TLS_maps/september_2008_ERA_5_daily_zonal_mean_TLS_map_5_10.npy', allow_pickle=True)\n",
    "era_5_sep_09  = np.load('../../ERA_5_monthly_TLS_maps/september_2009_ERA_5_daily_zonal_mean_TLS_map_5_10.npy', allow_pickle=True)\n",
    "era_5_sep_10  = np.load('../../ERA_5_monthly_TLS_maps/september_2010_ERA_5_daily_zonal_mean_TLS_map_5_10.npy', allow_pickle=True)\n",
    "era_5_sep_11  = np.load('../../ERA_5_monthly_TLS_maps/september_2011_ERA_5_daily_zonal_mean_TLS_map_5_10.npy', allow_pickle=True)\n",
    "era_5_sep_12  = np.load('../../ERA_5_monthly_TLS_maps/september_2012_ERA_5_daily_zonal_mean_TLS_map_5_10.npy', allow_pickle=True)\n",
    "era_5_sep_13  = np.load('../../ERA_5_monthly_TLS_maps/september_2013_ERA_5_daily_zonal_mean_TLS_map_5_10.npy', allow_pickle=True)\n",
    "era_5_sep_14  = np.load('../../ERA_5_monthly_TLS_maps/september_2014_ERA_5_daily_zonal_mean_TLS_map_5_10.npy', allow_pickle=True)\n",
    "era_5_sep_15  = np.load('../../ERA_5_monthly_TLS_maps/september_2015_ERA_5_daily_zonal_mean_TLS_map_5_10.npy', allow_pickle=True)\n",
    "era_5_sep_16  = np.load('../../ERA_5_monthly_TLS_maps/september_2016_ERA_5_daily_zonal_mean_TLS_map_5_10.npy', allow_pickle=True)\n",
    "era_5_sep_17  = np.load('../../ERA_5_monthly_TLS_maps/september_2017_ERA_5_daily_zonal_mean_TLS_map_5_10.npy', allow_pickle=True)\n",
    "era_5_sep_18  = np.load('../../ERA_5_monthly_TLS_maps/september_2018_ERA_5_daily_zonal_mean_TLS_map_5_10.npy', allow_pickle=True)\n",
    "era_5_sep_19  = np.load('../../ERA_5_monthly_TLS_maps/september_2019_ERA_5_daily_zonal_mean_TLS_map_5_10.npy', allow_pickle=True)\n",
    "era_5_sep_20  = np.load('../../ERA_5_monthly_TLS_maps/september_2020_ERA_5_daily_zonal_mean_TLS_map_5_10.npy', allow_pickle=True)\n",
    "\n",
    "#era_5_oct_06  = np.load('../../ERA_5_monthly_TLS_maps/october_2006_ERA_5_daily_zonal_mean_TLS_map_5_10.npy', allow_pickle=True)\n",
    "era_5_oct_07  = np.load('../../ERA_5_monthly_TLS_maps/october_2007_ERA_5_daily_zonal_mean_TLS_map_5_10.npy', allow_pickle=True)\n",
    "era_5_oct_08  = np.load('../../ERA_5_monthly_TLS_maps/october_2008_ERA_5_daily_zonal_mean_TLS_map_5_10.npy', allow_pickle=True)\n",
    "era_5_oct_09  = np.load('../../ERA_5_monthly_TLS_maps/october_2009_ERA_5_daily_zonal_mean_TLS_map_5_10.npy', allow_pickle=True)\n",
    "era_5_oct_10  = np.load('../../ERA_5_monthly_TLS_maps/october_2010_ERA_5_daily_zonal_mean_TLS_map_5_10.npy', allow_pickle=True)\n",
    "era_5_oct_11  = np.load('../../ERA_5_monthly_TLS_maps/october_2011_ERA_5_daily_zonal_mean_TLS_map_5_10.npy', allow_pickle=True)\n",
    "era_5_oct_12  = np.load('../../ERA_5_monthly_TLS_maps/october_2012_ERA_5_daily_zonal_mean_TLS_map_5_10.npy', allow_pickle=True)\n",
    "era_5_oct_13  = np.load('../../ERA_5_monthly_TLS_maps/october_2013_ERA_5_daily_zonal_mean_TLS_map_5_10.npy', allow_pickle=True)\n",
    "era_5_oct_14  = np.load('../../ERA_5_monthly_TLS_maps/october_2014_ERA_5_daily_zonal_mean_TLS_map_5_10.npy', allow_pickle=True)\n",
    "era_5_oct_15  = np.load('../../ERA_5_monthly_TLS_maps/october_2015_ERA_5_daily_zonal_mean_TLS_map_5_10.npy', allow_pickle=True)\n",
    "era_5_oct_16  = np.load('../../ERA_5_monthly_TLS_maps/october_2016_ERA_5_daily_zonal_mean_TLS_map_5_10.npy', allow_pickle=True)\n",
    "era_5_oct_17  = np.load('../../ERA_5_monthly_TLS_maps/october_2017_ERA_5_daily_zonal_mean_TLS_map_5_10.npy', allow_pickle=True)\n",
    "era_5_oct_18  = np.load('../../ERA_5_monthly_TLS_maps/october_2018_ERA_5_daily_zonal_mean_TLS_map_5_10.npy', allow_pickle=True)\n",
    "era_5_oct_19  = np.load('../../ERA_5_monthly_TLS_maps/october_2019_ERA_5_daily_zonal_mean_TLS_map_5_10.npy', allow_pickle=True)\n",
    "era_5_oct_20  = np.load('../../ERA_5_monthly_TLS_maps/october_2020_ERA_5_daily_zonal_mean_TLS_map_5_10.npy', allow_pickle=True)\n",
    "\n",
    "era_5_nov_06  = np.load('../../ERA_5_monthly_TLS_maps/november_2006_ERA_5_daily_zonal_mean_TLS_map_5_10.npy', allow_pickle=True)\n",
    "era_5_nov_07  = np.load('../../ERA_5_monthly_TLS_maps/november_2007_ERA_5_daily_zonal_mean_TLS_map_5_10.npy', allow_pickle=True)\n",
    "era_5_nov_08  = np.load('../../ERA_5_monthly_TLS_maps/november_2008_ERA_5_daily_zonal_mean_TLS_map_5_10.npy', allow_pickle=True)\n",
    "era_5_nov_09  = np.load('../../ERA_5_monthly_TLS_maps/november_2009_ERA_5_daily_zonal_mean_TLS_map_5_10.npy', allow_pickle=True)\n",
    "era_5_nov_10  = np.load('../../ERA_5_monthly_TLS_maps/november_2010_ERA_5_daily_zonal_mean_TLS_map_5_10.npy', allow_pickle=True)\n",
    "era_5_nov_11  = np.load('../../ERA_5_monthly_TLS_maps/november_2011_ERA_5_daily_zonal_mean_TLS_map_5_10.npy', allow_pickle=True)\n",
    "era_5_nov_12  = np.load('../../ERA_5_monthly_TLS_maps/november_2012_ERA_5_daily_zonal_mean_TLS_map_5_10.npy', allow_pickle=True)\n",
    "era_5_nov_13  = np.load('../../ERA_5_monthly_TLS_maps/november_2013_ERA_5_daily_zonal_mean_TLS_map_5_10.npy', allow_pickle=True)\n",
    "era_5_nov_14  = np.load('../../ERA_5_monthly_TLS_maps/november_2014_ERA_5_daily_zonal_mean_TLS_map_5_10.npy', allow_pickle=True)\n",
    "era_5_nov_15  = np.load('../../ERA_5_monthly_TLS_maps/november_2015_ERA_5_daily_zonal_mean_TLS_map_5_10.npy', allow_pickle=True)\n",
    "era_5_nov_16  = np.load('../../ERA_5_monthly_TLS_maps/november_2016_ERA_5_daily_zonal_mean_TLS_map_5_10.npy', allow_pickle=True)\n",
    "era_5_nov_17  = np.load('../../ERA_5_monthly_TLS_maps/november_2017_ERA_5_daily_zonal_mean_TLS_map_5_10.npy', allow_pickle=True)\n",
    "era_5_nov_18  = np.load('../../ERA_5_monthly_TLS_maps/november_2018_ERA_5_daily_zonal_mean_TLS_map_5_10.npy', allow_pickle=True)\n",
    "era_5_nov_19  = np.load('../../ERA_5_monthly_TLS_maps/november_2019_ERA_5_daily_zonal_mean_TLS_map_5_10.npy', allow_pickle=True)\n",
    "era_5_nov_20  = np.load('../../ERA_5_monthly_TLS_maps/november_2020_ERA_5_daily_zonal_mean_TLS_map_5_10.npy', allow_pickle=True)\n",
    "\n",
    "era5_jja = np.concatenate([era_5_sep_06, era_5_sep_07, era_5_sep_08, era_5_sep_09, era_5_sep_10, era_5_sep_11, \n",
    "                           era_5_sep_12, era_5_sep_13, era_5_sep_14, era_5_sep_15, era_5_sep_16, era_5_sep_17, \n",
    "                           era_5_sep_18, era_5_sep_19, era_5_sep_20, era_5_oct_07, era_5_oct_08, \n",
    "                           era_5_oct_09, era_5_oct_10, era_5_oct_11, era_5_oct_12, era_5_oct_13, era_5_oct_14, \n",
    "                           era_5_oct_15, era_5_oct_16, era_5_oct_17, era_5_oct_18, era_5_oct_19, era_5_oct_20, \n",
    "                           era_5_nov_06, era_5_nov_07, era_5_nov_08, era_5_nov_09, era_5_nov_10, era_5_nov_11, \n",
    "                           era_5_nov_12, era_5_nov_13, era_5_nov_14, era_5_nov_15, era_5_nov_16, era_5_nov_17,\n",
    "                           era_5_nov_18, era_5_nov_19, era_5_nov_20])\n",
    "\n",
    "era_5_jja_df = pd.DataFrame(era5_jja, columns=['Day', 'Hour', 'Year', 'Lat', 'Lon', 'Temp'])"
   ]
  },
  {
   "cell_type": "code",
   "execution_count": 3,
   "metadata": {},
   "outputs": [
    {
     "name": "stdout",
     "output_type": "stream",
     "text": [
      "2006\n"
     ]
    },
    {
     "name": "stderr",
     "output_type": "stream",
     "text": [
      "/home/disk/p/aodhan/anaconda3/lib/python3.7/site-packages/pandas/core/generic.py:5208: SettingWithCopyWarning: \n",
      "A value is trying to be set on a copy of a slice from a DataFrame.\n",
      "Try using .loc[row_indexer,col_indexer] = value instead\n",
      "\n",
      "See the caveats in the documentation: http://pandas.pydata.org/pandas-docs/stable/user_guide/indexing.html#returning-a-view-versus-a-copy\n",
      "  self[name] = value\n"
     ]
    },
    {
     "name": "stdout",
     "output_type": "stream",
     "text": [
      "2007\n",
      "2008\n",
      "2009\n",
      "2010\n",
      "2011\n",
      "2012\n",
      "2013\n",
      "2014\n",
      "2015\n",
      "2016\n",
      "2017\n",
      "2018\n",
      "2019\n",
      "2020\n"
     ]
    }
   ],
   "source": [
    "daily_mean_removed = era5_tools.daily_mean_remover(era_5_jja_df)"
   ]
  },
  {
   "cell_type": "code",
   "execution_count": 4,
   "metadata": {},
   "outputs": [
    {
     "name": "stdout",
     "output_type": "stream",
     "text": [
      "Lat done:  -90\n",
      "Lat done:  -85\n",
      "Lat done:  -80\n",
      "Lat done:  -75\n",
      "Lat done:  -70\n",
      "Lat done:  -65\n",
      "Lat done:  -60\n",
      "Lat done:  -55\n",
      "Lat done:  -50\n",
      "Lat done:  -45\n",
      "Lat done:  -40\n",
      "Lat done:  -35\n",
      "Lat done:  -30\n",
      "Lat done:  -25\n",
      "Lat done:  -20\n",
      "Lat done:  -15\n",
      "Lat done:  -10\n",
      "Lat done:  -5\n",
      "Lat done:  0\n",
      "Lat done:  5\n",
      "Lat done:  10\n",
      "Lat done:  15\n",
      "Lat done:  20\n",
      "Lat done:  25\n",
      "Lat done:  30\n",
      "Lat done:  35\n",
      "Lat done:  40\n",
      "Lat done:  45\n",
      "Lat done:  50\n",
      "Lat done:  55\n",
      "Lat done:  60\n",
      "Lat done:  65\n",
      "Lat done:  70\n",
      "Lat done:  75\n",
      "Lat done:  80\n",
      "Lat done:  85\n"
     ]
    }
   ],
   "source": [
    "daily_mean_removed['hourbin'] = daily_mean_removed.Hour.map(era5_tools.to_bin_hour)\n",
    "sorted_dd = era5_tools.df_organizer(daily_mean_removed)\n",
    "cycles_in_boxes = era5_tools.diurnal_binner(sorted_dd)"
   ]
  },
  {
   "cell_type": "code",
   "execution_count": 5,
   "metadata": {},
   "outputs": [],
   "source": [
    "np.save('SON_ERA5_5x10_boxes_diurnal_cycles', cycles_in_boxes)"
   ]
  },
  {
   "cell_type": "code",
   "execution_count": null,
   "metadata": {},
   "outputs": [],
   "source": []
  }
 ],
 "metadata": {
  "kernelspec": {
   "display_name": "Python 3",
   "language": "python",
   "name": "python3"
  },
  "language_info": {
   "codemirror_mode": {
    "name": "ipython",
    "version": 3
   },
   "file_extension": ".py",
   "mimetype": "text/x-python",
   "name": "python",
   "nbconvert_exporter": "python",
   "pygments_lexer": "ipython3",
   "version": "3.7.4"
  }
 },
 "nbformat": 4,
 "nbformat_minor": 4
}
