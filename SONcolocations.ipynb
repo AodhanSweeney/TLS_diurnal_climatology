{
 "cells": [
  {
   "cell_type": "code",
   "execution_count": 1,
   "metadata": {},
   "outputs": [],
   "source": [
    "import numpy as np\n",
    "import pandas as pd\n",
    "import matplotlib.pyplot as plt\n",
    "import gpsro_tools"
   ]
  },
  {
   "cell_type": "markdown",
   "metadata": {},
   "source": [
    "# Import SON Colocations and ERA-5 all data maps"
   ]
  },
  {
   "cell_type": "code",
   "execution_count": 2,
   "metadata": {},
   "outputs": [
    {
     "name": "stderr",
     "output_type": "stream",
     "text": [
      "/home/disk/p/aodhan/anaconda3/lib/python3.7/site-packages/ipykernel_launcher.py:26: SettingWithCopyWarning: \n",
      "A value is trying to be set on a copy of a slice from a DataFrame.\n",
      "Try using .loc[row_indexer,col_indexer] = value instead\n",
      "\n",
      "See the caveats in the documentation: http://pandas.pydata.org/pandas-docs/stable/user_guide/indexing.html#returning-a-view-versus-a-copy\n",
      "/home/disk/p/aodhan/anaconda3/lib/python3.7/site-packages/ipykernel_launcher.py:27: SettingWithCopyWarning: \n",
      "A value is trying to be set on a copy of a slice from a DataFrame.\n",
      "Try using .loc[row_indexer,col_indexer] = value instead\n",
      "\n",
      "See the caveats in the documentation: http://pandas.pydata.org/pandas-docs/stable/user_guide/indexing.html#returning-a-view-versus-a-copy\n"
     ]
    }
   ],
   "source": [
    "sep_06 = np.load('/usb/ERA_5_sythetic_TLS_maps/ERA_5_occultation_colocated_TLS/september_2006_ERA_5_colocated_occultations.npy', allow_pickle=True)\n",
    "sep_07 = np.load('/usb/ERA_5_sythetic_TLS_maps/ERA_5_occultation_colocated_TLS/september_2007_ERA_5_colocated_occultations.npy', allow_pickle=True)\n",
    "sep_08 = np.load('/usb/ERA_5_sythetic_TLS_maps/ERA_5_occultation_colocated_TLS/september_2008_ERA_5_colocated_occultations.npy', allow_pickle=True)\n",
    "sep_09 = np.load('/usb/ERA_5_sythetic_TLS_maps/ERA_5_occultation_colocated_TLS/september_2009_ERA_5_colocated_occultations.npy', allow_pickle=True)\n",
    "sep_10 = np.load('/usb/ERA_5_sythetic_TLS_maps/ERA_5_occultation_colocated_TLS/september_2010_ERA_5_colocated_occultations.npy', allow_pickle=True)\n",
    "sep_11 = np.load('/usb/ERA_5_sythetic_TLS_maps/ERA_5_occultation_colocated_TLS/september_2011_ERA_5_colocated_occultations.npy', allow_pickle=True)\n",
    "sep_12 = np.load('/usb/ERA_5_sythetic_TLS_maps/ERA_5_occultation_colocated_TLS/september_2012_ERA_5_colocated_occultations.npy', allow_pickle=True)\n",
    "sep_13 = np.load('/usb/ERA_5_sythetic_TLS_maps/ERA_5_occultation_colocated_TLS/september_2013_ERA_5_colocated_occultations.npy', allow_pickle=True)\n",
    "sep_14 = np.load('/usb/ERA_5_sythetic_TLS_maps/ERA_5_occultation_colocated_TLS/september_2014_ERA_5_colocated_occultations.npy', allow_pickle=True)\n",
    "sep_15 = np.load('/usb/ERA_5_sythetic_TLS_maps/ERA_5_occultation_colocated_TLS/september_2015_ERA_5_colocated_occultations.npy', allow_pickle=True)\n",
    "sep_16 = np.load('/usb/ERA_5_sythetic_TLS_maps/ERA_5_occultation_colocated_TLS/september_2016_ERA_5_colocated_occultations.npy', allow_pickle=True)\n",
    "sep_17 = np.load('/usb/ERA_5_sythetic_TLS_maps/ERA_5_occultation_colocated_TLS/september_2017_ERA_5_colocated_occultations.npy', allow_pickle=True)\n",
    "sep_18 = np.load('/usb/ERA_5_sythetic_TLS_maps/ERA_5_occultation_colocated_TLS/september_2018_ERA_5_colocated_occultations.npy', allow_pickle=True)\n",
    "sep_19 = np.load('/usb/ERA_5_sythetic_TLS_maps/ERA_5_occultation_colocated_TLS/september_2019_ERA_5_colocated_occultations.npy', allow_pickle=True)\n",
    "sep_20 = np.load('/usb/ERA_5_sythetic_TLS_maps/ERA_5_occultation_colocated_TLS/september_2020_ERA_5_colocated_occultations.npy', allow_pickle=True)\n",
    "\n",
    "\n",
    "sep_combined = np.concatenate([sep_06, sep_07, sep_08, sep_09, sep_10, sep_11, sep_12, sep_13, sep_14, sep_15, \n",
    "                               sep_16, sep_17, sep_18,sep_19, sep_20])\n",
    "colocations_df = pd.DataFrame(sep_combined, columns=['Day', 'Hour', 'Year', 'Lat', 'Lon', 'Temp'])\n",
    "colocations_df['Lon'] = colocations_df['Lon'] - 180\n",
    "\n",
    "colocations_df_upper  = colocations_df[colocations_df['Lon'] >= 0]\n",
    "colocations_df_lower = colocations_df[colocations_df['Lon'] < 0]\n",
    "\n",
    "colocations_df_upper['Lon'] = colocations_df_upper['Lon'] - 180\n",
    "colocations_df_lower['Lon'] = colocations_df_lower['Lon'] + 180\n",
    "\n",
    "colocations_sep_df = pd.concat([colocations_df_upper, colocations_df_lower])\n",
    "colocations_sep_df['Year'] = colocations_sep_df['Year'].astype(int)\n",
    "#######################################################################################################\n",
    "\n",
    "era_5_sep_06_5x10 = np.load('../../ERA_5_monthly_TLS_maps/september_2006_ERA_5_daily_zonal_mean_TLS_map_5_10.npy', allow_pickle=True)\n",
    "era_5_sep_07_5x10 = np.load('../../ERA_5_monthly_TLS_maps/september_2007_ERA_5_daily_zonal_mean_TLS_map_5_10.npy', allow_pickle=True)\n",
    "era_5_sep_08_5x10 = np.load('../../ERA_5_monthly_TLS_maps/september_2008_ERA_5_daily_zonal_mean_TLS_map_5_10.npy', allow_pickle=True)\n",
    "era_5_sep_09_5x10 = np.load('../../ERA_5_monthly_TLS_maps/september_2009_ERA_5_daily_zonal_mean_TLS_map_5_10.npy', allow_pickle=True)\n",
    "era_5_sep_10_5x10 = np.load('../../ERA_5_monthly_TLS_maps/september_2010_ERA_5_daily_zonal_mean_TLS_map_5_10.npy', allow_pickle=True)\n",
    "era_5_sep_11_5x10 = np.load('../../ERA_5_monthly_TLS_maps/september_2011_ERA_5_daily_zonal_mean_TLS_map_5_10.npy', allow_pickle=True)\n",
    "era_5_sep_12_5x10 = np.load('../../ERA_5_monthly_TLS_maps/september_2012_ERA_5_daily_zonal_mean_TLS_map_5_10.npy', allow_pickle=True)\n",
    "era_5_sep_13_5x10 = np.load('../../ERA_5_monthly_TLS_maps/september_2013_ERA_5_daily_zonal_mean_TLS_map_5_10.npy', allow_pickle=True)\n",
    "era_5_sep_14_5x10 = np.load('../../ERA_5_monthly_TLS_maps/september_2014_ERA_5_daily_zonal_mean_TLS_map_5_10.npy', allow_pickle=True)\n",
    "era_5_sep_15_5x10 = np.load('../../ERA_5_monthly_TLS_maps/september_2015_ERA_5_daily_zonal_mean_TLS_map_5_10.npy', allow_pickle=True)\n",
    "era_5_sep_16_5x10 = np.load('../../ERA_5_monthly_TLS_maps/september_2016_ERA_5_daily_zonal_mean_TLS_map_5_10.npy', allow_pickle=True)\n",
    "era_5_sep_17_5x10 = np.load('../../ERA_5_monthly_TLS_maps/september_2017_ERA_5_daily_zonal_mean_TLS_map_5_10.npy', allow_pickle=True)\n",
    "era_5_sep_18_5x10 = np.load('../../ERA_5_monthly_TLS_maps/september_2018_ERA_5_daily_zonal_mean_TLS_map_5_10.npy', allow_pickle=True)\n",
    "era_5_sep_19_5x10 = np.load('../../ERA_5_monthly_TLS_maps/september_2019_ERA_5_daily_zonal_mean_TLS_map_5_10.npy', allow_pickle=True)\n",
    "era_5_sep_20_5x10 = np.load('../../ERA_5_monthly_TLS_maps/september_2020_ERA_5_daily_zonal_mean_TLS_map_5_10.npy', allow_pickle=True)\n",
    "\n",
    "\n",
    "era_box_sep_combined = np.concatenate([era_5_sep_06_5x10, era_5_sep_07_5x10, era_5_sep_08_5x10, era_5_sep_09_5x10, era_5_sep_10_5x10,\n",
    "                                       era_5_sep_11_5x10, era_5_sep_12_5x10, era_5_sep_13_5x10, era_5_sep_14_5x10, \n",
    "                                       era_5_sep_15_5x10, era_5_sep_16_5x10, era_5_sep_17_5x10, era_5_sep_18_5x10,\n",
    "                                       era_5_sep_19_5x10, era_5_sep_20_5x10])\n",
    "box_sep_df = pd.DataFrame(era_box_sep_combined, columns=['Day', 'Hour', 'Year', 'Lat', 'Lon', 'Temp'])"
   ]
  },
  {
   "cell_type": "code",
   "execution_count": 3,
   "metadata": {},
   "outputs": [
    {
     "name": "stderr",
     "output_type": "stream",
     "text": [
      "/home/disk/p/aodhan/anaconda3/lib/python3.7/site-packages/ipykernel_launcher.py:26: SettingWithCopyWarning: \n",
      "A value is trying to be set on a copy of a slice from a DataFrame.\n",
      "Try using .loc[row_indexer,col_indexer] = value instead\n",
      "\n",
      "See the caveats in the documentation: http://pandas.pydata.org/pandas-docs/stable/user_guide/indexing.html#returning-a-view-versus-a-copy\n",
      "/home/disk/p/aodhan/anaconda3/lib/python3.7/site-packages/ipykernel_launcher.py:27: SettingWithCopyWarning: \n",
      "A value is trying to be set on a copy of a slice from a DataFrame.\n",
      "Try using .loc[row_indexer,col_indexer] = value instead\n",
      "\n",
      "See the caveats in the documentation: http://pandas.pydata.org/pandas-docs/stable/user_guide/indexing.html#returning-a-view-versus-a-copy\n"
     ]
    }
   ],
   "source": [
    "oct_06 = np.load('/usb/ERA_5_sythetic_TLS_maps/ERA_5_occultation_colocated_TLS/october_2006_ERA_5_colocated_occultations.npy', allow_pickle=True)\n",
    "oct_07 = np.load('/usb/ERA_5_sythetic_TLS_maps/ERA_5_occultation_colocated_TLS/october_2007_ERA_5_colocated_occultations.npy', allow_pickle=True)\n",
    "oct_08 = np.load('/usb/ERA_5_sythetic_TLS_maps/ERA_5_occultation_colocated_TLS/october_2008_ERA_5_colocated_occultations.npy', allow_pickle=True)\n",
    "oct_09 = np.load('/usb/ERA_5_sythetic_TLS_maps/ERA_5_occultation_colocated_TLS/october_2009_ERA_5_colocated_occultations.npy', allow_pickle=True)\n",
    "oct_10 = np.load('/usb/ERA_5_sythetic_TLS_maps/ERA_5_occultation_colocated_TLS/october_2010_ERA_5_colocated_occultations.npy', allow_pickle=True)\n",
    "oct_11 = np.load('/usb/ERA_5_sythetic_TLS_maps/ERA_5_occultation_colocated_TLS/october_2011_ERA_5_colocated_occultations.npy', allow_pickle=True)\n",
    "oct_12 = np.load('/usb/ERA_5_sythetic_TLS_maps/ERA_5_occultation_colocated_TLS/october_2012_ERA_5_colocated_occultations.npy', allow_pickle=True)\n",
    "oct_13 = np.load('/usb/ERA_5_sythetic_TLS_maps/ERA_5_occultation_colocated_TLS/october_2013_ERA_5_colocated_occultations.npy', allow_pickle=True)\n",
    "oct_14 = np.load('/usb/ERA_5_sythetic_TLS_maps/ERA_5_occultation_colocated_TLS/october_2014_ERA_5_colocated_occultations.npy', allow_pickle=True)\n",
    "oct_15 = np.load('/usb/ERA_5_sythetic_TLS_maps/ERA_5_occultation_colocated_TLS/october_2015_ERA_5_colocated_occultations.npy', allow_pickle=True)\n",
    "oct_16 = np.load('/usb/ERA_5_sythetic_TLS_maps/ERA_5_occultation_colocated_TLS/october_2016_ERA_5_colocated_occultations.npy', allow_pickle=True)\n",
    "oct_17 = np.load('/usb/ERA_5_sythetic_TLS_maps/ERA_5_occultation_colocated_TLS/october_2017_ERA_5_colocated_occultations.npy', allow_pickle=True)\n",
    "oct_18 = np.load('/usb/ERA_5_sythetic_TLS_maps/ERA_5_occultation_colocated_TLS/october_2018_ERA_5_colocated_occultations.npy', allow_pickle=True)\n",
    "oct_19 = np.load('/usb/ERA_5_sythetic_TLS_maps/ERA_5_occultation_colocated_TLS/october_2019_ERA_5_colocated_occultations.npy', allow_pickle=True)\n",
    "oct_20 = np.load('/usb/ERA_5_sythetic_TLS_maps/ERA_5_occultation_colocated_TLS/october_2020_ERA_5_colocated_occultations.npy', allow_pickle=True)\n",
    "\n",
    "\n",
    "oct_combined = np.concatenate([oct_06, oct_07, oct_08, oct_09, oct_10, oct_11, oct_12, oct_13, oct_14, oct_15, \n",
    "                               oct_16, oct_17, oct_18, oct_19, oct_20])\n",
    "colocations_df = pd.DataFrame(oct_combined, columns=['Day', 'Hour', 'Year', 'Lat', 'Lon', 'Temp'])\n",
    "colocations_df['Lon'] = colocations_df['Lon'] - 180\n",
    "\n",
    "colocations_df_upper  = colocations_df[colocations_df['Lon'] >= 0]\n",
    "colocations_df_lower = colocations_df[colocations_df['Lon'] < 0]\n",
    "\n",
    "colocations_df_upper['Lon'] = colocations_df_upper['Lon'] - 180\n",
    "colocations_df_lower['Lon'] = colocations_df_lower['Lon'] + 180\n",
    "\n",
    "colocations_oct_df = pd.concat([colocations_df_upper, colocations_df_lower])\n",
    "colocations_oct_df['Year'] = colocations_oct_df['Year'].astype(int)\n",
    "#######################################################################################################\n",
    "\n",
    "era_5_oct_06_5x10 = np.load('../../ERA_5_monthly_TLS_maps/october_2006_ERA_5_daily_zonal_mean_TLS_map_5_10.npy', allow_pickle=True)\n",
    "era_5_oct_07_5x10 = np.load('../../ERA_5_monthly_TLS_maps/october_2007_ERA_5_daily_zonal_mean_TLS_map_5_10.npy', allow_pickle=True)\n",
    "era_5_oct_08_5x10 = np.load('../../ERA_5_monthly_TLS_maps/october_2008_ERA_5_daily_zonal_mean_TLS_map_5_10.npy', allow_pickle=True)\n",
    "era_5_oct_09_5x10 = np.load('../../ERA_5_monthly_TLS_maps/october_2009_ERA_5_daily_zonal_mean_TLS_map_5_10.npy', allow_pickle=True)\n",
    "era_5_oct_10_5x10 = np.load('../../ERA_5_monthly_TLS_maps/october_2010_ERA_5_daily_zonal_mean_TLS_map_5_10.npy', allow_pickle=True)\n",
    "era_5_oct_11_5x10 = np.load('../../ERA_5_monthly_TLS_maps/october_2011_ERA_5_daily_zonal_mean_TLS_map_5_10.npy', allow_pickle=True)\n",
    "era_5_oct_12_5x10 = np.load('../../ERA_5_monthly_TLS_maps/october_2012_ERA_5_daily_zonal_mean_TLS_map_5_10.npy', allow_pickle=True)\n",
    "era_5_oct_13_5x10 = np.load('../../ERA_5_monthly_TLS_maps/october_2013_ERA_5_daily_zonal_mean_TLS_map_5_10.npy', allow_pickle=True)\n",
    "era_5_oct_14_5x10 = np.load('../../ERA_5_monthly_TLS_maps/october_2014_ERA_5_daily_zonal_mean_TLS_map_5_10.npy', allow_pickle=True)\n",
    "era_5_oct_15_5x10 = np.load('../../ERA_5_monthly_TLS_maps/october_2015_ERA_5_daily_zonal_mean_TLS_map_5_10.npy', allow_pickle=True)\n",
    "era_5_oct_16_5x10 = np.load('../../ERA_5_monthly_TLS_maps/october_2016_ERA_5_daily_zonal_mean_TLS_map_5_10.npy', allow_pickle=True)\n",
    "era_5_oct_17_5x10 = np.load('../../ERA_5_monthly_TLS_maps/october_2017_ERA_5_daily_zonal_mean_TLS_map_5_10.npy', allow_pickle=True)\n",
    "era_5_oct_18_5x10 = np.load('../../ERA_5_monthly_TLS_maps/october_2018_ERA_5_daily_zonal_mean_TLS_map_5_10.npy', allow_pickle=True)\n",
    "era_5_oct_19_5x10 = np.load('../../ERA_5_monthly_TLS_maps/october_2019_ERA_5_daily_zonal_mean_TLS_map_5_10.npy', allow_pickle=True)\n",
    "era_5_oct_20_5x10 = np.load('../../ERA_5_monthly_TLS_maps/october_2020_ERA_5_daily_zonal_mean_TLS_map_5_10.npy', allow_pickle=True)\n",
    "\n",
    "\n",
    "era_box_oct_combined = np.concatenate([era_5_oct_06_5x10, era_5_oct_07_5x10, era_5_oct_08_5x10, era_5_oct_09_5x10, era_5_oct_10_5x10,\n",
    "                                       era_5_oct_11_5x10, era_5_oct_12_5x10, era_5_oct_13_5x10, era_5_oct_14_5x10, \n",
    "                                       era_5_oct_15_5x10, era_5_oct_16_5x10, era_5_oct_17_5x10, era_5_oct_18_5x10,\n",
    "                                       era_5_oct_19_5x10, era_5_oct_20_5x10])\n",
    "box_oct_df = pd.DataFrame(era_box_oct_combined, columns=['Day', 'Hour', 'Year', 'Lat', 'Lon', 'Temp'])\n"
   ]
  },
  {
   "cell_type": "code",
   "execution_count": 4,
   "metadata": {},
   "outputs": [
    {
     "name": "stderr",
     "output_type": "stream",
     "text": [
      "/home/disk/p/aodhan/anaconda3/lib/python3.7/site-packages/ipykernel_launcher.py:25: SettingWithCopyWarning: \n",
      "A value is trying to be set on a copy of a slice from a DataFrame.\n",
      "Try using .loc[row_indexer,col_indexer] = value instead\n",
      "\n",
      "See the caveats in the documentation: http://pandas.pydata.org/pandas-docs/stable/user_guide/indexing.html#returning-a-view-versus-a-copy\n",
      "/home/disk/p/aodhan/anaconda3/lib/python3.7/site-packages/ipykernel_launcher.py:26: SettingWithCopyWarning: \n",
      "A value is trying to be set on a copy of a slice from a DataFrame.\n",
      "Try using .loc[row_indexer,col_indexer] = value instead\n",
      "\n",
      "See the caveats in the documentation: http://pandas.pydata.org/pandas-docs/stable/user_guide/indexing.html#returning-a-view-versus-a-copy\n"
     ]
    }
   ],
   "source": [
    "nov_06 = np.load('/usb/ERA_5_sythetic_TLS_maps/ERA_5_occultation_colocated_TLS/november_2006_ERA_5_colocated_occultations.npy', allow_pickle=True)\n",
    "nov_07 = np.load('/usb/ERA_5_sythetic_TLS_maps/ERA_5_occultation_colocated_TLS/november_2007_ERA_5_colocated_occultations.npy', allow_pickle=True)\n",
    "nov_08 = np.load('/usb/ERA_5_sythetic_TLS_maps/ERA_5_occultation_colocated_TLS/november_2008_ERA_5_colocated_occultations.npy', allow_pickle=True)\n",
    "nov_09 = np.load('/usb/ERA_5_sythetic_TLS_maps/ERA_5_occultation_colocated_TLS/november_2009_ERA_5_colocated_occultations.npy', allow_pickle=True)\n",
    "nov_10 = np.load('/usb/ERA_5_sythetic_TLS_maps/ERA_5_occultation_colocated_TLS/november_2010_ERA_5_colocated_occultations.npy', allow_pickle=True)\n",
    "nov_11 = np.load('/usb/ERA_5_sythetic_TLS_maps/ERA_5_occultation_colocated_TLS/november_2011_ERA_5_colocated_occultations.npy', allow_pickle=True)\n",
    "nov_12 = np.load('/usb/ERA_5_sythetic_TLS_maps/ERA_5_occultation_colocated_TLS/november_2012_ERA_5_colocated_occultations.npy', allow_pickle=True)\n",
    "nov_13 = np.load('/usb/ERA_5_sythetic_TLS_maps/ERA_5_occultation_colocated_TLS/november_2013_ERA_5_colocated_occultations.npy', allow_pickle=True)\n",
    "nov_14 = np.load('/usb/ERA_5_sythetic_TLS_maps/ERA_5_occultation_colocated_TLS/november_2014_ERA_5_colocated_occultations.npy', allow_pickle=True)\n",
    "nov_15 = np.load('/usb/ERA_5_sythetic_TLS_maps/ERA_5_occultation_colocated_TLS/november_2015_ERA_5_colocated_occultations.npy', allow_pickle=True)\n",
    "nov_16 = np.load('/usb/ERA_5_sythetic_TLS_maps/ERA_5_occultation_colocated_TLS/november_2016_ERA_5_colocated_occultations.npy', allow_pickle=True)\n",
    "nov_17 = np.load('/usb/ERA_5_sythetic_TLS_maps/ERA_5_occultation_colocated_TLS/november_2017_ERA_5_colocated_occultations.npy', allow_pickle=True)\n",
    "nov_18 = np.load('/usb/ERA_5_sythetic_TLS_maps/ERA_5_occultation_colocated_TLS/november_2018_ERA_5_colocated_occultations.npy', allow_pickle=True)\n",
    "nov_19 = np.load('/usb/ERA_5_sythetic_TLS_maps/ERA_5_occultation_colocated_TLS/november_2019_ERA_5_colocated_occultations.npy', allow_pickle=True)\n",
    "nov_20 = np.load('/usb/ERA_5_sythetic_TLS_maps/ERA_5_occultation_colocated_TLS/november_2020_ERA_5_colocated_occultations.npy', allow_pickle=True)\n",
    "\n",
    "nov_combined = np.concatenate([nov_06, nov_07, nov_08, nov_09, nov_10, nov_11, nov_12, nov_13, nov_14, \n",
    "                               nov_15, nov_16, nov_17, nov_18, nov_19, nov_20])\n",
    "colocations_df = pd.DataFrame(nov_combined, columns=['Day', 'Hour', 'Year', 'Lat', 'Lon', 'Temp'])\n",
    "colocations_df['Lon'] = colocations_df['Lon'] - 180\n",
    "\n",
    "colocations_df_upper  = colocations_df[colocations_df['Lon'] >= 0]\n",
    "colocations_df_lower = colocations_df[colocations_df['Lon'] < 0]\n",
    "\n",
    "colocations_df_upper['Lon'] = colocations_df_upper['Lon'] - 180\n",
    "colocations_df_lower['Lon'] = colocations_df_lower['Lon'] + 180\n",
    "\n",
    "colocations_nov_df = pd.concat([colocations_df_upper, colocations_df_lower])\n",
    "colocations_nov_df['Year'] = colocations_nov_df['Year'].astype(int)\n",
    "\n",
    "#######################################################################################################\n",
    "era_5_nov_06_5x10 = np.load('../../ERA_5_monthly_TLS_maps/november_2006_ERA_5_daily_zonal_mean_TLS_map_5_10.npy', allow_pickle=True)\n",
    "era_5_nov_07_5x10 = np.load('../../ERA_5_monthly_TLS_maps/november_2007_ERA_5_daily_zonal_mean_TLS_map_5_10.npy', allow_pickle=True)\n",
    "era_5_nov_08_5x10 = np.load('../../ERA_5_monthly_TLS_maps/november_2008_ERA_5_daily_zonal_mean_TLS_map_5_10.npy', allow_pickle=True)\n",
    "era_5_nov_09_5x10 = np.load('../../ERA_5_monthly_TLS_maps/november_2009_ERA_5_daily_zonal_mean_TLS_map_5_10.npy', allow_pickle=True)\n",
    "era_5_nov_10_5x10 = np.load('../../ERA_5_monthly_TLS_maps/november_2010_ERA_5_daily_zonal_mean_TLS_map_5_10.npy', allow_pickle=True)\n",
    "era_5_nov_11_5x10 = np.load('../../ERA_5_monthly_TLS_maps/november_2011_ERA_5_daily_zonal_mean_TLS_map_5_10.npy', allow_pickle=True)\n",
    "era_5_nov_12_5x10 = np.load('../../ERA_5_monthly_TLS_maps/november_2012_ERA_5_daily_zonal_mean_TLS_map_5_10.npy', allow_pickle=True)\n",
    "era_5_nov_13_5x10 = np.load('../../ERA_5_monthly_TLS_maps/november_2013_ERA_5_daily_zonal_mean_TLS_map_5_10.npy', allow_pickle=True)\n",
    "era_5_nov_14_5x10 = np.load('../../ERA_5_monthly_TLS_maps/november_2014_ERA_5_daily_zonal_mean_TLS_map_5_10.npy', allow_pickle=True)\n",
    "era_5_nov_15_5x10 = np.load('../../ERA_5_monthly_TLS_maps/november_2015_ERA_5_daily_zonal_mean_TLS_map_5_10.npy', allow_pickle=True)\n",
    "era_5_nov_16_5x10 = np.load('../../ERA_5_monthly_TLS_maps/november_2016_ERA_5_daily_zonal_mean_TLS_map_5_10.npy', allow_pickle=True)\n",
    "era_5_nov_17_5x10 = np.load('../../ERA_5_monthly_TLS_maps/november_2017_ERA_5_daily_zonal_mean_TLS_map_5_10.npy', allow_pickle=True)\n",
    "era_5_nov_18_5x10 = np.load('../../ERA_5_monthly_TLS_maps/november_2018_ERA_5_daily_zonal_mean_TLS_map_5_10.npy', allow_pickle=True)\n",
    "era_5_nov_19_5x10 = np.load('../../ERA_5_monthly_TLS_maps/november_2019_ERA_5_daily_zonal_mean_TLS_map_5_10.npy', allow_pickle=True)\n",
    "era_5_nov_20_5x10 = np.load('../../ERA_5_monthly_TLS_maps/november_2020_ERA_5_daily_zonal_mean_TLS_map_5_10.npy', allow_pickle=True)\n",
    "\n",
    "\n",
    "era_box_nov_combined = np.concatenate([era_5_nov_06_5x10, era_5_nov_07_5x10, era_5_nov_08_5x10, era_5_nov_09_5x10, \n",
    "                                       era_5_nov_10_5x10, era_5_nov_11_5x10, era_5_nov_12_5x10, era_5_nov_13_5x10, \n",
    "                                       era_5_nov_14_5x10, era_5_nov_15_5x10, era_5_nov_16_5x10, era_5_nov_17_5x10, \n",
    "                                       era_5_nov_18_5x10, era_5_nov_19_5x10, era_5_nov_20_5x10])\n",
    "box_nov_df = pd.DataFrame(era_box_nov_combined, columns=['Day', 'Hour', 'Year', 'Lat', 'Lon', 'Temp'])\n"
   ]
  },
  {
   "cell_type": "markdown",
   "metadata": {},
   "source": [
    "# Begin Processing of SON Colocations"
   ]
  },
  {
   "cell_type": "code",
   "execution_count": 5,
   "metadata": {},
   "outputs": [
    {
     "name": "stdout",
     "output_type": "stream",
     "text": [
      "2006\n"
     ]
    },
    {
     "name": "stderr",
     "output_type": "stream",
     "text": [
      "/home/disk/p/aodhan/cosmic/diurnal_cycle_corrections/sampling_biases/TLS_diurnal_climatology/gpsro_tools.py:196: SettingWithCopyWarning: \n",
      "A value is trying to be set on a copy of a slice from a DataFrame.\n",
      "Try using .loc[row_indexer,col_indexer] = value instead\n",
      "\n",
      "See the caveats in the documentation: http://pandas.pydata.org/pandas-docs/stable/user_guide/indexing.html#returning-a-view-versus-a-copy\n",
      "  year_of_occultations[\"latbin\"] = year_of_occultations.Lat.map(to_bin_lat)\n",
      "/home/disk/p/aodhan/cosmic/diurnal_cycle_corrections/sampling_biases/TLS_diurnal_climatology/gpsro_tools.py:197: SettingWithCopyWarning: \n",
      "A value is trying to be set on a copy of a slice from a DataFrame.\n",
      "Try using .loc[row_indexer,col_indexer] = value instead\n",
      "\n",
      "See the caveats in the documentation: http://pandas.pydata.org/pandas-docs/stable/user_guide/indexing.html#returning-a-view-versus-a-copy\n",
      "  year_of_occultations['lonbin'] = year_of_occultations.Lon.map(to_bin_lon)\n",
      "/home/disk/p/aodhan/anaconda3/lib/python3.7/site-packages/pandas/core/generic.py:5208: SettingWithCopyWarning: \n",
      "A value is trying to be set on a copy of a slice from a DataFrame.\n",
      "Try using .loc[row_indexer,col_indexer] = value instead\n",
      "\n",
      "See the caveats in the documentation: http://pandas.pydata.org/pandas-docs/stable/user_guide/indexing.html#returning-a-view-versus-a-copy\n",
      "  self[name] = value\n",
      "/home/disk/p/aodhan/cosmic/diurnal_cycle_corrections/sampling_biases/TLS_diurnal_climatology/gpsro_tools.py:37: FutureWarning: Interpreting tuple 'by' as a list of keys, rather than a single key. Use 'by=[...]' instead of 'by=(...)'. In the future, a tuple will always mean a single key.\n",
      "  grid_groups = season_of_cosmic_data.groupby((\"latbin\", 'lonbin'))\n",
      "/home/disk/p/aodhan/cosmic/diurnal_cycle_corrections/sampling_biases/TLS_diurnal_climatology/gpsro_tools.py:51: SettingWithCopyWarning: \n",
      "A value is trying to be set on a copy of a slice from a DataFrame\n",
      "\n",
      "See the caveats in the documentation: http://pandas.pydata.org/pandas-docs/stable/user_guide/indexing.html#returning-a-view-versus-a-copy\n",
      "  cosmic_grid_cell.dropna(subset=[\"Temp\"], inplace=True)\n",
      "/home/disk/p/aodhan/cosmic/diurnal_cycle_corrections/sampling_biases/TLS_diurnal_climatology/gpsro_tools.py:121: SettingWithCopyWarning: \n",
      "A value is trying to be set on a copy of a slice from a DataFrame.\n",
      "Try using .loc[row_indexer,col_indexer] = value instead\n",
      "\n",
      "See the caveats in the documentation: http://pandas.pydata.org/pandas-docs/stable/user_guide/indexing.html#returning-a-view-versus-a-copy\n",
      "  occultations_in_box['Temp'] = occultations_in_box['Temp'] - monthly_mean_in_box['Temp'].iloc[0]\n"
     ]
    },
    {
     "name": "stdout",
     "output_type": "stream",
     "text": [
      "2007\n",
      "2008\n",
      "2009\n",
      "2010\n",
      "2011\n",
      "2012\n",
      "2013\n",
      "2014\n",
      "2015\n",
      "2016\n",
      "2017\n",
      "2018\n",
      "2019\n",
      "2020\n",
      "2006\n",
      "2007\n",
      "2008\n",
      "2009\n",
      "2010\n",
      "2011\n",
      "2012\n",
      "2013\n",
      "2014\n",
      "2015\n",
      "2016\n",
      "2017\n",
      "2018\n",
      "2019\n",
      "2020\n",
      "2006\n",
      "2007\n",
      "2008\n",
      "2009\n",
      "2010\n",
      "2011\n",
      "2012\n",
      "2013\n",
      "2014\n",
      "2015\n",
      "2016\n",
      "2017\n",
      "2018\n",
      "2019\n",
      "2020\n"
     ]
    }
   ],
   "source": [
    "daily_era5_box_removal_sep = gpsro_tools.background_and_bias_remover(colocations_sep_df, box_sep_df)\n",
    "daily_era5_box_removal_oct = gpsro_tools.background_and_bias_remover(colocations_oct_df, box_oct_df)\n",
    "daily_era5_box_removal_nov = gpsro_tools.background_and_bias_remover(colocations_nov_df, box_nov_df)\n"
   ]
  },
  {
   "cell_type": "code",
   "execution_count": 10,
   "metadata": {},
   "outputs": [],
   "source": [
    "daily_era5_no_removal = pd.concat([colocations_sep_df, colocations_oct_df, colocations_nov_df])\n",
    "daily_era5_box_removal = pd.concat([daily_era5_box_removal_sep, daily_era5_box_removal_oct, \n",
    "                                    daily_era5_box_removal_nov])"
   ]
  },
  {
   "cell_type": "code",
   "execution_count": 11,
   "metadata": {},
   "outputs": [],
   "source": [
    "daily_era5_no_removal['latbin'] = daily_era5_no_removal.Lat.map(gpsro_tools.to_bin_lat)\n",
    "daily_era5_no_removal['lonbin'] = daily_era5_no_removal.Lon.map(gpsro_tools.to_bin_lon)\n",
    "\n",
    "final_hour_box = gpsro_tools.box_mean_remover(daily_era5_box_removal)\n",
    "final_hour_map = gpsro_tools.box_mean_remover(daily_era5_no_removal)\n",
    "\n",
    "diurnal_cycles_5_10_mean_removed_by_lats, diurnal_cycles_5_10_mean_removed_by_boxes = gpsro_tools.diurnal_binner(final_hour_box)\n",
    "diurnal_cycles_no_mean_removed_by_lats, diurnal_cycles_no_mean_removed_by_boxes = gpsro_tools.diurnal_binner(final_hour_map)"
   ]
  },
  {
   "cell_type": "code",
   "execution_count": 13,
   "metadata": {},
   "outputs": [],
   "source": [
    "np.save('SONfiles/SON_colocations_5x10_boxes', diurnal_cycles_5_10_mean_removed_by_boxes)\n",
    "np.save('SONfiles/SON_colocations_5x10_no_removal', diurnal_cycles_no_mean_removed_by_boxes)"
   ]
  },
  {
   "cell_type": "code",
   "execution_count": null,
   "metadata": {},
   "outputs": [],
   "source": []
  }
 ],
 "metadata": {
  "kernelspec": {
   "display_name": "Python 3",
   "language": "python",
   "name": "python3"
  },
  "language_info": {
   "codemirror_mode": {
    "name": "ipython",
    "version": 3
   },
   "file_extension": ".py",
   "mimetype": "text/x-python",
   "name": "python",
   "nbconvert_exporter": "python",
   "pygments_lexer": "ipython3",
   "version": "3.7.4"
  }
 },
 "nbformat": 4,
 "nbformat_minor": 4
}
