{
 "cells": [
  {
   "cell_type": "code",
   "execution_count": 1,
   "metadata": {},
   "outputs": [],
   "source": [
    "import numpy as np\n",
    "import pandas as pd\n",
    "import dask.dataframe as dd\n",
    "import era5_tools"
   ]
  },
  {
   "cell_type": "markdown",
   "metadata": {},
   "source": [
    "# Import ERA-5 JJA data"
   ]
  },
  {
   "cell_type": "code",
   "execution_count": 2,
   "metadata": {},
   "outputs": [],
   "source": [
    "era_5_jun_06  = np.load('../../ERA_5_monthly_TLS_maps/june_2006_ERA_5_daily_zonal_mean_TLS_map_5_10.npy', allow_pickle=True)\n",
    "era_5_jun_07  = np.load('../../ERA_5_monthly_TLS_maps/june_2007_ERA_5_daily_zonal_mean_TLS_map_5_10.npy', allow_pickle=True)\n",
    "era_5_jun_08  = np.load('../../ERA_5_monthly_TLS_maps/june_2008_ERA_5_daily_zonal_mean_TLS_map_5_10.npy', allow_pickle=True)\n",
    "era_5_jun_09  = np.load('../../ERA_5_monthly_TLS_maps/june_2009_ERA_5_daily_zonal_mean_TLS_map_5_10.npy', allow_pickle=True)\n",
    "era_5_jun_10  = np.load('../../ERA_5_monthly_TLS_maps/june_2010_ERA_5_daily_zonal_mean_TLS_map_5_10.npy', allow_pickle=True)\n",
    "era_5_jun_11  = np.load('../../ERA_5_monthly_TLS_maps/june_2011_ERA_5_daily_zonal_mean_TLS_map_5_10.npy', allow_pickle=True)\n",
    "era_5_jun_12  = np.load('../../ERA_5_monthly_TLS_maps/june_2012_ERA_5_daily_zonal_mean_TLS_map_5_10.npy', allow_pickle=True)\n",
    "era_5_jun_13  = np.load('../../ERA_5_monthly_TLS_maps/june_2013_ERA_5_daily_zonal_mean_TLS_map_5_10.npy', allow_pickle=True)\n",
    "era_5_jun_14  = np.load('../../ERA_5_monthly_TLS_maps/june_2014_ERA_5_daily_zonal_mean_TLS_map_5_10.npy', allow_pickle=True)\n",
    "era_5_jun_15  = np.load('../../ERA_5_monthly_TLS_maps/june_2015_ERA_5_daily_zonal_mean_TLS_map_5_10.npy', allow_pickle=True)\n",
    "era_5_jun_16  = np.load('../../ERA_5_monthly_TLS_maps/june_2016_ERA_5_daily_zonal_mean_TLS_map_5_10.npy', allow_pickle=True)\n",
    "era_5_jun_17  = np.load('../../ERA_5_monthly_TLS_maps/june_2017_ERA_5_daily_zonal_mean_TLS_map_5_10.npy', allow_pickle=True)\n",
    "era_5_jun_18  = np.load('../../ERA_5_monthly_TLS_maps/june_2018_ERA_5_daily_zonal_mean_TLS_map_5_10.npy', allow_pickle=True)\n",
    "era_5_jun_19  = np.load('../../ERA_5_monthly_TLS_maps/june_2019_ERA_5_daily_zonal_mean_TLS_map_5_10.npy', allow_pickle=True)\n",
    "era_5_jun_20  = np.load('../../ERA_5_monthly_TLS_maps/june_2020_ERA_5_daily_zonal_mean_TLS_map_5_10.npy', allow_pickle=True)\n",
    "\n",
    "era_5_jul_06  = np.load('../../ERA_5_monthly_TLS_maps/july_2006_ERA_5_daily_zonal_mean_TLS_map_5_10.npy', allow_pickle=True)\n",
    "era_5_jul_07  = np.load('../../ERA_5_monthly_TLS_maps/july_2007_ERA_5_daily_zonal_mean_TLS_map_5_10.npy', allow_pickle=True)\n",
    "era_5_jul_08  = np.load('../../ERA_5_monthly_TLS_maps/july_2008_ERA_5_daily_zonal_mean_TLS_map_5_10.npy', allow_pickle=True)\n",
    "era_5_jul_09  = np.load('../../ERA_5_monthly_TLS_maps/july_2009_ERA_5_daily_zonal_mean_TLS_map_5_10.npy', allow_pickle=True)\n",
    "era_5_jul_10  = np.load('../../ERA_5_monthly_TLS_maps/july_2010_ERA_5_daily_zonal_mean_TLS_map_5_10.npy', allow_pickle=True)\n",
    "era_5_jul_11  = np.load('../../ERA_5_monthly_TLS_maps/july_2011_ERA_5_daily_zonal_mean_TLS_map_5_10.npy', allow_pickle=True)\n",
    "era_5_jul_12  = np.load('../../ERA_5_monthly_TLS_maps/july_2012_ERA_5_daily_zonal_mean_TLS_map_5_10.npy', allow_pickle=True)\n",
    "era_5_jul_13  = np.load('../../ERA_5_monthly_TLS_maps/july_2013_ERA_5_daily_zonal_mean_TLS_map_5_10.npy', allow_pickle=True)\n",
    "era_5_jul_14  = np.load('../../ERA_5_monthly_TLS_maps/july_2014_ERA_5_daily_zonal_mean_TLS_map_5_10.npy', allow_pickle=True)\n",
    "era_5_jul_15  = np.load('../../ERA_5_monthly_TLS_maps/july_2015_ERA_5_daily_zonal_mean_TLS_map_5_10.npy', allow_pickle=True)\n",
    "era_5_jul_16  = np.load('../../ERA_5_monthly_TLS_maps/july_2016_ERA_5_daily_zonal_mean_TLS_map_5_10.npy', allow_pickle=True)\n",
    "era_5_jul_17  = np.load('../../ERA_5_monthly_TLS_maps/july_2017_ERA_5_daily_zonal_mean_TLS_map_5_10.npy', allow_pickle=True)\n",
    "era_5_jul_18  = np.load('../../ERA_5_monthly_TLS_maps/july_2018_ERA_5_daily_zonal_mean_TLS_map_5_10.npy', allow_pickle=True)\n",
    "era_5_jul_19  = np.load('../../ERA_5_monthly_TLS_maps/july_2019_ERA_5_daily_zonal_mean_TLS_map_5_10.npy', allow_pickle=True)\n",
    "era_5_jul_20  = np.load('../../ERA_5_monthly_TLS_maps/july_2020_ERA_5_daily_zonal_mean_TLS_map_5_10.npy', allow_pickle=True)\n",
    "\n",
    "era_5_aug_06  = np.load('../../ERA_5_monthly_TLS_maps/august_2006_ERA_5_daily_zonal_mean_TLS_map_5_10.npy', allow_pickle=True)\n",
    "era_5_aug_07  = np.load('../../ERA_5_monthly_TLS_maps/august_2007_ERA_5_daily_zonal_mean_TLS_map_5_10.npy', allow_pickle=True)\n",
    "era_5_aug_08  = np.load('../../ERA_5_monthly_TLS_maps/august_2008_ERA_5_daily_zonal_mean_TLS_map_5_10.npy', allow_pickle=True)\n",
    "era_5_aug_09  = np.load('../../ERA_5_monthly_TLS_maps/august_2009_ERA_5_daily_zonal_mean_TLS_map_5_10.npy', allow_pickle=True)\n",
    "era_5_aug_10  = np.load('../../ERA_5_monthly_TLS_maps/august_2010_ERA_5_daily_zonal_mean_TLS_map_5_10.npy', allow_pickle=True)\n",
    "era_5_aug_11  = np.load('../../ERA_5_monthly_TLS_maps/august_2011_ERA_5_daily_zonal_mean_TLS_map_5_10.npy', allow_pickle=True)\n",
    "era_5_aug_12  = np.load('../../ERA_5_monthly_TLS_maps/august_2012_ERA_5_daily_zonal_mean_TLS_map_5_10.npy', allow_pickle=True)\n",
    "era_5_aug_13  = np.load('../../ERA_5_monthly_TLS_maps/august_2013_ERA_5_daily_zonal_mean_TLS_map_5_10.npy', allow_pickle=True)\n",
    "era_5_aug_14  = np.load('../../ERA_5_monthly_TLS_maps/august_2014_ERA_5_daily_zonal_mean_TLS_map_5_10.npy', allow_pickle=True)\n",
    "era_5_aug_15  = np.load('../../ERA_5_monthly_TLS_maps/august_2015_ERA_5_daily_zonal_mean_TLS_map_5_10.npy', allow_pickle=True)\n",
    "era_5_aug_16  = np.load('../../ERA_5_monthly_TLS_maps/august_2016_ERA_5_daily_zonal_mean_TLS_map_5_10.npy', allow_pickle=True)\n",
    "era_5_aug_17  = np.load('../../ERA_5_monthly_TLS_maps/august_2017_ERA_5_daily_zonal_mean_TLS_map_5_10.npy', allow_pickle=True)\n",
    "era_5_aug_18  = np.load('../../ERA_5_monthly_TLS_maps/august_2018_ERA_5_daily_zonal_mean_TLS_map_5_10.npy', allow_pickle=True)\n",
    "era_5_aug_19  = np.load('../../ERA_5_monthly_TLS_maps/august_2019_ERA_5_daily_zonal_mean_TLS_map_5_10.npy', allow_pickle=True)\n",
    "era_5_aug_20  = np.load('../../ERA_5_monthly_TLS_maps/august_2020_ERA_5_daily_zonal_mean_TLS_map_5_10.npy', allow_pickle=True)\n",
    "\n",
    "era5_jja = np.concatenate([era_5_jun_06, era_5_jun_07, era_5_jun_08, era_5_jun_09, era_5_jun_10, era_5_jun_11, \n",
    "                           era_5_jun_12, era_5_jun_13, era_5_jun_14, era_5_jun_15, era_5_jun_16, era_5_jun_17, \n",
    "                           era_5_jun_18, era_5_jun_19, era_5_jun_20, era_5_jul_06, era_5_jul_07, era_5_jul_08, \n",
    "                           era_5_jul_09, era_5_jul_10, era_5_jul_11, era_5_jul_12, era_5_jul_13, era_5_jul_14, \n",
    "                           era_5_jul_15, era_5_jul_16, era_5_jul_17, era_5_jul_18, era_5_jul_19, era_5_jul_20, \n",
    "                           era_5_aug_06, era_5_aug_07, era_5_aug_08, era_5_aug_09, era_5_aug_10, era_5_aug_11, \n",
    "                           era_5_aug_12, era_5_aug_13, era_5_aug_14, era_5_aug_15, era_5_aug_16, era_5_aug_17,\n",
    "                           era_5_aug_18, era_5_aug_19, era_5_aug_20])\n",
    "\n",
    "era_5_jja_df = pd.DataFrame(era5_jja, columns=['Day', 'Hour', 'Year', 'Lat', 'Lon', 'Temp'])"
   ]
  },
  {
   "cell_type": "code",
   "execution_count": 3,
   "metadata": {},
   "outputs": [
    {
     "name": "stdout",
     "output_type": "stream",
     "text": [
      "2006\n"
     ]
    },
    {
     "name": "stderr",
     "output_type": "stream",
     "text": [
      "/home/disk/p/aodhan/anaconda3/lib/python3.7/site-packages/pandas/core/generic.py:5208: SettingWithCopyWarning: \n",
      "A value is trying to be set on a copy of a slice from a DataFrame.\n",
      "Try using .loc[row_indexer,col_indexer] = value instead\n",
      "\n",
      "See the caveats in the documentation: http://pandas.pydata.org/pandas-docs/stable/user_guide/indexing.html#returning-a-view-versus-a-copy\n",
      "  self[name] = value\n"
     ]
    },
    {
     "name": "stdout",
     "output_type": "stream",
     "text": [
      "2007\n",
      "2008\n",
      "2009\n",
      "2010\n",
      "2011\n",
      "2012\n",
      "2013\n",
      "2014\n",
      "2015\n",
      "2016\n",
      "2017\n",
      "2018\n",
      "2019\n",
      "2020\n"
     ]
    }
   ],
   "source": [
    "daily_mean_removed = era5_tools.daily_mean_remover(era_5_jja_df)"
   ]
  },
  {
   "cell_type": "code",
   "execution_count": null,
   "metadata": {},
   "outputs": [
    {
     "name": "stdout",
     "output_type": "stream",
     "text": [
      "Lat done:  -90\n"
     ]
    }
   ],
   "source": [
    "daily_mean_removed['hourbin'] = daily_mean_removed.Hour.map(era5_tools.to_bin_hour)\n",
    "sorted_dd = era5_tools.df_organizer(daily_mean_removed)\n",
    "cycles_in_boxes = era5_tools.diurnal_binner(sorted_dd)"
   ]
  },
  {
   "cell_type": "code",
   "execution_count": null,
   "metadata": {},
   "outputs": [],
   "source": []
  }
 ],
 "metadata": {
  "kernelspec": {
   "display_name": "Python 3",
   "language": "python",
   "name": "python3"
  },
  "language_info": {
   "codemirror_mode": {
    "name": "ipython",
    "version": 3
   },
   "file_extension": ".py",
   "mimetype": "text/x-python",
   "name": "python",
   "nbconvert_exporter": "python",
   "pygments_lexer": "ipython3",
   "version": "3.7.4"
  }
 },
 "nbformat": 4,
 "nbformat_minor": 4
}
